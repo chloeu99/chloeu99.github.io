{
 "cells": [
  {
   "cell_type": "markdown",
   "metadata": {},
   "source": [
    "[chloeuhls.github.io](https://chloeu99.github.io/)"
   ]
  },
  {
   "cell_type": "markdown",
   "metadata": {},
   "source": [
    "Data Science Final Tutorial\n",
    "Jacob Waxman and Chloe Uhls"
   ]
  },
  {
   "cell_type": "markdown",
   "metadata": {},
   "source": [
    "# Analysis Of Homelessness In The United States"
   ]
  },
  {
   "cell_type": "markdown",
   "metadata": {},
   "source": [
    "### Introduction"
   ]
  },
  {
   "cell_type": "markdown",
   "metadata": {},
   "source": [
    "For our final tutorial we will be analyzing homelessness in the United States. We are diving into the current state of homelessness, the change over time, and factors that have the biggest impact on homelessness. Furthermore, we will break down our analysis on a national level and at the state level, highlighting the observations we find in Louisiana. Stats that we will be looking for include total homeless population, rate of homelessness, and demographics. We will also look for variables correlating with the rate of homelessness at the state level. These factors will include geographic location, local politics, and minimum wage. \n",
    "\n",
    "We will divide our analysis into 3 parts.\n",
    "\n",
    "#### 1. National Observations - Analyzing Key Homeless Statistics \n",
    "\n",
    "#### 2. Correlated Variables Impacts - Analyzing On A State-By-State Basis, Highlighting Louisiana and Correlated Variables\n",
    "\n",
    "#### 3. Conclusions and Predictions - Homelessness Takeaways and Predicting The State Of Homelessness in 2021 and Beyond"
   ]
  },
  {
   "cell_type": "markdown",
   "metadata": {},
   "source": [
    "### Collaboration Plan"
   ]
  },
  {
   "cell_type": "markdown",
   "metadata": {},
   "source": [
    "Throughout the semester we will be meeting twice a week to work on our project. We will meet virtually via Zoom and in person depending on the week. We have a Github repository (https://github.com/chloeu99/chloeu99.github.io) to collaborate and save our coding progress. We use Google Docs for written reports, then upload it to Github to keep everything organized. In terms of coding, we will use the same strategies that we learned in class: Python coding and data scraping and the pandas library for analysis."
   ]
  },
  {
   "cell_type": "markdown",
   "metadata": {},
   "source": [
    "### Datasets Used"
   ]
  },
  {
   "cell_type": "markdown",
   "metadata": {},
   "source": [
    "#### 1. 2007 - 2020 PIT (Point In Time) Estimates by State from HUD exchange                                                         \n",
    "\n",
    "Link: https://www.huduser.gov/portal/sites/default/files/xls/2007-2020-PIT-Estimates-by-state.xlsx\n",
    "\n",
    "This data was really exciting to find. The HUD does a great job posting their records on a yearly basis. We downloaded the excel sheet and uploaded it to our public Github. The spreadsheet breaks homelessness down into specific categories including total homelessness by state, demographics, and status of homeless citizens (sheltered, unsheltered, etc). \n",
    "\n",
    "Example Questions: How many people are homeless in Louisiana? Is one gender or one race more likely to be homeless on a national level? What is the change in national homelessness from 2007 to 2020?\n",
    "\n",
    "\n",
    "#### 2. List Of US States By Historical Population\n",
    "\n",
    "Link: https://en.wikipedia.org/wiki/List_of_U.S._states_and_territories_by_historical_population\n",
    "\n",
    "This Wikipedia table holds the census data for the population of each state every 10 years. It will be helpful when both the 2020 status of homelessness, and analyzing change of homeless over time. We can sum up each state to find total population and break down the country by states. \n",
    "\n",
    "Example Question: In the HUD data it is clear that California has the highest homeless population, but is it a higher population out of their total population than other states?\n",
    "\n",
    "\n",
    "#### 3. Minimum Wage By State (2021)\n",
    "\n",
    "Link: https://minimumwage.com/in-your-state/\n",
    "\n",
    "This data contains a table of each state and their minimum wage. The federal minimum wage has been stagnant at $7.25 since 2009. Not all states have required a higher state-wide minimum wage, but we expect that those with their own regulations will have a lower homeless population.\n",
    "\n",
    "Example Questions: Is there a correlation between a state's minimum wage and homeless population?\n",
    "\n",
    "#### 4. Electoral College Results By State (1980-2020)\n",
    "\n",
    "Link: https://en.wikipedia.org/wiki/List_of_United_States_presidential_election_results_by_state\n",
    "\n",
    "We went to Wikipedia to find the state-wide Electoral College results for Presidential Elections. We will be analyzing election results from 1980 to 2020, and will look to see if a state's political consciounce is correlated with its homeless population.\n",
    "\n",
    "Example Questions: Is there any correlation between a states politics and homeless population? How has national homeless changed as the presidency has changed?\n",
    "\n",
    "#### 5. Average Temperature By State (2019)\n",
    "\n",
    "Link: https://worldpopulationreview.com/state-rankings/average-temperatures-by-state\n",
    "\n",
    "We are predicting that there is a higher homeless population in warmer states. This will be used as an ease-in analysis, something that we believe is fairly obvious. It will show our approach when working with the dataframe.\n",
    "\n",
    "Example question: Does the coldest state have the lowest homeless population?"
   ]
  },
  {
   "cell_type": "markdown",
   "metadata": {},
   "source": [
    "# Data Collection"
   ]
  },
  {
   "cell_type": "code",
   "execution_count": 144,
   "metadata": {},
   "outputs": [
    {
     "data": {
      "text/html": [
       "<style>.container { width:95% !important; }</style>"
      ],
      "text/plain": [
       "<IPython.core.display.HTML object>"
      ]
     },
     "metadata": {},
     "output_type": "display_data"
    }
   ],
   "source": [
    "import requests\n",
    "import json\n",
    "import pandas as pd\n",
    "import seaborn as sns\n",
    "import matplotlib.pyplot as plt\n",
    "import numpy as np\n",
    "import geopandas\n",
    "import io\n",
    "from bs4 import BeautifulSoup\n",
    "# These two things are for Pandas, it widens the notebook and lets us display data easily.\n",
    "from IPython.core.display import display, HTML\n",
    "display(HTML(\"<style>.container { width:95% !important; }</style>\"))\n",
    "pd.options.mode.chained_assignment = None "
   ]
  },
  {
   "cell_type": "markdown",
   "metadata": {},
   "source": [
    "### HUD PIT (Point In Time) Homelessness Report (2020)"
   ]
  },
  {
   "cell_type": "code",
   "execution_count": 145,
   "metadata": {},
   "outputs": [
    {
     "data": {
      "text/html": [
       "<div>\n",
       "<style scoped>\n",
       "    .dataframe tbody tr th:only-of-type {\n",
       "        vertical-align: middle;\n",
       "    }\n",
       "\n",
       "    .dataframe tbody tr th {\n",
       "        vertical-align: top;\n",
       "    }\n",
       "\n",
       "    .dataframe thead th {\n",
       "        text-align: right;\n",
       "    }\n",
       "</style>\n",
       "<table border=\"1\" class=\"dataframe\">\n",
       "  <thead>\n",
       "    <tr style=\"text-align: right;\">\n",
       "      <th></th>\n",
       "      <th>State</th>\n",
       "      <th>Overall Homeless, 2020</th>\n",
       "      <th>Overall Homeless - Under 18, 2020</th>\n",
       "      <th>Overall Homeless - Age 18 to 24, 2020</th>\n",
       "      <th>Overall Homeless - Over 24, 2020</th>\n",
       "      <th>Overall Homeless - Female, 2020</th>\n",
       "      <th>Overall Homeless - Male, 2020</th>\n",
       "      <th>Overall Homeless - Transgender, 2020</th>\n",
       "      <th>Overall Homeless - Gender Non-Conforming, 2020</th>\n",
       "      <th>Overall Homeless - Hispanic/Latino, 2020</th>\n",
       "      <th>Overall Homeless - White, 2020</th>\n",
       "      <th>Overall Homeless - Black or African American, 2020</th>\n",
       "      <th>Overall Homeless - Asian, 2020</th>\n",
       "      <th>Overall Homeless - American Indian or Alaska Native, 2020</th>\n",
       "      <th>Overall Homeless - Native Hawaiian or Other Pacific Islander, 2020</th>\n",
       "      <th>Overall Homeless - Multiple Races, 2020</th>\n",
       "      <th>State ID</th>\n",
       "    </tr>\n",
       "  </thead>\n",
       "  <tbody>\n",
       "    <tr>\n",
       "      <th>0</th>\n",
       "      <td>Alaska</td>\n",
       "      <td>1949</td>\n",
       "      <td>326</td>\n",
       "      <td>197</td>\n",
       "      <td>1426</td>\n",
       "      <td>828</td>\n",
       "      <td>1114</td>\n",
       "      <td>3</td>\n",
       "      <td>4</td>\n",
       "      <td>126</td>\n",
       "      <td>634</td>\n",
       "      <td>137</td>\n",
       "      <td>22</td>\n",
       "      <td>890</td>\n",
       "      <td>40</td>\n",
       "      <td>226</td>\n",
       "      <td>AK</td>\n",
       "    </tr>\n",
       "    <tr>\n",
       "      <th>1</th>\n",
       "      <td>Alabama</td>\n",
       "      <td>3351</td>\n",
       "      <td>528</td>\n",
       "      <td>198</td>\n",
       "      <td>2625</td>\n",
       "      <td>1294</td>\n",
       "      <td>1988</td>\n",
       "      <td>9</td>\n",
       "      <td>4</td>\n",
       "      <td>126</td>\n",
       "      <td>1462</td>\n",
       "      <td>1755</td>\n",
       "      <td>2</td>\n",
       "      <td>37</td>\n",
       "      <td>11</td>\n",
       "      <td>73</td>\n",
       "      <td>AL</td>\n",
       "    </tr>\n",
       "    <tr>\n",
       "      <th>2</th>\n",
       "      <td>Arkansas</td>\n",
       "      <td>2366</td>\n",
       "      <td>195</td>\n",
       "      <td>258</td>\n",
       "      <td>1913</td>\n",
       "      <td>798</td>\n",
       "      <td>1561</td>\n",
       "      <td>5</td>\n",
       "      <td>2</td>\n",
       "      <td>53</td>\n",
       "      <td>1353</td>\n",
       "      <td>901</td>\n",
       "      <td>4</td>\n",
       "      <td>42</td>\n",
       "      <td>21</td>\n",
       "      <td>45</td>\n",
       "      <td>AR</td>\n",
       "    </tr>\n",
       "    <tr>\n",
       "      <th>4</th>\n",
       "      <td>Arizona</td>\n",
       "      <td>10979</td>\n",
       "      <td>1722</td>\n",
       "      <td>824</td>\n",
       "      <td>8433</td>\n",
       "      <td>4228</td>\n",
       "      <td>6694</td>\n",
       "      <td>43</td>\n",
       "      <td>14</td>\n",
       "      <td>2355</td>\n",
       "      <td>6901</td>\n",
       "      <td>2289</td>\n",
       "      <td>77</td>\n",
       "      <td>1027</td>\n",
       "      <td>60</td>\n",
       "      <td>625</td>\n",
       "      <td>AZ</td>\n",
       "    </tr>\n",
       "    <tr>\n",
       "      <th>5</th>\n",
       "      <td>California</td>\n",
       "      <td>161548</td>\n",
       "      <td>16141</td>\n",
       "      <td>13391</td>\n",
       "      <td>132016</td>\n",
       "      <td>53505</td>\n",
       "      <td>105737</td>\n",
       "      <td>1601</td>\n",
       "      <td>705</td>\n",
       "      <td>51966</td>\n",
       "      <td>87439</td>\n",
       "      <td>49610</td>\n",
       "      <td>3240</td>\n",
       "      <td>6386</td>\n",
       "      <td>1784</td>\n",
       "      <td>13089</td>\n",
       "      <td>CA</td>\n",
       "    </tr>\n",
       "  </tbody>\n",
       "</table>\n",
       "</div>"
      ],
      "text/plain": [
       "        State Overall Homeless, 2020 Overall Homeless - Under 18, 2020  \\\n",
       "0      Alaska                   1949                               326   \n",
       "1     Alabama                   3351                               528   \n",
       "2    Arkansas                   2366                               195   \n",
       "4     Arizona                  10979                              1722   \n",
       "5  California                 161548                             16141   \n",
       "\n",
       "  Overall Homeless - Age 18 to 24, 2020 Overall Homeless - Over 24, 2020  \\\n",
       "0                                   197                             1426   \n",
       "1                                   198                             2625   \n",
       "2                                   258                             1913   \n",
       "4                                   824                             8433   \n",
       "5                                 13391                           132016   \n",
       "\n",
       "  Overall Homeless - Female, 2020 Overall Homeless - Male, 2020  \\\n",
       "0                             828                          1114   \n",
       "1                            1294                          1988   \n",
       "2                             798                          1561   \n",
       "4                            4228                          6694   \n",
       "5                           53505                        105737   \n",
       "\n",
       "  Overall Homeless - Transgender, 2020  \\\n",
       "0                                    3   \n",
       "1                                    9   \n",
       "2                                    5   \n",
       "4                                   43   \n",
       "5                                 1601   \n",
       "\n",
       "  Overall Homeless - Gender Non-Conforming, 2020  \\\n",
       "0                                              4   \n",
       "1                                              4   \n",
       "2                                              2   \n",
       "4                                             14   \n",
       "5                                            705   \n",
       "\n",
       "  Overall Homeless - Hispanic/Latino, 2020 Overall Homeless - White, 2020  \\\n",
       "0                                      126                            634   \n",
       "1                                      126                           1462   \n",
       "2                                       53                           1353   \n",
       "4                                     2355                           6901   \n",
       "5                                    51966                          87439   \n",
       "\n",
       "  Overall Homeless - Black or African American, 2020  \\\n",
       "0                                                137   \n",
       "1                                               1755   \n",
       "2                                                901   \n",
       "4                                               2289   \n",
       "5                                              49610   \n",
       "\n",
       "  Overall Homeless - Asian, 2020  \\\n",
       "0                             22   \n",
       "1                              2   \n",
       "2                              4   \n",
       "4                             77   \n",
       "5                           3240   \n",
       "\n",
       "  Overall Homeless - American Indian or Alaska Native, 2020  \\\n",
       "0                                                890          \n",
       "1                                                 37          \n",
       "2                                                 42          \n",
       "4                                               1027          \n",
       "5                                               6386          \n",
       "\n",
       "  Overall Homeless - Native Hawaiian or Other Pacific Islander, 2020  \\\n",
       "0                                                 40                   \n",
       "1                                                 11                   \n",
       "2                                                 21                   \n",
       "4                                                 60                   \n",
       "5                                               1784                   \n",
       "\n",
       "  Overall Homeless - Multiple Races, 2020 State ID  \n",
       "0                                     226       AK  \n",
       "1                                      73       AL  \n",
       "2                                      45       AR  \n",
       "4                                     625       AZ  \n",
       "5                                   13089       CA  "
      ]
     },
     "execution_count": 145,
     "metadata": {},
     "output_type": "execute_result"
    }
   ],
   "source": [
    "#reading in a HUD csv file from Github\n",
    "HUD2020 = pd.read_csv(\"./data/HUD2020.csv\")\n",
    "\n",
    "#keeps most relevant columns\n",
    "HUD2020 = HUD2020[[\"State\",\"Overall Homeless, 2020\",\"Overall Homeless - Under 18, 2020\", \"Overall Homeless - Age 18 to 24, 2020\", \"Overall Homeless - Over 24, 2020\", \"Overall Homeless - Female, 2020\", \"Overall Homeless - Male, 2020\", \"Overall Homeless - Transgender, 2020\", \"Overall Homeless - Gender Non-Conforming, 2020\",\"Overall Homeless - Hispanic/Latino, 2020\", \"Overall Homeless - White, 2020\", \"Overall Homeless - Black or African American, 2020\",\"Overall Homeless - Asian, 2020\", \"Overall Homeless - American Indian or Alaska Native, 2020\", \"Overall Homeless - Native Hawaiian or Other Pacific Islander, 2020\", \"Overall Homeless - Multiple Races, 2020\",]]\n",
    "\n",
    "#removes data from additional rows- only 50 states\n",
    "HUD2020 = HUD2020.drop([3,8,12,27,42,50,56,57])\n",
    "\n",
    "#columns for state name and id\n",
    "HUD2020[\"State ID\"] = HUD2020[\"State\"] \n",
    "HUD2020[\"State\"] = HUD2020[\"State\"].map({\"AK\":\"Alaska\", \"AL\":\"Alabama\", \"AR\": \"Arkansas\", \"AZ\": \"Arizona\", \"CA\":\"California\", \"CO\":\"Colorado\", \"CT\":\"Connecticut\", \"DE\":\"Delaware\",\"FL\":\"Florida\", \"GA\":\"Georgia\",\"HI\":\"Hawaii\",\"IA\":\"Iowa\",\"ID\":\"Idaho\",\"IL\":\"Illinois\",\"IN\":\"Indiana\",\"KS\":\"Kansas\",\"KY\":\"Kentucky\",\"LA\":\"Louisiana\",\"MA\":\"Massachusetts\",\"MD\":\"Maryland\",\"ME\":\"Maine\",\"MI\":\"Michigan\",\"MN\":\"Minnesota\", \"MO\":\"Missouri\",\"MS\":\"Mississippi\",\"MT\":\"Montana\",\"NC\":\"North Carolina\", \"ND\":\"North Dakota\",\"NE\":\"Nebraska\",\"NH\":\"New Hampshire\",\"NJ\":\"New Jersey\",\"NM\":\"New Mexico\",\"NV\":\"Nevada\",\"NY\":\"New York\",\"OH\":\"Ohio\",\"OK\":\"Oklahoma\",\"OR\":\"Oregon\",\"PA\":\"Pennsylvania\",\"RI\":\"Rhode Island\",\"SC\":\"South Carolina\",\"SD\":\"South Dakota\",\"TN\":\"Tennessee\",\"TX\":\"Texas\",\"UT\":\"Utah\",\"VA\":\"Virginia\",\"VT\":\"Vermont\",\"WA\":\"Washington\",\"WI\":\"Wisconsin\",\"WV\":\"West Virginia\",\"WY\":\"Wyoming\"})\n",
    "\n",
    "HUD2020.head()"
   ]
  },
  {
   "cell_type": "markdown",
   "metadata": {},
   "source": [
    "This table has a row for each state in the US and has a column for different homeless statistics including total people and by categories including age, gender, and race. We cleaned this table to only include the most relevant columns."
   ]
  },
  {
   "cell_type": "markdown",
   "metadata": {},
   "source": [
    "### 2020 State Census Data"
   ]
  },
  {
   "cell_type": "code",
   "execution_count": 146,
   "metadata": {},
   "outputs": [
    {
     "data": {
      "text/html": [
       "<div>\n",
       "<style scoped>\n",
       "    .dataframe tbody tr th:only-of-type {\n",
       "        vertical-align: middle;\n",
       "    }\n",
       "\n",
       "    .dataframe tbody tr th {\n",
       "        vertical-align: top;\n",
       "    }\n",
       "\n",
       "    .dataframe thead th {\n",
       "        text-align: right;\n",
       "    }\n",
       "</style>\n",
       "<table border=\"1\" class=\"dataframe\">\n",
       "  <thead>\n",
       "    <tr style=\"text-align: right;\">\n",
       "      <th></th>\n",
       "      <th>State</th>\n",
       "      <th>1980 Population</th>\n",
       "      <th>1990 Population</th>\n",
       "      <th>2000 Population</th>\n",
       "      <th>2010 Population</th>\n",
       "      <th>2020 Population</th>\n",
       "    </tr>\n",
       "  </thead>\n",
       "  <tbody>\n",
       "    <tr>\n",
       "      <th>0</th>\n",
       "      <td>Alabama</td>\n",
       "      <td>3893888</td>\n",
       "      <td>4040587</td>\n",
       "      <td>4447100</td>\n",
       "      <td>4779736</td>\n",
       "      <td>5024279</td>\n",
       "    </tr>\n",
       "    <tr>\n",
       "      <th>1</th>\n",
       "      <td>Alaska</td>\n",
       "      <td>401851</td>\n",
       "      <td>550043</td>\n",
       "      <td>626932</td>\n",
       "      <td>710231</td>\n",
       "      <td>733391</td>\n",
       "    </tr>\n",
       "    <tr>\n",
       "      <th>3</th>\n",
       "      <td>Arizona</td>\n",
       "      <td>2718215</td>\n",
       "      <td>3665228</td>\n",
       "      <td>5130632</td>\n",
       "      <td>6392017</td>\n",
       "      <td>7151502</td>\n",
       "    </tr>\n",
       "    <tr>\n",
       "      <th>4</th>\n",
       "      <td>Arkansas</td>\n",
       "      <td>2286435</td>\n",
       "      <td>2350725</td>\n",
       "      <td>2673400</td>\n",
       "      <td>2915918</td>\n",
       "      <td>3011524</td>\n",
       "    </tr>\n",
       "    <tr>\n",
       "      <th>5</th>\n",
       "      <td>California</td>\n",
       "      <td>23667902</td>\n",
       "      <td>29760021</td>\n",
       "      <td>33871648</td>\n",
       "      <td>37253956</td>\n",
       "      <td>39538223</td>\n",
       "    </tr>\n",
       "  </tbody>\n",
       "</table>\n",
       "</div>"
      ],
      "text/plain": [
       "        State 1980 Population 1990 Population 2000 Population 2010 Population  \\\n",
       "0     Alabama         3893888         4040587         4447100         4779736   \n",
       "1      Alaska          401851          550043          626932          710231   \n",
       "3     Arizona         2718215         3665228         5130632         6392017   \n",
       "4    Arkansas         2286435         2350725         2673400         2915918   \n",
       "5  California        23667902        29760021        33871648        37253956   \n",
       "\n",
       "  2020 Population  \n",
       "0         5024279  \n",
       "1          733391  \n",
       "3         7151502  \n",
       "4         3011524  \n",
       "5        39538223  "
      ]
     },
     "execution_count": 146,
     "metadata": {},
     "output_type": "execute_result"
    }
   ],
   "source": [
    "#Data found for state population over time\n",
    "r0 = requests.get(\"https://en.wikipedia.org/wiki/List_of_U.S._states_and_territories_by_historical_population\")\n",
    "#parse\n",
    "root0 = BeautifulSoup(r0.content)\n",
    "#find table to make df\n",
    "table0 = root0.find_all(\"table\")[3]\n",
    "#read html table as df\n",
    "pop = pd.read_html(str(table0))\n",
    "#clean\n",
    "pop = pd.concat(pop)\n",
    "\n",
    "#remove non-state rows\n",
    "pop = pop.drop([2,9,12,37,42,48,56])\n",
    "\n",
    "#remove columns before 1980\n",
    "pop = pop.drop(columns = [\"1960\",\"1970\"])\n",
    "\n",
    "#rename columns\n",
    "pop = pop.rename(columns={\"Name\":\"State\",\"1980\":\"1980 Population\",\"1990\":\"1990 Population\",\"2000\":\"2000 Population\",\"2010\":\"2010 Population\",\"2020\":\"2020 Population\"})\n",
    "\n",
    "pop.head()"
   ]
  },
  {
   "cell_type": "markdown",
   "metadata": {},
   "source": [
    "We will use the state population data to put homelessness into a better perspective. We can compare state homeless data and analyze how it is changing over time. We trimmed our data to start at 1980 to keep it relatively recent findings."
   ]
  },
  {
   "cell_type": "markdown",
   "metadata": {},
   "source": [
    "### Minimum Wage By State (2021)"
   ]
  },
  {
   "cell_type": "code",
   "execution_count": 147,
   "metadata": {},
   "outputs": [
    {
     "data": {
      "text/html": [
       "<div>\n",
       "<style scoped>\n",
       "    .dataframe tbody tr th:only-of-type {\n",
       "        vertical-align: middle;\n",
       "    }\n",
       "\n",
       "    .dataframe tbody tr th {\n",
       "        vertical-align: top;\n",
       "    }\n",
       "\n",
       "    .dataframe thead th {\n",
       "        text-align: right;\n",
       "    }\n",
       "</style>\n",
       "<table border=\"1\" class=\"dataframe\">\n",
       "  <thead>\n",
       "    <tr style=\"text-align: right;\">\n",
       "      <th></th>\n",
       "      <th>State</th>\n",
       "      <th>Minimum Wage</th>\n",
       "    </tr>\n",
       "  </thead>\n",
       "  <tbody>\n",
       "    <tr>\n",
       "      <th>0</th>\n",
       "      <td>Alabama</td>\n",
       "      <td>7.25</td>\n",
       "    </tr>\n",
       "    <tr>\n",
       "      <th>1</th>\n",
       "      <td>Alaska</td>\n",
       "      <td>10.34</td>\n",
       "    </tr>\n",
       "    <tr>\n",
       "      <th>2</th>\n",
       "      <td>Arizona</td>\n",
       "      <td>12.15</td>\n",
       "    </tr>\n",
       "    <tr>\n",
       "      <th>3</th>\n",
       "      <td>Arkansas</td>\n",
       "      <td>11.00</td>\n",
       "    </tr>\n",
       "    <tr>\n",
       "      <th>4</th>\n",
       "      <td>California</td>\n",
       "      <td>14.00</td>\n",
       "    </tr>\n",
       "  </tbody>\n",
       "</table>\n",
       "</div>"
      ],
      "text/plain": [
       "        State Minimum Wage\n",
       "0     Alabama         7.25\n",
       "1      Alaska        10.34\n",
       "2     Arizona        12.15\n",
       "3    Arkansas        11.00\n",
       "4  California        14.00"
      ]
     },
     "execution_count": 147,
     "metadata": {},
     "output_type": "execute_result"
    }
   ],
   "source": [
    "#Data found for minimum wage by state\n",
    "r = requests.get(\"https://minimumwage.com/in-your-state/\")\n",
    "#parse\n",
    "root = BeautifulSoup(r.content)\n",
    "#find table to make df\n",
    "table = root.find(\"table\")\n",
    "#read html table as df\n",
    "wages = pd.read_html(str(table))\n",
    "#clean\n",
    "wages = pd.concat(wages)\n",
    "#drop all columns except state and wage\n",
    "wages = wages[[\"State\",\"Minimum Wage\"]]\n",
    "\n",
    "#cleans data\n",
    "for key, value in wages.iterrows():\n",
    "    wages[\"Minimum Wage\"][key] = str(wages[\"Minimum Wage\"][key])[1:]\n",
    "    \n",
    "wages.head()"
   ]
  },
  {
   "cell_type": "markdown",
   "metadata": {},
   "source": [
    "DataFrame of 50 rows (each state) and two columns (State and Minimum Wage). The Federal Minimum Wage is $7.25. Any higher wages was set by the state, potentially impacting rate of homelessness. This data was cleaned by removing the dollar sign from the wage value."
   ]
  },
  {
   "cell_type": "markdown",
   "metadata": {},
   "source": [
    "### Electoral College Results By State (1980-2020)"
   ]
  },
  {
   "cell_type": "code",
   "execution_count": 148,
   "metadata": {},
   "outputs": [
    {
     "data": {
      "text/html": [
       "<div>\n",
       "<style scoped>\n",
       "    .dataframe tbody tr th:only-of-type {\n",
       "        vertical-align: middle;\n",
       "    }\n",
       "\n",
       "    .dataframe tbody tr th {\n",
       "        vertical-align: top;\n",
       "    }\n",
       "\n",
       "    .dataframe thead th {\n",
       "        text-align: right;\n",
       "    }\n",
       "</style>\n",
       "<table border=\"1\" class=\"dataframe\">\n",
       "  <thead>\n",
       "    <tr style=\"text-align: right;\">\n",
       "      <th></th>\n",
       "      <th>State</th>\n",
       "      <th>1980 Electoral Vote</th>\n",
       "      <th>1984 Electoral Vote</th>\n",
       "      <th>1988 Electoral Vote</th>\n",
       "      <th>1992 Electoral Vote</th>\n",
       "      <th>1996 Electoral Vote</th>\n",
       "      <th>2000 Electoral Vote</th>\n",
       "      <th>2004 Electoral Vote</th>\n",
       "      <th>2008 Electoral Vote</th>\n",
       "      <th>2012 Electoral Vote</th>\n",
       "      <th>2016 Electoral Vote</th>\n",
       "      <th>2020 Electoral Vote</th>\n",
       "    </tr>\n",
       "  </thead>\n",
       "  <tbody>\n",
       "    <tr>\n",
       "      <th>1</th>\n",
       "      <td>Alabama</td>\n",
       "      <td>R</td>\n",
       "      <td>R</td>\n",
       "      <td>R</td>\n",
       "      <td>R</td>\n",
       "      <td>R</td>\n",
       "      <td>R</td>\n",
       "      <td>R</td>\n",
       "      <td>R</td>\n",
       "      <td>R</td>\n",
       "      <td>R</td>\n",
       "      <td>R</td>\n",
       "    </tr>\n",
       "    <tr>\n",
       "      <th>2</th>\n",
       "      <td>Alaska</td>\n",
       "      <td>R</td>\n",
       "      <td>R</td>\n",
       "      <td>R</td>\n",
       "      <td>R</td>\n",
       "      <td>R</td>\n",
       "      <td>R</td>\n",
       "      <td>R</td>\n",
       "      <td>R</td>\n",
       "      <td>R</td>\n",
       "      <td>R</td>\n",
       "      <td>R</td>\n",
       "    </tr>\n",
       "    <tr>\n",
       "      <th>3</th>\n",
       "      <td>Arizona</td>\n",
       "      <td>R</td>\n",
       "      <td>R</td>\n",
       "      <td>R</td>\n",
       "      <td>R</td>\n",
       "      <td>D</td>\n",
       "      <td>R</td>\n",
       "      <td>R</td>\n",
       "      <td>R</td>\n",
       "      <td>R</td>\n",
       "      <td>R</td>\n",
       "      <td>D</td>\n",
       "    </tr>\n",
       "    <tr>\n",
       "      <th>4</th>\n",
       "      <td>Arkansas</td>\n",
       "      <td>R</td>\n",
       "      <td>R</td>\n",
       "      <td>R</td>\n",
       "      <td>D</td>\n",
       "      <td>D</td>\n",
       "      <td>R</td>\n",
       "      <td>R</td>\n",
       "      <td>R</td>\n",
       "      <td>R</td>\n",
       "      <td>R</td>\n",
       "      <td>R</td>\n",
       "    </tr>\n",
       "    <tr>\n",
       "      <th>5</th>\n",
       "      <td>California</td>\n",
       "      <td>R</td>\n",
       "      <td>R</td>\n",
       "      <td>R</td>\n",
       "      <td>D</td>\n",
       "      <td>D</td>\n",
       "      <td>D</td>\n",
       "      <td>D</td>\n",
       "      <td>D</td>\n",
       "      <td>D</td>\n",
       "      <td>D</td>\n",
       "      <td>D</td>\n",
       "    </tr>\n",
       "  </tbody>\n",
       "</table>\n",
       "</div>"
      ],
      "text/plain": [
       "        State 1980 Electoral Vote 1984 Electoral Vote 1988 Electoral Vote  \\\n",
       "1     Alabama                   R                   R                   R   \n",
       "2      Alaska                   R                   R                   R   \n",
       "3     Arizona                   R                   R                   R   \n",
       "4    Arkansas                   R                   R                   R   \n",
       "5  California                   R                   R                   R   \n",
       "\n",
       "  1992 Electoral Vote 1996 Electoral Vote 2000 Electoral Vote  \\\n",
       "1                   R                   R                   R   \n",
       "2                   R                   R                   R   \n",
       "3                   R                   D                   R   \n",
       "4                   D                   D                   R   \n",
       "5                   D                   D                   D   \n",
       "\n",
       "  2004 Electoral Vote 2008 Electoral Vote 2012 Electoral Vote  \\\n",
       "1                   R                   R                   R   \n",
       "2                   R                   R                   R   \n",
       "3                   R                   R                   R   \n",
       "4                   R                   R                   R   \n",
       "5                   D                   D                   D   \n",
       "\n",
       "  2016 Electoral Vote 2020 Electoral Vote  \n",
       "1                   R                   R  \n",
       "2                   R                   R  \n",
       "3                   R                   D  \n",
       "4                   R                   R  \n",
       "5                   D                   D  "
      ]
     },
     "execution_count": 148,
     "metadata": {},
     "output_type": "execute_result"
    }
   ],
   "source": [
    "#data for which party each state voted for in presidential elections \n",
    "r1 = requests.get(\"https://en.wikipedia.org/wiki/List_of_United_States_presidential_election_results_by_state\")\n",
    "#parse\n",
    "root1 = BeautifulSoup(r1.content)\n",
    "#find table\n",
    "table1 = root1.find(\"table\")\n",
    "#read as table\n",
    "votes = pd.read_html(str(table1))\n",
    "votes = pd.concat(votes)\n",
    "#remove nans at end\n",
    "votes = votes[:54]\n",
    "#clean year data\n",
    "votes[59][0] = 2000\n",
    "votes[64][0] = 2016\n",
    "#cut data down to range from 1980-2020 elections\n",
    "votes = votes[[0,54,55,56,57,58,59,61,62,63,64,65]]\n",
    "#clean - set years to column values\n",
    "\n",
    "for columns in votes:\n",
    "    votes.rename({columns:str(votes[columns][0]) + \" Electoral Vote\"},inplace=True, axis=\"columns\")\n",
    "votes = votes.rename({\"State Electoral Vote\":\"State\"}, axis=\"columns\")\n",
    "\n",
    "#removes non state rows\n",
    "votes = votes.drop([0,26,53])\n",
    "votes.head()"
   ]
  },
  {
   "cell_type": "markdown",
   "metadata": {},
   "source": [
    "Each state is tabled with their Presidential Electoral votes since 1980. This data was found on Wikipedia and can be used great for time charts. We will look to see if the values from this chart have a measurable impact on a states homeless population. It can also be mapped on a national level. We cleaned the table up and removed non state rows. We believe the 40 year timeline begining in 1980 is measurable range of values. "
   ]
  },
  {
   "cell_type": "markdown",
   "metadata": {},
   "source": [
    "### Average Temperature By State (2019)"
   ]
  },
  {
   "cell_type": "code",
   "execution_count": 149,
   "metadata": {},
   "outputs": [
    {
     "data": {
      "text/html": [
       "<div>\n",
       "<style scoped>\n",
       "    .dataframe tbody tr th:only-of-type {\n",
       "        vertical-align: middle;\n",
       "    }\n",
       "\n",
       "    .dataframe tbody tr th {\n",
       "        vertical-align: top;\n",
       "    }\n",
       "\n",
       "    .dataframe thead th {\n",
       "        text-align: right;\n",
       "    }\n",
       "</style>\n",
       "<table border=\"1\" class=\"dataframe\">\n",
       "  <thead>\n",
       "    <tr style=\"text-align: right;\">\n",
       "      <th></th>\n",
       "      <th>State</th>\n",
       "      <th>Average Temperature</th>\n",
       "    </tr>\n",
       "  </thead>\n",
       "  <tbody>\n",
       "    <tr>\n",
       "      <th>0</th>\n",
       "      <td>Florida</td>\n",
       "      <td>70.7</td>\n",
       "    </tr>\n",
       "    <tr>\n",
       "      <th>1</th>\n",
       "      <td>Hawaii</td>\n",
       "      <td>70.0</td>\n",
       "    </tr>\n",
       "    <tr>\n",
       "      <th>2</th>\n",
       "      <td>Louisiana</td>\n",
       "      <td>66.4</td>\n",
       "    </tr>\n",
       "    <tr>\n",
       "      <th>3</th>\n",
       "      <td>Texas</td>\n",
       "      <td>64.8</td>\n",
       "    </tr>\n",
       "    <tr>\n",
       "      <th>4</th>\n",
       "      <td>Georgia</td>\n",
       "      <td>63.5</td>\n",
       "    </tr>\n",
       "  </tbody>\n",
       "</table>\n",
       "</div>"
      ],
      "text/plain": [
       "       State  Average Temperature\n",
       "0    Florida                 70.7\n",
       "1     Hawaii                 70.0\n",
       "2  Louisiana                 66.4\n",
       "3      Texas                 64.8\n",
       "4    Georgia                 63.5"
      ]
     },
     "execution_count": 149,
     "metadata": {},
     "output_type": "execute_result"
    }
   ],
   "source": [
    "#data for average 2019 temperature by state - came pre organized in descending order\n",
    "r2 = requests.get(\"https://worldpopulationreview.com/state-rankings/average-temperatures-by-state\")\n",
    "#parse\n",
    "root2 = BeautifulSoup(r2.content)\n",
    "table2 = root2.find(\"table\")\n",
    "#make df\n",
    "temps = pd.read_html(str(table2))\n",
    "temps = pd.concat(temps)\n",
    "temps.head()"
   ]
  },
  {
   "cell_type": "markdown",
   "metadata": {},
   "source": [
    "This table shows the states average temperature during 2019 measured in Farhrenheit. We will map this table to the homeless df to predict homeless population by temperature. "
   ]
  },
  {
   "cell_type": "markdown",
   "metadata": {},
   "source": [
    "# Data Merging"
   ]
  },
  {
   "cell_type": "markdown",
   "metadata": {},
   "source": [
    "If you noticed above, all the data was cleaned so that each dataframe has 50 rows, one for each state, named accordingly. By cleaning our data, we made merging the table much easier. In this section we will combine all of our tables into one. We will use a few outer merge calls in order to add our columns together by state names."
   ]
  },
  {
   "cell_type": "code",
   "execution_count": 150,
   "metadata": {},
   "outputs": [
    {
     "data": {
      "text/html": [
       "<div>\n",
       "<style scoped>\n",
       "    .dataframe tbody tr th:only-of-type {\n",
       "        vertical-align: middle;\n",
       "    }\n",
       "\n",
       "    .dataframe tbody tr th {\n",
       "        vertical-align: top;\n",
       "    }\n",
       "\n",
       "    .dataframe thead th {\n",
       "        text-align: right;\n",
       "    }\n",
       "</style>\n",
       "<table border=\"1\" class=\"dataframe\">\n",
       "  <thead>\n",
       "    <tr style=\"text-align: right;\">\n",
       "      <th></th>\n",
       "      <th>State</th>\n",
       "      <th>Average Temperature</th>\n",
       "      <th>Minimum Wage</th>\n",
       "      <th>1980 Electoral Vote</th>\n",
       "      <th>1984 Electoral Vote</th>\n",
       "      <th>1988 Electoral Vote</th>\n",
       "      <th>1992 Electoral Vote</th>\n",
       "      <th>1996 Electoral Vote</th>\n",
       "      <th>2000 Electoral Vote</th>\n",
       "      <th>2004 Electoral Vote</th>\n",
       "      <th>...</th>\n",
       "      <th>Overall Homeless - Transgender, 2020</th>\n",
       "      <th>Overall Homeless - Gender Non-Conforming, 2020</th>\n",
       "      <th>Overall Homeless - Hispanic/Latino, 2020</th>\n",
       "      <th>Overall Homeless - White, 2020</th>\n",
       "      <th>Overall Homeless - Black or African American, 2020</th>\n",
       "      <th>Overall Homeless - Asian, 2020</th>\n",
       "      <th>Overall Homeless - American Indian or Alaska Native, 2020</th>\n",
       "      <th>Overall Homeless - Native Hawaiian or Other Pacific Islander, 2020</th>\n",
       "      <th>Overall Homeless - Multiple Races, 2020</th>\n",
       "      <th>State ID</th>\n",
       "    </tr>\n",
       "  </thead>\n",
       "  <tbody>\n",
       "    <tr>\n",
       "      <th>0</th>\n",
       "      <td>Florida</td>\n",
       "      <td>70.7</td>\n",
       "      <td>8.65</td>\n",
       "      <td>R</td>\n",
       "      <td>R</td>\n",
       "      <td>R</td>\n",
       "      <td>R</td>\n",
       "      <td>D</td>\n",
       "      <td>R</td>\n",
       "      <td>R</td>\n",
       "      <td>...</td>\n",
       "      <td>52</td>\n",
       "      <td>22</td>\n",
       "      <td>4045</td>\n",
       "      <td>15102</td>\n",
       "      <td>11042</td>\n",
       "      <td>128</td>\n",
       "      <td>328</td>\n",
       "      <td>73</td>\n",
       "      <td>814</td>\n",
       "      <td>FL</td>\n",
       "    </tr>\n",
       "    <tr>\n",
       "      <th>1</th>\n",
       "      <td>Hawaii</td>\n",
       "      <td>70.0</td>\n",
       "      <td>10.10</td>\n",
       "      <td>D</td>\n",
       "      <td>R</td>\n",
       "      <td>D</td>\n",
       "      <td>D</td>\n",
       "      <td>D</td>\n",
       "      <td>D</td>\n",
       "      <td>D</td>\n",
       "      <td>...</td>\n",
       "      <td>36</td>\n",
       "      <td>27</td>\n",
       "      <td>935</td>\n",
       "      <td>1469</td>\n",
       "      <td>295</td>\n",
       "      <td>564</td>\n",
       "      <td>83</td>\n",
       "      <td>2160</td>\n",
       "      <td>1887</td>\n",
       "      <td>HI</td>\n",
       "    </tr>\n",
       "    <tr>\n",
       "      <th>2</th>\n",
       "      <td>Louisiana</td>\n",
       "      <td>66.4</td>\n",
       "      <td>7.25</td>\n",
       "      <td>R</td>\n",
       "      <td>R</td>\n",
       "      <td>R</td>\n",
       "      <td>D</td>\n",
       "      <td>D</td>\n",
       "      <td>R</td>\n",
       "      <td>R</td>\n",
       "      <td>...</td>\n",
       "      <td>11</td>\n",
       "      <td>3</td>\n",
       "      <td>88</td>\n",
       "      <td>1165</td>\n",
       "      <td>1908</td>\n",
       "      <td>21</td>\n",
       "      <td>29</td>\n",
       "      <td>5</td>\n",
       "      <td>45</td>\n",
       "      <td>LA</td>\n",
       "    </tr>\n",
       "    <tr>\n",
       "      <th>3</th>\n",
       "      <td>Texas</td>\n",
       "      <td>64.8</td>\n",
       "      <td>7.25</td>\n",
       "      <td>R</td>\n",
       "      <td>R</td>\n",
       "      <td>R</td>\n",
       "      <td>R</td>\n",
       "      <td>R</td>\n",
       "      <td>R</td>\n",
       "      <td>R</td>\n",
       "      <td>...</td>\n",
       "      <td>61</td>\n",
       "      <td>21</td>\n",
       "      <td>7545</td>\n",
       "      <td>15778</td>\n",
       "      <td>10001</td>\n",
       "      <td>206</td>\n",
       "      <td>346</td>\n",
       "      <td>89</td>\n",
       "      <td>809</td>\n",
       "      <td>TX</td>\n",
       "    </tr>\n",
       "    <tr>\n",
       "      <th>4</th>\n",
       "      <td>Georgia</td>\n",
       "      <td>63.5</td>\n",
       "      <td>7.25</td>\n",
       "      <td>D</td>\n",
       "      <td>R</td>\n",
       "      <td>R</td>\n",
       "      <td>D</td>\n",
       "      <td>R</td>\n",
       "      <td>R</td>\n",
       "      <td>R</td>\n",
       "      <td>...</td>\n",
       "      <td>44</td>\n",
       "      <td>107</td>\n",
       "      <td>520</td>\n",
       "      <td>3031</td>\n",
       "      <td>6708</td>\n",
       "      <td>92</td>\n",
       "      <td>64</td>\n",
       "      <td>21</td>\n",
       "      <td>318</td>\n",
       "      <td>GA</td>\n",
       "    </tr>\n",
       "  </tbody>\n",
       "</table>\n",
       "<p>5 rows × 35 columns</p>\n",
       "</div>"
      ],
      "text/plain": [
       "       State  Average Temperature Minimum Wage 1980 Electoral Vote  \\\n",
       "0    Florida                 70.7         8.65                   R   \n",
       "1     Hawaii                 70.0        10.10                   D   \n",
       "2  Louisiana                 66.4         7.25                   R   \n",
       "3      Texas                 64.8         7.25                   R   \n",
       "4    Georgia                 63.5         7.25                   D   \n",
       "\n",
       "  1984 Electoral Vote 1988 Electoral Vote 1992 Electoral Vote  \\\n",
       "0                   R                   R                   R   \n",
       "1                   R                   D                   D   \n",
       "2                   R                   R                   D   \n",
       "3                   R                   R                   R   \n",
       "4                   R                   R                   D   \n",
       "\n",
       "  1996 Electoral Vote 2000 Electoral Vote 2004 Electoral Vote  ...  \\\n",
       "0                   D                   R                   R  ...   \n",
       "1                   D                   D                   D  ...   \n",
       "2                   D                   R                   R  ...   \n",
       "3                   R                   R                   R  ...   \n",
       "4                   R                   R                   R  ...   \n",
       "\n",
       "  Overall Homeless - Transgender, 2020  \\\n",
       "0                                   52   \n",
       "1                                   36   \n",
       "2                                   11   \n",
       "3                                   61   \n",
       "4                                   44   \n",
       "\n",
       "  Overall Homeless - Gender Non-Conforming, 2020  \\\n",
       "0                                             22   \n",
       "1                                             27   \n",
       "2                                              3   \n",
       "3                                             21   \n",
       "4                                            107   \n",
       "\n",
       "  Overall Homeless - Hispanic/Latino, 2020 Overall Homeless - White, 2020  \\\n",
       "0                                     4045                          15102   \n",
       "1                                      935                           1469   \n",
       "2                                       88                           1165   \n",
       "3                                     7545                          15778   \n",
       "4                                      520                           3031   \n",
       "\n",
       "  Overall Homeless - Black or African American, 2020  \\\n",
       "0                                              11042   \n",
       "1                                                295   \n",
       "2                                               1908   \n",
       "3                                              10001   \n",
       "4                                               6708   \n",
       "\n",
       "  Overall Homeless - Asian, 2020  \\\n",
       "0                            128   \n",
       "1                            564   \n",
       "2                             21   \n",
       "3                            206   \n",
       "4                             92   \n",
       "\n",
       "  Overall Homeless - American Indian or Alaska Native, 2020  \\\n",
       "0                                                328          \n",
       "1                                                 83          \n",
       "2                                                 29          \n",
       "3                                                346          \n",
       "4                                                 64          \n",
       "\n",
       "  Overall Homeless - Native Hawaiian or Other Pacific Islander, 2020  \\\n",
       "0                                                 73                   \n",
       "1                                               2160                   \n",
       "2                                                  5                   \n",
       "3                                                 89                   \n",
       "4                                                 21                   \n",
       "\n",
       "  Overall Homeless - Multiple Races, 2020  State ID  \n",
       "0                                     814        FL  \n",
       "1                                    1887        HI  \n",
       "2                                      45        LA  \n",
       "3                                     809        TX  \n",
       "4                                     318        GA  \n",
       "\n",
       "[5 rows x 35 columns]"
      ]
     },
     "execution_count": 150,
     "metadata": {},
     "output_type": "execute_result"
    }
   ],
   "source": [
    "#combines wages and temperatures by states\n",
    "temp_wages = temps.merge(wages, on= \"State\", how = \"outer\")\n",
    "#combines previous table with election results\n",
    "elections_temp_wages = temp_wages.merge(votes, on=\"State\", how = \"outer\")\n",
    "#Sorry DC and Puerto Rico\n",
    "elections_temp_wages = elections_temp_wages.dropna()\n",
    "\n",
    "#add population table\n",
    "elections_temp_wages_pop = elections_temp_wages.merge(pop, on= \"State\", how = \"outer\")\n",
    "\n",
    "#Complete DataFrame with homeless stats\n",
    "df2020 = elections_temp_wages_pop.merge(HUD2020, on=\"State\", how=\"outer\")\n",
    "\n",
    "#cast and rename column variables\n",
    "df2020[\"Average Temperature\"] = df2020[\"Average Temperature\"].astype(float)\n",
    "df2020[\"Overall Homeless, 2020\"] = df2020[\"Overall Homeless, 2020\"].astype(int)\n",
    "df2020 = df2020.rename({\"1980\":\"1980 Election Result\",\"1984\":\"1984 Election Result\",\"1988\":\"1988 Election Result\",\"1992\":\"1992 Election Result\",\"1996\":\"1996 Election Result\",2000:\"2000 Election Result\",\"2004\":\"2004 Election Result\",\"2008\":\"2008 Election Result\",\"2012\":\"2012 Election Result\",2016:\"2016 Election Result\",\"2020\":\"2020 Election Result\"}, axis=\"columns\")\n",
    "    \n",
    "df2020.head()"
   ]
  },
  {
   "cell_type": "markdown",
   "metadata": {},
   "source": [
    "### Additional Calculations\n",
    "With our combined DataFrame, we can now perform some calculations on our data. For example we will find the rate of homelessness in each state"
   ]
  },
  {
   "cell_type": "code",
   "execution_count": 151,
   "metadata": {},
   "outputs": [],
   "source": [
    "df2020[\"Homeless Rate\"] = df2020[\"Overall Homeless, 2020\"] / df2020[\"2020 Population\"].astype(int)"
   ]
  },
  {
   "cell_type": "markdown",
   "metadata": {},
   "source": [
    "# Analysis Part 1:  National Observations\n",
    "## Summary Statistics\n",
    "### Sum\n",
    "The United States has 569,334 homeless people"
   ]
  },
  {
   "cell_type": "code",
   "execution_count": 152,
   "metadata": {
    "scrolled": true
   },
   "outputs": [
    {
     "data": {
      "text/plain": [
       "569334"
      ]
     },
     "execution_count": 152,
     "metadata": {},
     "output_type": "execute_result"
    }
   ],
   "source": [
    "df2020[\"Overall Homeless, 2020\"].sum()"
   ]
  },
  {
   "cell_type": "markdown",
   "metadata": {},
   "source": [
    "### Mean\n",
    "###### Average Of Averages "
   ]
  },
  {
   "cell_type": "markdown",
   "metadata": {},
   "source": [
    "Average State has ~11,386 homeless people"
   ]
  },
  {
   "cell_type": "code",
   "execution_count": 153,
   "metadata": {},
   "outputs": [
    {
     "data": {
      "text/plain": [
       "11386.68"
      ]
     },
     "execution_count": 153,
     "metadata": {},
     "output_type": "execute_result"
    }
   ],
   "source": [
    "df2020[\"Overall Homeless, 2020\"].mean()"
   ]
  },
  {
   "cell_type": "markdown",
   "metadata": {},
   "source": [
    "#### Average Homeless Rate\n",
    "##### Average Of Averages\n",
    "The average state has a homeless rate of 0.14%"
   ]
  },
  {
   "cell_type": "code",
   "execution_count": 154,
   "metadata": {},
   "outputs": [
    {
     "data": {
      "text/plain": [
       "0.00140329255293916"
      ]
     },
     "execution_count": 154,
     "metadata": {},
     "output_type": "execute_result"
    }
   ],
   "source": [
    "df2020[\"Homeless Rate\"].mean()"
   ]
  },
  {
   "cell_type": "markdown",
   "metadata": {},
   "source": [
    "##### True Average\n",
    "Marginal difference. Closer to 0.17%"
   ]
  },
  {
   "cell_type": "code",
   "execution_count": 155,
   "metadata": {},
   "outputs": [
    {
     "data": {
      "text/plain": [
       "0.0017212794852033981"
      ]
     },
     "execution_count": 155,
     "metadata": {},
     "output_type": "execute_result"
    }
   ],
   "source": [
    "df2020[\"Overall Homeless, 2020\"].astype(float).sum() / df2020[\"2020 Population\"].astype(float).sum()"
   ]
  },
  {
   "cell_type": "markdown",
   "metadata": {},
   "source": [
    "### Outliers"
   ]
  },
  {
   "cell_type": "markdown",
   "metadata": {},
   "source": [
    "#### Max\n",
    "California has the highest homeless population at 161,548 people"
   ]
  },
  {
   "cell_type": "code",
   "execution_count": 156,
   "metadata": {},
   "outputs": [
    {
     "data": {
      "text/plain": [
       "161548"
      ]
     },
     "execution_count": 156,
     "metadata": {},
     "output_type": "execute_result"
    }
   ],
   "source": [
    "df2020[\"Overall Homeless, 2020\"].max()"
   ]
  },
  {
   "cell_type": "code",
   "execution_count": 157,
   "metadata": {},
   "outputs": [
    {
     "data": {
      "text/plain": [
       "State    California\n",
       "Name: 11, dtype: object"
      ]
     },
     "execution_count": 157,
     "metadata": {},
     "output_type": "execute_result"
    }
   ],
   "source": [
    "df2020.loc[df2020[\"Overall Homeless, 2020\"].idxmax()].head(1)"
   ]
  },
  {
   "cell_type": "code",
   "execution_count": 219,
   "metadata": {},
   "outputs": [
    {
     "data": {
      "text/plain": [
       "State    California\n",
       "Name: 11, dtype: object"
      ]
     },
     "execution_count": 219,
     "metadata": {},
     "output_type": "execute_result"
    }
   ],
   "source": [
    "df2020.loc[df2020[\"2020 Population\"].astype(int).idxmax()].head(1)"
   ]
  },
  {
   "cell_type": "markdown",
   "metadata": {},
   "source": [
    "But the state also has the largest total population, so let's look into the rate of homeless.  "
   ]
  },
  {
   "cell_type": "code",
   "execution_count": 217,
   "metadata": {},
   "outputs": [
    {
     "data": {
      "text/plain": [
       "State    New York\n",
       "Name: 36, dtype: object"
      ]
     },
     "execution_count": 217,
     "metadata": {},
     "output_type": "execute_result"
    }
   ],
   "source": [
    "df2020.loc[df2020[\"Homeless Rate\"].idxmax()].head(1)"
   ]
  },
  {
   "cell_type": "code",
   "execution_count": 216,
   "metadata": {},
   "outputs": [
    {
     "data": {
      "text/plain": [
       "0.004518086975711254"
      ]
     },
     "execution_count": 216,
     "metadata": {},
     "output_type": "execute_result"
    }
   ],
   "source": [
    "df2020[\"Homeless Rate\"].max()"
   ]
  },
  {
   "cell_type": "markdown",
   "metadata": {},
   "source": [
    "New York has the highest rate of homeless at 0.45%"
   ]
  },
  {
   "cell_type": "markdown",
   "metadata": {},
   "source": [
    "#### Min \n",
    "North Dakota has the lowest homeless population at 541 people"
   ]
  },
  {
   "cell_type": "code",
   "execution_count": 161,
   "metadata": {},
   "outputs": [
    {
     "data": {
      "text/plain": [
       "541"
      ]
     },
     "execution_count": 161,
     "metadata": {},
     "output_type": "execute_result"
    }
   ],
   "source": [
    "df2020[\"Overall Homeless, 2020\"].min()"
   ]
  },
  {
   "cell_type": "code",
   "execution_count": 162,
   "metadata": {},
   "outputs": [
    {
     "data": {
      "text/plain": [
       "State    North Dakota\n",
       "Name: 48, dtype: object"
      ]
     },
     "execution_count": 162,
     "metadata": {},
     "output_type": "execute_result"
    }
   ],
   "source": [
    "df2020.loc[df2020[\"Overall Homeless, 2020\"].idxmin()].head(1)"
   ]
  },
  {
   "cell_type": "markdown",
   "metadata": {},
   "source": [
    "Yet they do not have the lowest total population - Wyoming is the smallest state. The state with smallest homeless rate is Mississippi."
   ]
  },
  {
   "cell_type": "code",
   "execution_count": 163,
   "metadata": {},
   "outputs": [
    {
     "data": {
      "text/plain": [
       "State    Wyoming\n",
       "Name: 45, dtype: object"
      ]
     },
     "execution_count": 163,
     "metadata": {},
     "output_type": "execute_result"
    }
   ],
   "source": [
    "df2020.loc[df2020[\"2020 Population\"].astype(int).idxmin()].head(1)"
   ]
  },
  {
   "cell_type": "code",
   "execution_count": 164,
   "metadata": {},
   "outputs": [
    {
     "data": {
      "text/plain": [
       "State    Mississippi\n",
       "Name: 5, dtype: object"
      ]
     },
     "execution_count": 164,
     "metadata": {},
     "output_type": "execute_result"
    }
   ],
   "source": [
    "df2020.loc[df2020[\"Homeless Rate\"].idxmin()].head(1)"
   ]
  },
  {
   "cell_type": "markdown",
   "metadata": {},
   "source": [
    "### Spread\n",
    "The standard deviation of homelessness in the US is 25,559 - this is extremely dispersed data."
   ]
  },
  {
   "cell_type": "code",
   "execution_count": 165,
   "metadata": {},
   "outputs": [
    {
     "data": {
      "text/plain": [
       "25559.470407818764"
      ]
     },
     "execution_count": 165,
     "metadata": {},
     "output_type": "execute_result"
    }
   ],
   "source": [
    "df2020[\"Overall Homeless, 2020\"].std()"
   ]
  },
  {
   "cell_type": "markdown",
   "metadata": {},
   "source": [
    "## Visual Representation\n",
    "Map of US - highlighting each state's homeless rate"
   ]
  },
  {
   "cell_type": "code",
   "execution_count": 166,
   "metadata": {},
   "outputs": [],
   "source": [
    "#Using mapping data andinspiration from: https://jcutrer.com/python/learn-geopandas-plotting-usmaps\n",
    "#data mapping for all states\n",
    "USmap = geopandas.read_file('./data/map_data/usa-states-census-2014.shp')\n",
    "USmap = USmap.to_crs(\"EPSG:3395\")\n",
    "USmap[\"State\"] = USmap[\"NAME\"]\n",
    "#join with homeless data\n",
    "USmap = USmap.merge(df2020, on = \"State\", how = \"inner\")\n",
    "#clean data to present in map\n",
    "for key, value in USmap.iterrows():\n",
    "    USmap[\"Homeless Rate\"][key] = str(float(str(USmap[\"Homeless Rate\"][key])[:7])*100)[:5] + \" %\""
   ]
  },
  {
   "cell_type": "code",
   "execution_count": 236,
   "metadata": {},
   "outputs": [
    {
     "data": {
      "text/plain": [
       "Text(0.5, 1.0, 'Map of US By Homeless Rate')"
      ]
     },
     "execution_count": 236,
     "metadata": {},
     "output_type": "execute_result"
    },
    {
     "data": {
      "image/png": "[encoded data removed]",
      "text/plain": [
       "<Figure size 1800x1080 with 1 Axes>"
      ]
     },
     "metadata": {},
     "output_type": "display_data"
    }
   ],
   "source": [
    "#Using mapping data andinspiration from: https://jcutrer.com/python/learn-geopandas-plotting-usmaps\n",
    "fig = plt.figure(1, figsize=(25,15)) \n",
    "ax = fig.add_subplot()\n",
    "#label state with homeless rate\n",
    "USmap.apply(lambda x: ax.annotate(text=x[\"State ID\"] + \": \" + x[\"Homeless Rate\"], xy=x.geometry.centroid.coords[0], ha='center', fontsize=14),axis=1);\n",
    "#state boundries\n",
    "USmap.boundary.plot(ax=ax, color='Black', linewidth=.4)\n",
    "#color states and labels\n",
    "USmap.plot(column = \"Homeless Rate\", ax=ax, cmap='Blues', figsize=(12, 12))\n",
    "ax.text(-0.05, 0.5, transform=ax.transAxes,\n",
    "        fontsize=20, color='black', alpha=0.5,\n",
    "        ha='center', va='center', rotation='90', s = \"\")\n",
    "ax.set_axis_off()\n",
    "plt.title(\"Map of US By Homeless Rate\")"
   ]
  },
  {
   "cell_type": "markdown",
   "metadata": {},
   "source": [
    "*We were trying to make this a heat map but had difficulties adjusting the scalar and color scheme seperately. We still think this is a cool visual to see each states homeless rate.*"
   ]
  },
  {
   "cell_type": "markdown",
   "metadata": {},
   "source": [
    "## Demographic Distribution"
   ]
  },
  {
   "cell_type": "markdown",
   "metadata": {},
   "source": [
    "**Bar chart of national homeless by gender**\n",
    "\n",
    "More homeless men than women."
   ]
  },
  {
   "cell_type": "code",
   "execution_count": 168,
   "metadata": {},
   "outputs": [
    {
     "data": {
      "text/plain": [
       "<AxesSubplot:title={'center':'2021 National Homeless Count By Gender'}, xlabel='Gender', ylabel='Homeless Count'>"
      ]
     },
     "execution_count": 168,
     "metadata": {},
     "output_type": "execute_result"
    },
    {
     "data": {
      "image/png": "[encoded data removed]",
      "text/plain": [
       "<Figure size 720x360 with 1 Axes>"
      ]
     },
     "metadata": {},
     "output_type": "display_data"
    }
   ],
   "source": [
    "genders = df2020[[\"State\",\"Overall Homeless - Female, 2020\", \"Overall Homeless - Male, 2020\", \"Overall Homeless - Transgender, 2020\", \"Overall Homeless - Gender Non-Conforming, 2020\"]]\n",
    "genders = genders.set_index(\"State\")\n",
    "genders = genders.astype(int)\n",
    "\n",
    "female = genders[\"Overall Homeless - Female, 2020\"].sum()\n",
    "male = genders[\"Overall Homeless - Male, 2020\"].sum()\n",
    "other = genders[\"Overall Homeless - Transgender, 2020\"].sum() + genders[\"Overall Homeless - Gender Non-Conforming, 2020\"].sum()\n",
    "\n",
    "gendersums = pd.DataFrame.from_dict({\"Female\":female,\"Male\":male,\"Other\":other},orient='index',columns=[\"Total Homeless\"])\n",
    "sns.set(rc={\"figure.figsize\":(10,5)})\n",
    "gendersums.plot.bar(xlabel= \"Gender\", ylabel = \"Homeless Count\", title = \"2021 National Homeless Count By Gender\")"
   ]
  },
  {
   "cell_type": "markdown",
   "metadata": {},
   "source": [
    "**Pie Chart Of Homeless By Age**\n",
    "\n",
    "Adults make up the largest portion of the homeless population but there are a large percent of homeless kids and young adults in the country."
   ]
  },
  {
   "cell_type": "markdown",
   "metadata": {},
   "source": [
    "# Analysis Part 2: Correlated Variables\n",
    "## Louisiana Findings"
   ]
  },
  {
   "cell_type": "code",
   "execution_count": 170,
   "metadata": {},
   "outputs": [
    {
     "data": {
      "text/html": [
       "<div>\n",
       "<style scoped>\n",
       "    .dataframe tbody tr th:only-of-type {\n",
       "        vertical-align: middle;\n",
       "    }\n",
       "\n",
       "    .dataframe tbody tr th {\n",
       "        vertical-align: top;\n",
       "    }\n",
       "\n",
       "    .dataframe thead th {\n",
       "        text-align: right;\n",
       "    }\n",
       "</style>\n",
       "<table border=\"1\" class=\"dataframe\">\n",
       "  <thead>\n",
       "    <tr style=\"text-align: right;\">\n",
       "      <th></th>\n",
       "      <th>State</th>\n",
       "      <th>Overall Homeless, 2020</th>\n",
       "      <th>Homeless Rate</th>\n",
       "    </tr>\n",
       "  </thead>\n",
       "  <tbody>\n",
       "    <tr>\n",
       "      <th>2</th>\n",
       "      <td>Louisiana</td>\n",
       "      <td>3173</td>\n",
       "      <td>0.000681</td>\n",
       "    </tr>\n",
       "  </tbody>\n",
       "</table>\n",
       "</div>"
      ],
      "text/plain": [
       "       State  Overall Homeless, 2020  Homeless Rate\n",
       "2  Louisiana                    3173       0.000681"
      ]
     },
     "execution_count": 170,
     "metadata": {},
     "output_type": "execute_result"
    }
   ],
   "source": [
    "louisiana = df2020[2:3]\n",
    "louisiana[[\"State\",\"Overall Homeless, 2020\", \"Homeless Rate\"]]"
   ]
  },
  {
   "cell_type": "code",
   "execution_count": 171,
   "metadata": {},
   "outputs": [
    {
     "data": {
      "text/plain": [
       "0.000680658471320999"
      ]
     },
     "execution_count": 171,
     "metadata": {},
     "output_type": "execute_result"
    }
   ],
   "source": [
    "df2020[ \"Homeless Rate\"].quantile(.04)"
   ]
  },
  {
   "cell_type": "code",
   "execution_count": 172,
   "metadata": {},
   "outputs": [
    {
     "data": {
      "text/html": [
       "<div>\n",
       "<style scoped>\n",
       "    .dataframe tbody tr th:only-of-type {\n",
       "        vertical-align: middle;\n",
       "    }\n",
       "\n",
       "    .dataframe tbody tr th {\n",
       "        vertical-align: top;\n",
       "    }\n",
       "\n",
       "    .dataframe thead th {\n",
       "        text-align: right;\n",
       "    }\n",
       "</style>\n",
       "<table border=\"1\" class=\"dataframe\">\n",
       "  <thead>\n",
       "    <tr style=\"text-align: right;\">\n",
       "      <th></th>\n",
       "      <th>State</th>\n",
       "      <th>Homeless Rate</th>\n",
       "    </tr>\n",
       "  </thead>\n",
       "  <tbody>\n",
       "    <tr>\n",
       "      <th>5</th>\n",
       "      <td>Mississippi</td>\n",
       "      <td>0.000374</td>\n",
       "    </tr>\n",
       "    <tr>\n",
       "      <th>6</th>\n",
       "      <td>Alabama</td>\n",
       "      <td>0.000667</td>\n",
       "    </tr>\n",
       "    <tr>\n",
       "      <th>2</th>\n",
       "      <td>Louisiana</td>\n",
       "      <td>0.000681</td>\n",
       "    </tr>\n",
       "    <tr>\n",
       "      <th>16</th>\n",
       "      <td>Virginia</td>\n",
       "      <td>0.000690</td>\n",
       "    </tr>\n",
       "    <tr>\n",
       "      <th>48</th>\n",
       "      <td>North Dakota</td>\n",
       "      <td>0.000694</td>\n",
       "    </tr>\n",
       "  </tbody>\n",
       "</table>\n",
       "</div>"
      ],
      "text/plain": [
       "           State  Homeless Rate\n",
       "5    Mississippi       0.000374\n",
       "6        Alabama       0.000667\n",
       "2      Louisiana       0.000681\n",
       "16      Virginia       0.000690\n",
       "48  North Dakota       0.000694"
      ]
     },
     "execution_count": 172,
     "metadata": {},
     "output_type": "execute_result"
    }
   ],
   "source": [
    "df2020[[\"State\", \"Homeless Rate\"]].sort_values(by = \"Homeless Rate\", ascending = True).head()"
   ]
  },
  {
   "cell_type": "markdown",
   "metadata": {},
   "source": [
    "Louisiana has a smaller total homeless population than the national average (11,000) and smaller homeless rate (0.17%). Louisiana actually has the third lowest homeless rates in the country. Congrats Mississippi and Alabama!"
   ]
  },
  {
   "cell_type": "markdown",
   "metadata": {},
   "source": [
    "### Homeless By State Temperature"
   ]
  },
  {
   "cell_type": "code",
   "execution_count": 173,
   "metadata": {},
   "outputs": [],
   "source": [
    "homeless_temp = df2020[[\"Average Temperature\",\"Homeless Rate\",\"State ID\"]]\n",
    "homeless_temp.set_index(\"State ID\", inplace= True)"
   ]
  },
  {
   "cell_type": "markdown",
   "metadata": {},
   "source": [
    "Weak Negative Correlation"
   ]
  },
  {
   "cell_type": "code",
   "execution_count": 174,
   "metadata": {},
   "outputs": [
    {
     "data": {
      "text/plain": [
       "-0.09553567731307452"
      ]
     },
     "execution_count": 174,
     "metadata": {},
     "output_type": "execute_result"
    }
   ],
   "source": [
    "homeless_temp[\"Average Temperature\"].corr(homeless_temp[\"Homeless Rate\"])"
   ]
  },
  {
   "cell_type": "code",
   "execution_count": 175,
   "metadata": {},
   "outputs": [
    {
     "data": {
      "text/plain": [
       "Text(0.5, 1.0, \"Scatter Of 2020 Homeless Rate By A State's Average Yearly Temperature\")"
      ]
     },
     "execution_count": 175,
     "metadata": {},
     "output_type": "execute_result"
    },
    {
     "data": {
      "image/png": "[encoded data removed]",
      "text/plain": [
       "<Figure size 720x360 with 1 Axes>"
      ]
     },
     "metadata": {},
     "output_type": "display_data"
    }
   ],
   "source": [
    "fig, ax = plt.subplots()\n",
    "sns.set(rc={\"figure.figsize\":(15,7.5)})\n",
    "\n",
    "plot1 = sns.regplot(x = \"Average Temperature\",\n",
    "            y = \"Homeless Rate\", \n",
    "            ci = None,\n",
    "            ax=ax,\n",
    "            data = homeless_temp)\n",
    "\n",
    "#labels each dot based on its state id\n",
    "for k, v in homeless_temp.iterrows():\n",
    "    ax.annotate(k, v, family='sans-serif', fontsize=12, color='darkslategrey')\n",
    "fig.canvas.draw()\n",
    "\n",
    "plot1.set_title(\"Scatter Of 2020 Homeless Rate By A State's Average Yearly Temperature\")"
   ]
  },
  {
   "cell_type": "markdown",
   "metadata": {},
   "source": [
    "Hawaii is an interesting point on this chart. One would assume that homeless people would prefer to be in southern states to avoid cold winters up north, but you cannot make this hypothesis for Hawaii. The homeless people in Hawaii have most likely been there their entire lives. Alaska is also alarming because it is the coldest state, isolated like Hawaii, and still has a high rate of homelessness. New York and California also standout but do not surprise me due to the high costs of living in major urban areas. "
   ]
  },
  {
   "cell_type": "markdown",
   "metadata": {},
   "source": [
    "### Homeless By State Minimum Wage"
   ]
  },
  {
   "cell_type": "code",
   "execution_count": 176,
   "metadata": {},
   "outputs": [],
   "source": [
    "homeless_wage = df2020[[\"Minimum Wage\",\"Homeless Rate\", \"State ID\"]]\n",
    "homeless_wage[\"Minimum Wage\"] = homeless_wage[\"Minimum Wage\"].astype(float)\n",
    "homeless_wage[\"Homeless Rate\"] = homeless_wage[\"Homeless Rate\"].astype(float)\n",
    "homeless_wage.set_index(\"State ID\", inplace = True)"
   ]
  },
  {
   "cell_type": "markdown",
   "metadata": {},
   "source": [
    "Moderate Positive Correlation"
   ]
  },
  {
   "cell_type": "code",
   "execution_count": 177,
   "metadata": {},
   "outputs": [
    {
     "data": {
      "text/plain": [
       "0.5908830206536951"
      ]
     },
     "execution_count": 177,
     "metadata": {},
     "output_type": "execute_result"
    }
   ],
   "source": [
    "homeless_wage[\"Minimum Wage\"].corr(homeless_wage[\"Homeless Rate\"])"
   ]
  },
  {
   "cell_type": "markdown",
   "metadata": {},
   "source": [
    "Scatter Chart"
   ]
  },
  {
   "cell_type": "code",
   "execution_count": 178,
   "metadata": {},
   "outputs": [
    {
     "data": {
      "text/plain": [
       "Text(0.5, 1.0, \"Scatter Of 2020 Homeless Rate By A State's Minimum Wage\")"
      ]
     },
     "execution_count": 178,
     "metadata": {},
     "output_type": "execute_result"
    },
    {
     "data": {
      "image/png": "[encoded data removed]",
      "text/plain": [
       "<Figure size 1080x540 with 1 Axes>"
      ]
     },
     "metadata": {},
     "output_type": "display_data"
    }
   ],
   "source": [
    "fig, ax = plt.subplots()\n",
    "sns.set(rc={\"figure.figsize\":(15,7.5)})\n",
    "plot2 = sns.regplot(x = \"Minimum Wage\",\n",
    "            y = \"Homeless Rate\", \n",
    "            ci = None,\n",
    "            ax=ax,\n",
    "            data = homeless_wage)\n",
    "\n",
    "#labels each dot based on its state id\n",
    "for k, v in homeless_wage.iterrows():\n",
    "    ax.annotate(k, v, family='sans-serif', fontsize=12, color='darkslategrey')\n",
    "fig.canvas.draw()\n",
    "plot2.set_title(\"Scatter Of 2020 Homeless Rate By A State's Minimum Wage\")"
   ]
  },
  {
   "cell_type": "markdown",
   "metadata": {},
   "source": [
    "Louisiana ($7.25) minimum wage is overlapped by a clump of other states that has left their minim wage at the federal minimum. There is a wide discrepency in this category as many states use the federal minimum wage. The rest of the data has a clear correlation. As minimum wage increases, rate of homelessness increases. Now this data can be decieving - and doesn't help as much. One would expect a higher minimum wage would reduce homelessness, but there is another key factor here: population size. Large states with major cities likely have a higher minimum wage and a higher homeless rate. "
   ]
  },
  {
   "cell_type": "markdown",
   "metadata": {},
   "source": [
    "### Homelessness By State 2020 Electoral Vote"
   ]
  },
  {
   "cell_type": "code",
   "execution_count": 179,
   "metadata": {},
   "outputs": [
    {
     "data": {
      "text/plain": [
       "<AxesSubplot:title={'center':'Average Homeless Rate By States 2020 Electoral Vote'}, xlabel='2020 Electoral Vote', ylabel='2020 Homeless Rate'>"
      ]
     },
     "execution_count": 179,
     "metadata": {},
     "output_type": "execute_result"
    },
    {
     "data": {
      "image/png": "[encoded data removed]",
      "text/plain": [
       "<Figure size 1080x540 with 1 Axes>"
      ]
     },
     "metadata": {},
     "output_type": "display_data"
    }
   ],
   "source": [
    "df2020.groupby(\"2020 Electoral Vote\").mean()[\"Homeless Rate\"].plot.bar(color = [\"blue\",\"red\"],ylabel =\"2020 Homeless Rate\", title = \"Average Homeless Rate By States 2020 Electoral Vote\")"
   ]
  },
  {
   "cell_type": "markdown",
   "metadata": {},
   "source": [
    "I think this line of code is really sleek and offers a great insight into homelessness. What you see above is the average rate of homelessness for states that voted Democrat against Republican states in the 2020 Presidential Election"
   ]
  },
  {
   "cell_type": "markdown",
   "metadata": {},
   "source": [
    "# Analysis Part 3: Conclusions and Predictions\n",
    "#### In order to make predictions about the future of homelessness in the US we need to take a look in the past. We will go back to the HUD data, now observing every Point In Time Sheet Available (Starting in 2007)\n",
    "#### Data Collection"
   ]
  },
  {
   "cell_type": "code",
   "execution_count": 206,
   "metadata": {},
   "outputs": [],
   "source": [
    "#reset 2020 data\n",
    "HUD2020 = pd.read_csv(\"./data/HUD2020.csv\")\n",
    "HUD2020 = HUD2020[[\"State\",\"Overall Homeless, 2020\"]]\n",
    "\n",
    "#2019 total homeless by state\n",
    "HUD2019 = pd.read_csv(\"./data/HUD2019.csv\")\n",
    "HUD2019 = HUD2019[[\"State\",\"Overall Homeless, 2019\"]]\n",
    "\n",
    "#2018 total homeless by state\n",
    "HUD2018 = pd.read_csv(\"./data/HUD2018.csv\")\n",
    "HUD2018 = HUD2018[[\"State\",\"Overall Homeless, 2018\"]]\n",
    "\n",
    "#2017 total homeless by state\n",
    "HUD2017 = pd.read_csv(\"./data/HUD2017.csv\")\n",
    "HUD2017 = HUD2017[[\"State\",\"Overall Homeless, 2017\"]]\n",
    "\n",
    "#2016 total homeless by state\n",
    "HUD2016 = pd.read_csv(\"./data/HUD2016.csv\")\n",
    "HUD2016 = HUD2016[[\"State\",\"Overall Homeless, 2016\"]]\n",
    "\n",
    "#2015 total homeless by state\n",
    "HUD2015 = pd.read_csv(\"./data/HUD2015.csv\")\n",
    "HUD2015 = HUD2015[[\"State\",\"Overall Homeless, 2015\"]]\n",
    "\n",
    "#2014 total homeless by state\n",
    "HUD2014 = pd.read_csv(\"./data/HUD2014.csv\")\n",
    "HUD2014 = HUD2014[[\"State\",\"Overall Homeless, 2014\"]]\n",
    "\n",
    "#2013 total homeless by state\n",
    "HUD2013 = pd.read_csv(\"./data/HUD2013.csv\")\n",
    "HUD2013 = HUD2013[[\"State\",\"Overall Homeless, 2013\"]]\n",
    "\n",
    "#2012 total homeless by state\n",
    "HUD2012 = pd.read_csv(\"./data/HUD2012.csv\")\n",
    "HUD2012 = HUD2012[[\"State\",\"Overall Homeless, 2012\"]]\n",
    "\n",
    "#2011 total homeless by state\n",
    "HUD2011 = pd.read_csv(\"./data/HUD2011.csv\")\n",
    "HUD2011 = HUD2011[[\"State\",\"Overall Homeless, 2011\"]]\n",
    "\n",
    "#2010 total homeless by state\n",
    "HUD2010 = pd.read_csv(\"./data/HUD2010.csv\")\n",
    "HUD2010 = HUD2010[[\"State\",\"Overall Homeless, 2010\"]]\n",
    "\n",
    "#2009 total homeless by state\n",
    "HUD2009 = pd.read_csv(\"./data/HUD2009.csv\")\n",
    "HUD2009 = HUD2009[[\"State\",\"Overall Homeless, 2009\"]]\n",
    "\n",
    "#2008 total homeless by state\n",
    "HUD2008 = pd.read_csv(\"./data/HUD2008.csv\")\n",
    "HUD2008 = HUD2008[[\"State\",\"Overall Homeless, 2008\"]]\n",
    "\n",
    "#2007 total homeless by state\n",
    "HUD2007 = pd.read_csv(\"./data/HUD2007.csv\")\n",
    "HUD2007 = HUD2007[[\"State\",\"Overall Homeless, 2007\"]]"
   ]
  },
  {
   "cell_type": "markdown",
   "metadata": {},
   "source": [
    "#### Data Merging"
   ]
  },
  {
   "cell_type": "code",
   "execution_count": 207,
   "metadata": {},
   "outputs": [],
   "source": [
    "#2019-2020\n",
    "HUDall = HUD2020.merge(HUD2019, on= \"State\", how = \"inner\")\n",
    "#2018-2020\n",
    "HUDall = HUDall.merge(HUD2018, on= \"State\", how = \"inner\")\n",
    "#2017-2020\n",
    "HUDall = HUDall.merge(HUD2017, on= \"State\", how = \"inner\")\n",
    "#2016-2020\n",
    "HUDall = HUDall.merge(HUD2016, on= \"State\", how = \"inner\")\n",
    "#2015-2020\n",
    "HUDall = HUDall.merge(HUD2015, on= \"State\", how = \"inner\")\n",
    "#2014-2020\n",
    "HUDall = HUDall.merge(HUD2014, on= \"State\", how = \"inner\")\n",
    "#2013-2020\n",
    "HUDall = HUDall.merge(HUD2013, on= \"State\", how = \"inner\")\n",
    "#2012-2020\n",
    "HUDall = HUDall.merge(HUD2012, on= \"State\", how = \"inner\")\n",
    "#2011-2020\n",
    "HUDall = HUDall.merge(HUD2011, on= \"State\", how = \"inner\")\n",
    "#2010-2020\n",
    "HUDall = HUDall.merge(HUD2010, on= \"State\", how = \"inner\")\n",
    "#2009-2020\n",
    "HUDall = HUDall.merge(HUD2009, on= \"State\", how = \"inner\")\n",
    "#2008-2020\n",
    "HUDall = HUDall.merge(HUD2008, on= \"State\", how = \"inner\")\n",
    "#2007-2020\n",
    "HUDall_dirty = HUDall.merge(HUD2007, on= \"State\", how = \"inner\")\n",
    "#removes data from additional rows- only 50 states\n",
    "HUDall = HUDall_dirty.drop([3,8,12,27,42,50])\n",
    "HUDall.rename(columns = {\"State\":\"State ID\"}, inplace =True)\n",
    "df2020 = df2020.merge(HUDall, on = \"State ID\", how = \"inner\")"
   ]
  },
  {
   "cell_type": "markdown",
   "metadata": {},
   "source": [
    "#### Clean Data"
   ]
  },
  {
   "cell_type": "code",
   "execution_count": 208,
   "metadata": {},
   "outputs": [
    {
     "data": {
      "text/html": [
       "<div>\n",
       "<style scoped>\n",
       "    .dataframe tbody tr th:only-of-type {\n",
       "        vertical-align: middle;\n",
       "    }\n",
       "\n",
       "    .dataframe tbody tr th {\n",
       "        vertical-align: top;\n",
       "    }\n",
       "\n",
       "    .dataframe thead th {\n",
       "        text-align: right;\n",
       "    }\n",
       "</style>\n",
       "<table border=\"1\" class=\"dataframe\">\n",
       "  <thead>\n",
       "    <tr style=\"text-align: right;\">\n",
       "      <th></th>\n",
       "      <th>Year</th>\n",
       "      <th>AK</th>\n",
       "      <th>AL</th>\n",
       "      <th>AR</th>\n",
       "      <th>AZ</th>\n",
       "      <th>CA</th>\n",
       "      <th>CO</th>\n",
       "      <th>CT</th>\n",
       "      <th>DE</th>\n",
       "      <th>FL</th>\n",
       "      <th>...</th>\n",
       "      <th>TN</th>\n",
       "      <th>TX</th>\n",
       "      <th>UT</th>\n",
       "      <th>VA</th>\n",
       "      <th>VT</th>\n",
       "      <th>WA</th>\n",
       "      <th>WI</th>\n",
       "      <th>WV</th>\n",
       "      <th>WY</th>\n",
       "      <th>Total</th>\n",
       "    </tr>\n",
       "  </thead>\n",
       "  <tbody>\n",
       "    <tr>\n",
       "      <th>0</th>\n",
       "      <td>2007</td>\n",
       "      <td>1642</td>\n",
       "      <td>5452</td>\n",
       "      <td>3836</td>\n",
       "      <td>14646</td>\n",
       "      <td>138986</td>\n",
       "      <td>14225</td>\n",
       "      <td>4482</td>\n",
       "      <td>1061</td>\n",
       "      <td>48069</td>\n",
       "      <td>...</td>\n",
       "      <td>11210</td>\n",
       "      <td>39788</td>\n",
       "      <td>3011</td>\n",
       "      <td>9746</td>\n",
       "      <td>1035</td>\n",
       "      <td>23379</td>\n",
       "      <td>5648</td>\n",
       "      <td>2409</td>\n",
       "      <td>537</td>\n",
       "      <td>647258</td>\n",
       "    </tr>\n",
       "    <tr>\n",
       "      <th>1</th>\n",
       "      <td>2008</td>\n",
       "      <td>1646</td>\n",
       "      <td>5387</td>\n",
       "      <td>3255</td>\n",
       "      <td>12488</td>\n",
       "      <td>136531</td>\n",
       "      <td>14747</td>\n",
       "      <td>4627</td>\n",
       "      <td>933</td>\n",
       "      <td>50158</td>\n",
       "      <td>...</td>\n",
       "      <td>9705</td>\n",
       "      <td>40190</td>\n",
       "      <td>3434</td>\n",
       "      <td>8469</td>\n",
       "      <td>954</td>\n",
       "      <td>21954</td>\n",
       "      <td>5449</td>\n",
       "      <td>2016</td>\n",
       "      <td>751</td>\n",
       "      <td>639784</td>\n",
       "    </tr>\n",
       "    <tr>\n",
       "      <th>2</th>\n",
       "      <td>2009</td>\n",
       "      <td>1992</td>\n",
       "      <td>6080</td>\n",
       "      <td>2852</td>\n",
       "      <td>14721</td>\n",
       "      <td>123678</td>\n",
       "      <td>15268</td>\n",
       "      <td>4605</td>\n",
       "      <td>1130</td>\n",
       "      <td>55599</td>\n",
       "      <td>...</td>\n",
       "      <td>10532</td>\n",
       "      <td>36761</td>\n",
       "      <td>3795</td>\n",
       "      <td>8852</td>\n",
       "      <td>1214</td>\n",
       "      <td>22782</td>\n",
       "      <td>6525</td>\n",
       "      <td>1667</td>\n",
       "      <td>515</td>\n",
       "      <td>630227</td>\n",
       "    </tr>\n",
       "    <tr>\n",
       "      <th>3</th>\n",
       "      <td>2010</td>\n",
       "      <td>1863</td>\n",
       "      <td>6046</td>\n",
       "      <td>2762</td>\n",
       "      <td>13711</td>\n",
       "      <td>123480</td>\n",
       "      <td>15482</td>\n",
       "      <td>4316</td>\n",
       "      <td>982</td>\n",
       "      <td>57551</td>\n",
       "      <td>...</td>\n",
       "      <td>10276</td>\n",
       "      <td>35121</td>\n",
       "      <td>3284</td>\n",
       "      <td>9080</td>\n",
       "      <td>1220</td>\n",
       "      <td>22878</td>\n",
       "      <td>6333</td>\n",
       "      <td>2264</td>\n",
       "      <td>579</td>\n",
       "      <td>637077</td>\n",
       "    </tr>\n",
       "    <tr>\n",
       "      <th>4</th>\n",
       "      <td>2011</td>\n",
       "      <td>2128</td>\n",
       "      <td>5558</td>\n",
       "      <td>3424</td>\n",
       "      <td>10504</td>\n",
       "      <td>125128</td>\n",
       "      <td>15116</td>\n",
       "      <td>4456</td>\n",
       "      <td>1035</td>\n",
       "      <td>56687</td>\n",
       "      <td>...</td>\n",
       "      <td>9113</td>\n",
       "      <td>36911</td>\n",
       "      <td>3130</td>\n",
       "      <td>8816</td>\n",
       "      <td>1144</td>\n",
       "      <td>20439</td>\n",
       "      <td>5785</td>\n",
       "      <td>2211</td>\n",
       "      <td>1038</td>\n",
       "      <td>623788</td>\n",
       "    </tr>\n",
       "  </tbody>\n",
       "</table>\n",
       "<p>5 rows × 52 columns</p>\n",
       "</div>"
      ],
      "text/plain": [
       "   Year    AK    AL    AR     AZ      CA     CO    CT    DE     FL  ...  \\\n",
       "0  2007  1642  5452  3836  14646  138986  14225  4482  1061  48069  ...   \n",
       "1  2008  1646  5387  3255  12488  136531  14747  4627   933  50158  ...   \n",
       "2  2009  1992  6080  2852  14721  123678  15268  4605  1130  55599  ...   \n",
       "3  2010  1863  6046  2762  13711  123480  15482  4316   982  57551  ...   \n",
       "4  2011  2128  5558  3424  10504  125128  15116  4456  1035  56687  ...   \n",
       "\n",
       "      TN     TX    UT    VA    VT     WA    WI    WV    WY   Total  \n",
       "0  11210  39788  3011  9746  1035  23379  5648  2409   537  647258  \n",
       "1   9705  40190  3434  8469   954  21954  5449  2016   751  639784  \n",
       "2  10532  36761  3795  8852  1214  22782  6525  1667   515  630227  \n",
       "3  10276  35121  3284  9080  1220  22878  6333  2264   579  637077  \n",
       "4   9113  36911  3130  8816  1144  20439  5785  2211  1038  623788  \n",
       "\n",
       "[5 rows x 52 columns]"
      ]
     },
     "execution_count": 208,
     "metadata": {},
     "output_type": "execute_result"
    }
   ],
   "source": [
    "#remove rest of string from label - only keeps year id\n",
    "for columns in HUDall:\n",
    "    HUDall.rename({columns:columns[-4:]},inplace=True, axis=\"columns\")\n",
    "    \n",
    "#flips rows and columns\n",
    "HUDall = HUDall.transpose()\n",
    "\n",
    "#sets state label to column id\n",
    "for columns in HUDall:\n",
    "    HUDall.rename({columns:HUDall[columns][0]},inplace=True, axis=\"columns\")\n",
    "HUDall.drop([\"e ID\"], inplace = True)\n",
    "\n",
    "#flip rows\n",
    "HUDall = HUDall.sort_index(ascending=True)\n",
    "\n",
    "#make year index a column\n",
    "HUDall.reset_index(inplace=True)\n",
    "\n",
    "#rename index to year\n",
    "HUDall.rename(columns={\"index\":\"Year\"},inplace=True)\n",
    "#cast as ints\n",
    "HUDall = HUDall.astype(int)\n",
    "HUDall.head()"
   ]
  },
  {
   "cell_type": "markdown",
   "metadata": {},
   "source": [
    "### Change In Homelessness Over Time - Nationwide (Since 2007)"
   ]
  },
  {
   "cell_type": "code",
   "execution_count": 209,
   "metadata": {},
   "outputs": [
    {
     "data": {
      "text/plain": [
       "<AxesSubplot:title={'center':'Nationwide Homeless Population Since 2007'}, xlabel='Year', ylabel='Nationwide Homeless Population'>"
      ]
     },
     "execution_count": 209,
     "metadata": {},
     "output_type": "execute_result"
    },
    {
     "data": {
      "image/png": "[encoded data removed]",
      "text/plain": [
       "<Figure size 1080x540 with 1 Axes>"
      ]
     },
     "metadata": {},
     "output_type": "display_data"
    }
   ],
   "source": [
    "HUDall.plot.line(x=\"Year\", y = \"Total\", ylabel = \"Nationwide Homeless Population\", title = \"Nationwide Homeless Population Since 2007\")"
   ]
  },
  {
   "cell_type": "markdown",
   "metadata": {},
   "source": [
    "Nationwide homelessness was declining rapidly from 2017 to 2016. However, since 2016, it has been on a steady increase."
   ]
  },
  {
   "cell_type": "markdown",
   "metadata": {},
   "source": [
    "### Change In Homelessness Over Time - Louisiana (Since 2007)"
   ]
  },
  {
   "cell_type": "code",
   "execution_count": 210,
   "metadata": {},
   "outputs": [
    {
     "data": {
      "text/plain": [
       "<AxesSubplot:title={'center':'Change In Louisiana Homeless Population Since 2007'}, xlabel='Year', ylabel='Louisiana Homeless Population'>"
      ]
     },
     "execution_count": 210,
     "metadata": {},
     "output_type": "execute_result"
    },
    {
     "data": {
      "image/png": "[encoded data removed]",
      "text/plain": [
       "<Figure size 1080x540 with 1 Axes>"
      ]
     },
     "metadata": {},
     "output_type": "display_data"
    }
   ],
   "source": [
    "HUDall.plot.line(x=\"Year\", y = \"LA\", ylabel = \"Louisiana Homeless Population\", title = \"Change In Louisiana Homeless Population Since 2007\")"
   ]
  },
  {
   "cell_type": "markdown",
   "metadata": {},
   "source": [
    "Louisiana saw a quick increase in homelessness from 2008 to 2010. Yet since then the state has been rapidly decreasing its homeless population as it is now the state with the third smallest homeless rate."
   ]
  },
  {
   "cell_type": "markdown",
   "metadata": {},
   "source": [
    "### States With The Largest Increase And Decrease In Homelessness"
   ]
  },
  {
   "cell_type": "code",
   "execution_count": 211,
   "metadata": {},
   "outputs": [
    {
     "data": {
      "text/html": [
       "<div>\n",
       "<style scoped>\n",
       "    .dataframe tbody tr th:only-of-type {\n",
       "        vertical-align: middle;\n",
       "    }\n",
       "\n",
       "    .dataframe tbody tr th {\n",
       "        vertical-align: top;\n",
       "    }\n",
       "\n",
       "    .dataframe thead th {\n",
       "        text-align: right;\n",
       "    }\n",
       "</style>\n",
       "<table border=\"1\" class=\"dataframe\">\n",
       "  <thead>\n",
       "    <tr style=\"text-align: right;\">\n",
       "      <th>Year</th>\n",
       "      <th>Change</th>\n",
       "    </tr>\n",
       "  </thead>\n",
       "  <tbody>\n",
       "    <tr>\n",
       "      <th>SD</th>\n",
       "      <td>0.827288</td>\n",
       "    </tr>\n",
       "    <tr>\n",
       "      <th>NY</th>\n",
       "      <td>0.457980</td>\n",
       "    </tr>\n",
       "    <tr>\n",
       "      <th>MT</th>\n",
       "      <td>0.343478</td>\n",
       "    </tr>\n",
       "    <tr>\n",
       "      <th>ID</th>\n",
       "      <td>0.323613</td>\n",
       "    </tr>\n",
       "    <tr>\n",
       "      <th>MA</th>\n",
       "      <td>0.188273</td>\n",
       "    </tr>\n",
       "  </tbody>\n",
       "</table>\n",
       "</div>"
      ],
      "text/plain": [
       "Year    Change\n",
       "SD    0.827288\n",
       "NY    0.457980\n",
       "MT    0.343478\n",
       "ID    0.323613\n",
       "MA    0.188273"
      ]
     },
     "execution_count": 211,
     "metadata": {},
     "output_type": "execute_result"
    }
   ],
   "source": [
    "#new df for first and last years data and change row\n",
    "change = HUDall.loc[[0,13]]\n",
    "change = change.append(HUDall.loc[1])\n",
    "change[\"Year\"][1] = \"Change\"\n",
    "change.set_index(\"Year\", inplace = True)\n",
    "change = change.astype(float)\n",
    "#for loop set change over time in every state\n",
    "for columns in change:\n",
    "    change[columns][\"Change\"] = (float(change[columns][2020]) - float(change[columns][2007])) / float(change[columns][2007])\n",
    "\n",
    "change = change.loc[[\"Change\"]]\n",
    "change = change.transpose()\n",
    "change = change.sort_values(by = \"Change\",ascending = False)\n",
    "change.head()"
   ]
  },
  {
   "cell_type": "markdown",
   "metadata": {},
   "source": [
    "States with the largest increase in homelessness: South Dakota, New York, Montana, Indiana, Massachussetts"
   ]
  },
  {
   "cell_type": "code",
   "execution_count": 499,
   "metadata": {},
   "outputs": [
    {
     "data": {
      "text/html": [
       "<div>\n",
       "<style scoped>\n",
       "    .dataframe tbody tr th:only-of-type {\n",
       "        vertical-align: middle;\n",
       "    }\n",
       "\n",
       "    .dataframe tbody tr th {\n",
       "        vertical-align: top;\n",
       "    }\n",
       "\n",
       "    .dataframe thead th {\n",
       "        text-align: right;\n",
       "    }\n",
       "</style>\n",
       "<table border=\"1\" class=\"dataframe\">\n",
       "  <thead>\n",
       "    <tr style=\"text-align: right;\">\n",
       "      <th>Year</th>\n",
       "      <th>Change</th>\n",
       "    </tr>\n",
       "  </thead>\n",
       "  <tbody>\n",
       "    <tr>\n",
       "      <th>MI</th>\n",
       "      <td>-0.694716</td>\n",
       "    </tr>\n",
       "    <tr>\n",
       "      <th>KY</th>\n",
       "      <td>-0.502419</td>\n",
       "    </tr>\n",
       "    <tr>\n",
       "      <th>GA</th>\n",
       "      <td>-0.478894</td>\n",
       "    </tr>\n",
       "    <tr>\n",
       "      <th>WV</th>\n",
       "      <td>-0.443337</td>\n",
       "    </tr>\n",
       "    <tr>\n",
       "      <th>NJ</th>\n",
       "      <td>-0.441954</td>\n",
       "    </tr>\n",
       "  </tbody>\n",
       "</table>\n",
       "</div>"
      ],
      "text/plain": [
       "Year    Change\n",
       "MI   -0.694716\n",
       "KY   -0.502419\n",
       "GA   -0.478894\n",
       "WV   -0.443337\n",
       "NJ   -0.441954"
      ]
     },
     "execution_count": 499,
     "metadata": {},
     "output_type": "execute_result"
    }
   ],
   "source": [
    "change = change.sort_values(by = \"Change\",ascending = True)\n",
    "change.head()"
   ]
  },
  {
   "cell_type": "markdown",
   "metadata": {},
   "source": [
    "States with the largest decrease in homelessness: Michigan, Kentucky, Georgia, West Virginia, New Jersey"
   ]
  },
  {
   "cell_type": "markdown",
   "metadata": {},
   "source": [
    "#### Analysis\n",
    "\n",
    "Why do these states have such a high homeless rate? Are there any significant stats about their temp, min wage, votes?"
   ]
  },
  {
   "cell_type": "code",
   "execution_count": 536,
   "metadata": {},
   "outputs": [
    {
     "data": {
      "text/plain": [
       "51.2"
      ]
     },
     "execution_count": 536,
     "metadata": {},
     "output_type": "execute_result"
    }
   ],
   "source": [
    "df2020[\"Average Temperature\"].median()"
   ]
  },
  {
   "cell_type": "code",
   "execution_count": 537,
   "metadata": {},
   "outputs": [
    {
     "data": {
      "text/plain": [
       "9.0"
      ]
     },
     "execution_count": 537,
     "metadata": {},
     "output_type": "execute_result"
    }
   ],
   "source": [
    "df2020[\"Minimum Wage\"].astype(float).median()"
   ]
  },
  {
   "cell_type": "code",
   "execution_count": 237,
   "metadata": {},
   "outputs": [
    {
     "data": {
      "text/html": [
       "<div>\n",
       "<style scoped>\n",
       "    .dataframe tbody tr th:only-of-type {\n",
       "        vertical-align: middle;\n",
       "    }\n",
       "\n",
       "    .dataframe tbody tr th {\n",
       "        vertical-align: top;\n",
       "    }\n",
       "\n",
       "    .dataframe thead th {\n",
       "        text-align: right;\n",
       "    }\n",
       "</style>\n",
       "<table border=\"1\" class=\"dataframe\">\n",
       "  <thead>\n",
       "    <tr style=\"text-align: right;\">\n",
       "      <th></th>\n",
       "      <th>State</th>\n",
       "      <th>Average Temperature</th>\n",
       "      <th>Minimum Wage</th>\n",
       "    </tr>\n",
       "  </thead>\n",
       "  <tbody>\n",
       "    <tr>\n",
       "      <th>37</th>\n",
       "      <td>South Dakota</td>\n",
       "      <td>45.2</td>\n",
       "      <td>9.45</td>\n",
       "    </tr>\n",
       "    <tr>\n",
       "      <th>36</th>\n",
       "      <td>New York</td>\n",
       "      <td>45.4</td>\n",
       "      <td>12.50</td>\n",
       "    </tr>\n",
       "    <tr>\n",
       "      <th>44</th>\n",
       "      <td>Montana</td>\n",
       "      <td>42.7</td>\n",
       "      <td>8.75</td>\n",
       "    </tr>\n",
       "    <tr>\n",
       "      <th>24</th>\n",
       "      <td>Indiana</td>\n",
       "      <td>51.7</td>\n",
       "      <td>7.25</td>\n",
       "    </tr>\n",
       "    <tr>\n",
       "      <th>34</th>\n",
       "      <td>Massachusetts</td>\n",
       "      <td>47.9</td>\n",
       "      <td>13.50</td>\n",
       "    </tr>\n",
       "  </tbody>\n",
       "</table>\n",
       "</div>"
      ],
      "text/plain": [
       "            State  Average Temperature Minimum Wage\n",
       "37   South Dakota                 45.2         9.45\n",
       "36       New York                 45.4        12.50\n",
       "44        Montana                 42.7         8.75\n",
       "24        Indiana                 51.7         7.25\n",
       "34  Massachusetts                 47.9        13.50"
      ]
     },
     "execution_count": 237,
     "metadata": {},
     "output_type": "execute_result"
    }
   ],
   "source": [
    "#South Dakota, New York, Montana, Indiana, Massachussets - largest increase\n",
    "df2020.loc[[37,36,44,24,34]][[\"State\",\"Average Temperature\",\"Minimum Wage\"]]"
   ]
  },
  {
   "cell_type": "markdown",
   "metadata": {},
   "source": [
    "All five states were cold than the national average (surprising), you'd expect colder states to have a smaller increase in homelessness. \n",
    "3/5 states have a higher minimum wage than the national average (Massachusetts, New York, and South Dakota). Indiana uses the federal minimum wage."
   ]
  },
  {
   "cell_type": "code",
   "execution_count": 238,
   "metadata": {},
   "outputs": [
    {
     "data": {
      "text/html": [
       "<div>\n",
       "<style scoped>\n",
       "    .dataframe tbody tr th:only-of-type {\n",
       "        vertical-align: middle;\n",
       "    }\n",
       "\n",
       "    .dataframe tbody tr th {\n",
       "        vertical-align: top;\n",
       "    }\n",
       "\n",
       "    .dataframe thead th {\n",
       "        text-align: right;\n",
       "    }\n",
       "</style>\n",
       "<table border=\"1\" class=\"dataframe\">\n",
       "  <thead>\n",
       "    <tr style=\"text-align: right;\">\n",
       "      <th></th>\n",
       "      <th>State</th>\n",
       "      <th>Average Temperature</th>\n",
       "      <th>Minimum Wage</th>\n",
       "    </tr>\n",
       "  </thead>\n",
       "  <tbody>\n",
       "    <tr>\n",
       "      <th>39</th>\n",
       "      <td>Michigan</td>\n",
       "      <td>44.4</td>\n",
       "      <td>9.87</td>\n",
       "    </tr>\n",
       "    <tr>\n",
       "      <th>14</th>\n",
       "      <td>Kentucky</td>\n",
       "      <td>55.6</td>\n",
       "      <td>7.25</td>\n",
       "    </tr>\n",
       "    <tr>\n",
       "      <th>4</th>\n",
       "      <td>Georgia</td>\n",
       "      <td>63.5</td>\n",
       "      <td>7.25</td>\n",
       "    </tr>\n",
       "    <tr>\n",
       "      <th>22</th>\n",
       "      <td>West Virginia</td>\n",
       "      <td>51.8</td>\n",
       "      <td>8.75</td>\n",
       "    </tr>\n",
       "    <tr>\n",
       "      <th>21</th>\n",
       "      <td>New Jersey</td>\n",
       "      <td>52.7</td>\n",
       "      <td>12.00</td>\n",
       "    </tr>\n",
       "  </tbody>\n",
       "</table>\n",
       "</div>"
      ],
      "text/plain": [
       "            State  Average Temperature Minimum Wage\n",
       "39       Michigan                 44.4         9.87\n",
       "14       Kentucky                 55.6         7.25\n",
       "4         Georgia                 63.5         7.25\n",
       "22  West Virginia                 51.8         8.75\n",
       "21     New Jersey                 52.7        12.00"
      ]
     },
     "execution_count": 238,
     "metadata": {},
     "output_type": "execute_result"
    }
   ],
   "source": [
    "#Michigan, Kentucky, Georgia, West Virginia, New Jersey - largest decrease\n",
    "df2020.loc[[39,14,4,22,21]][[\"State\",\"Average Temperature\",\"Minimum Wage\"]]"
   ]
  },
  {
   "cell_type": "markdown",
   "metadata": {},
   "source": [
    "Warmer states - 3/5 were warmer than the national average (suprising).\n",
    "Kentucky and Georgia use the federal minimum wage, so a decrease in homelessness is suprising, and New Jersey and Michigan are higher than the national average"
   ]
  },
  {
   "cell_type": "markdown",
   "metadata": {},
   "source": [
    "# Part 3: Conclusions\n",
    "\n",
    "### Correlated Variables\n",
    "We looked into three key variables and found their impact on the state of homelessness in 2020. \n",
    "\n",
    "1. Average Yearly Temperature - We expect that warmer states will have a higher rate of homelessness.\n",
    "Results: We were wrong. There was a negative correlation of 9%. Colder states have a higher homeless rate. We believe this was due to New York and Alaska having two of the highest homeless rates while being very cold states.\n",
    "2. Minimum Wage - We expect states with a higher minimum wage to have a lower rate of homelessness.\n",
    "Results: We were wrong. There was a positive correlation of 59%. States with a higher minimum wage have a higher homeless rate. We believe this is due to a high homeless population in urban areas and gentrification. \n",
    "3. Election Results - We expect states that voted democrat will have a higher homeless rate.\n",
    "Results: We were right. The homeless rate is democratic states is close to double the rate in republican states (per the 2020 general election).\n",
    "\n",
    "### Outliers\n",
    "Our outlier analysis is more than just finding the states with the largest or smallest homeless population. New York is not an outlier, it has a high homeless population because NYC is the largest city in the country. A more surprising statistic was our analysis of Hawaii and Alaska. Both states are seperated from the mainland US, making them harder to reach, and have a low total population. Alaska is surprising because it is the coldest state and has a very high homeless population, and Hawaii is surprising because it had a high minimum wage and a high homeless rate. Mississippi had the lowest homeless rate, which was suprising initially but then looking at our results from correllated variables, they are a Republican state, moderate temperature, and a low minimum wage.\n",
    "\n",
    "### Nationwide Change Over Time\n",
    "We had 14 years of HUD PIT data and graphed the national change in homelessness YOY. It begins at a peak in 2007, and then the total begins to drop. We believe the 2007/2008 highs are due to the Great Recession / The Housing Crisis happening. Then the numbers begin to decline, and continue declining at a constant rate. Homelessness is on the decline all the way until 2016. Then, the numbers sharply increase up until today. It is possible that the early shifts could be due to changes in fiscal policy and social sentiment during the Trump administration. In 2020, it is possible that the rise in homelessness is due to the Covid-19 pandemic. Although the government provided many relief subsidies, the pandemic may have a more sizable increase on homelessness than expected. \n",
    "\n",
    "### Louisiana\n",
    "We analyzed the correlated homeless variables in Louisiana and the rate of homelessness in the state and were pleasantly suprised. Despite a high homeless population in New Orleans, Louisiana has the third lowest rate of homeless in the US (following Mississippi and Alabama). Based on our variables this makes sense, Louisiana uses the federal minimum wage, voted Republican, and had a warmer temperature.\n",
    "\n",
    "### Future Predictions\n",
    "Going forward, we expect homelessness to rise in the next few years. In March 2022, HUD will release the 2021 PIT Homeless data, and we expect the numbers to be higher than 2020. First, we see an extended impact due to the pandemic. The federal government provided initial relief through stimulus and eviction moratoriums. As we move on from government relief but still live through covid and its difficulties, it is possible that homelessness rises. Parrallels can be drawn to the 2008 Great Recession and the Housing Crisis. The full effects were realized in homelessness until 2010. National homelessness may be on the rise for multiple years. \n",
    "Based on the high homeless rate in 2008/2010"
   ]
  },
  {
   "cell_type": "code",
   "execution_count": null,
   "metadata": {},
   "outputs": [],
   "source": []
  }
 ],
 "metadata": {
  "kernelspec": {
   "display_name": "Python 3",
   "language": "python",
   "name": "python3"
  },
  "language_info": {
   "codemirror_mode": {
    "name": "ipython",
    "version": 3
   },
   "file_extension": ".py",
   "mimetype": "text/x-python",
   "name": "python",
   "nbconvert_exporter": "python",
   "pygments_lexer": "ipython3",
   "version": "3.8.5"
  }
 },
 "nbformat": 4,
 "nbformat_minor": 4
}
