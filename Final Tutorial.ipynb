{
 "cells": [
  {
   "cell_type": "markdown",
   "metadata": {},
   "source": [
    "[chloeuhls.github.io](https://chloeu99.github.io/)"
   ]
  },
  {
   "cell_type": "markdown",
   "metadata": {},
   "source": [
    "Data Science Final Tutorial\n",
    "Jacob Waxman and Chloe Uhls"
   ]
  },
  {
   "cell_type": "markdown",
   "metadata": {},
   "source": [
    "# Analysis Of Homelessness In The United States"
   ]
  },
  {
   "cell_type": "markdown",
   "metadata": {},
   "source": [
    "### Introduction"
   ]
  },
  {
   "cell_type": "markdown",
   "metadata": {},
   "source": [
    "For our final tutorial we will be analyzing homelessness in the United States. We are diving into the current state of homelessness, the change over time, and factors that have the biggest impact on homelessness. Furthermore, we will break down our analysis on a national level and at the state level, highlighting the observations we find in Louisiana. Stats that we will be looking for include total homeless population, rate of homelessness, the population demographics. We will also look for variables correlating with the rate of homelessness at the state level. These factors will include geographic location, local politics, and minimum wage. \n",
    "\n",
    "We will divide our analysis into 3 parts.\n",
    "\n",
    "#### 1. National Observations - Analyzing Key Homeless Statistics \n",
    "\n",
    "#### 2. Regional Impacts - Analyzing On A State-By-State Basis, Highlighting Louisiana, And Finding Correlated Variables \n",
    "\n",
    "#### 3. Future Projections - Predicting The State Of Homelessness in 2021 and Beyond"
   ]
  },
  {
   "cell_type": "markdown",
   "metadata": {},
   "source": [
    "### Collaboration Plan"
   ]
  },
  {
   "cell_type": "markdown",
   "metadata": {},
   "source": [
    "Throughout the semester we will be meeting twice a week to work on our project. We will meet virtually via Zoom and in person depending on the week. We have a Github repository (https://github.com/chloeu99/chloeu99.github.io) to collaborate and save our coding progress. We use Google Docs for written reports, then upload it to Github to keep everything organized. In terms of coding, we will use the same strategies that we learned in class: Python coding and data scraping and the pandas library for analysis."
   ]
  },
  {
   "cell_type": "markdown",
   "metadata": {},
   "source": [
    "### Datasets Used"
   ]
  },
  {
   "cell_type": "markdown",
   "metadata": {},
   "source": [
    "#### 1. 2020 PIT Estimates by State from HUD exchange                                                         \n",
    "\n",
    "Link: https://www.huduser.gov/portal/sites/default/files/xls/2007-2020-PIT-Estimates-by-state.xlsx\n",
    "\n",
    "This data was really exciting to find. The HUD does a great job posting their records on a yearly basis. We downloaded the excel sheet and uploaded it to our public Github. The spreadsheet breaks homelessness down into specific categories including total homelessness by state, demographics, and status of homeless citizens (sheltered, unsheltered, etc). \n",
    "\n",
    "Example Questions: How many people are homeless in Louisiana? Is one gender or one race more likely to be homeless on a national level?\n",
    "\n",
    "\n",
    "#### 2. Minnimum Wage By State (2021)\n",
    "\n",
    "Link: https://minimumwage.com/in-your-state/\n",
    "\n",
    "This data contains a table of each state and their minnimum wage. The federal minimum wage has been stagnent at $7.25 since 2009. Not all states have required a higher state-wide minimum wage, but we expect that those with their own regulations will have a lower homeless population.\n",
    "\n",
    "Example Questions: Is there a correlation between a state's minimum wage and homeless population?\n",
    "\n",
    "#### 3. Electoral College Results By State (1980-2020)\n",
    "\n",
    "Link: https://en.wikipedia.org/wiki/List_of_United_States_presidential_election_results_by_state\n",
    "\n",
    "We went to Wikipedia to find the state-wide Electoral College results for Presidential Elections. We will be analyzing election results from 1980 to 2020, and will look to see if a state's political consciounce is correlated with its homeless population.\n",
    "\n",
    "Example Questions: Is there any correlation between a states politics and homeless population? How has national homeless changed as the presidency has changed?\n",
    "\n",
    "#### 4. Average Temperature By State (2019)\n",
    "\n",
    "Link: https://worldpopulationreview.com/state-rankings/average-temperatures-by-state\n",
    "\n",
    "We are predicting that there is a higher homeless population in warmer states. This will be used as an ease-in analysis, something that we believe is fairly obvious. It will show our approach when working with the dataframe.\n",
    "\n",
    "Example question: Does the coldest state have the lowest homeless population?\n"
   ]
  },
  {
   "cell_type": "markdown",
   "metadata": {},
   "source": [
    "# Data Collection"
   ]
  },
  {
   "cell_type": "code",
   "execution_count": 188,
   "metadata": {},
   "outputs": [
    {
     "data": {
      "text/html": [
       "<style>.container { width:95% !important; }</style>"
      ],
      "text/plain": [
       "<IPython.core.display.HTML object>"
      ]
     },
     "metadata": {},
     "output_type": "display_data"
    }
   ],
   "source": [
    "import requests\n",
    "import json\n",
    "import pandas as pd\n",
    "import numpy as np\n",
    "import io\n",
    "from bs4 import BeautifulSoup\n",
    "# These two things are for Pandas, it widens the notebook and lets us display data easily.\n",
    "from IPython.core.display import display, HTML\n",
    "display(HTML(\"<style>.container { width:95% !important; }</style>\"))"
   ]
  },
  {
   "cell_type": "markdown",
   "metadata": {},
   "source": [
    "### HUD Homelessness Report (2020)"
   ]
  },
  {
   "cell_type": "code",
   "execution_count": 189,
   "metadata": {},
   "outputs": [
    {
     "data": {
      "text/html": [
       "<div>\n",
       "<style scoped>\n",
       "    .dataframe tbody tr th:only-of-type {\n",
       "        vertical-align: middle;\n",
       "    }\n",
       "\n",
       "    .dataframe tbody tr th {\n",
       "        vertical-align: top;\n",
       "    }\n",
       "\n",
       "    .dataframe thead th {\n",
       "        text-align: right;\n",
       "    }\n",
       "</style>\n",
       "<table border=\"1\" class=\"dataframe\">\n",
       "  <thead>\n",
       "    <tr style=\"text-align: right;\">\n",
       "      <th></th>\n",
       "      <th>State</th>\n",
       "      <th>Overall Homeless, 2020</th>\n",
       "      <th>Overall Homeless - Under 18, 2020</th>\n",
       "      <th>Overall Homeless - Age 18 to 24, 2020</th>\n",
       "      <th>Overall Homeless - Over 24, 2020</th>\n",
       "      <th>Overall Homeless - Female, 2020</th>\n",
       "      <th>Overall Homeless - Male, 2020</th>\n",
       "      <th>Overall Homeless - Transgender, 2020</th>\n",
       "      <th>Overall Homeless - Gender Non-Conforming, 2020</th>\n",
       "      <th>Overall Homeless - Hispanic/Latino, 2020</th>\n",
       "      <th>Overall Homeless - White, 2020</th>\n",
       "      <th>Overall Homeless - Black or African American, 2020</th>\n",
       "      <th>Overall Homeless - Asian, 2020</th>\n",
       "      <th>Overall Homeless - American Indian or Alaska Native, 2020</th>\n",
       "      <th>Overall Homeless - Native Hawaiian or Other Pacific Islander, 2020</th>\n",
       "      <th>Overall Homeless - Multiple Races, 2020</th>\n",
       "    </tr>\n",
       "  </thead>\n",
       "  <tbody>\n",
       "    <tr>\n",
       "      <th>0</th>\n",
       "      <td>Alaska</td>\n",
       "      <td>1949</td>\n",
       "      <td>326</td>\n",
       "      <td>197</td>\n",
       "      <td>1426</td>\n",
       "      <td>828</td>\n",
       "      <td>1114</td>\n",
       "      <td>3</td>\n",
       "      <td>4</td>\n",
       "      <td>126</td>\n",
       "      <td>634</td>\n",
       "      <td>137</td>\n",
       "      <td>22</td>\n",
       "      <td>890</td>\n",
       "      <td>40</td>\n",
       "      <td>226</td>\n",
       "    </tr>\n",
       "    <tr>\n",
       "      <th>1</th>\n",
       "      <td>Alabama</td>\n",
       "      <td>3351</td>\n",
       "      <td>528</td>\n",
       "      <td>198</td>\n",
       "      <td>2625</td>\n",
       "      <td>1294</td>\n",
       "      <td>1988</td>\n",
       "      <td>9</td>\n",
       "      <td>4</td>\n",
       "      <td>126</td>\n",
       "      <td>1462</td>\n",
       "      <td>1755</td>\n",
       "      <td>2</td>\n",
       "      <td>37</td>\n",
       "      <td>11</td>\n",
       "      <td>73</td>\n",
       "    </tr>\n",
       "    <tr>\n",
       "      <th>2</th>\n",
       "      <td>Arkansas</td>\n",
       "      <td>2366</td>\n",
       "      <td>195</td>\n",
       "      <td>258</td>\n",
       "      <td>1913</td>\n",
       "      <td>798</td>\n",
       "      <td>1561</td>\n",
       "      <td>5</td>\n",
       "      <td>2</td>\n",
       "      <td>53</td>\n",
       "      <td>1353</td>\n",
       "      <td>901</td>\n",
       "      <td>4</td>\n",
       "      <td>42</td>\n",
       "      <td>21</td>\n",
       "      <td>45</td>\n",
       "    </tr>\n",
       "    <tr>\n",
       "      <th>4</th>\n",
       "      <td>Arizona</td>\n",
       "      <td>10979</td>\n",
       "      <td>1722</td>\n",
       "      <td>824</td>\n",
       "      <td>8433</td>\n",
       "      <td>4228</td>\n",
       "      <td>6694</td>\n",
       "      <td>43</td>\n",
       "      <td>14</td>\n",
       "      <td>2355</td>\n",
       "      <td>6901</td>\n",
       "      <td>2289</td>\n",
       "      <td>77</td>\n",
       "      <td>1027</td>\n",
       "      <td>60</td>\n",
       "      <td>625</td>\n",
       "    </tr>\n",
       "    <tr>\n",
       "      <th>5</th>\n",
       "      <td>California</td>\n",
       "      <td>161548</td>\n",
       "      <td>16141</td>\n",
       "      <td>13391</td>\n",
       "      <td>132016</td>\n",
       "      <td>53505</td>\n",
       "      <td>105737</td>\n",
       "      <td>1601</td>\n",
       "      <td>705</td>\n",
       "      <td>51966</td>\n",
       "      <td>87439</td>\n",
       "      <td>49610</td>\n",
       "      <td>3240</td>\n",
       "      <td>6386</td>\n",
       "      <td>1784</td>\n",
       "      <td>13089</td>\n",
       "    </tr>\n",
       "  </tbody>\n",
       "</table>\n",
       "</div>"
      ],
      "text/plain": [
       "        State Overall Homeless, 2020 Overall Homeless - Under 18, 2020  \\\n",
       "0      Alaska                   1949                               326   \n",
       "1     Alabama                   3351                               528   \n",
       "2    Arkansas                   2366                               195   \n",
       "4     Arizona                  10979                              1722   \n",
       "5  California                 161548                             16141   \n",
       "\n",
       "  Overall Homeless - Age 18 to 24, 2020 Overall Homeless - Over 24, 2020  \\\n",
       "0                                   197                             1426   \n",
       "1                                   198                             2625   \n",
       "2                                   258                             1913   \n",
       "4                                   824                             8433   \n",
       "5                                 13391                           132016   \n",
       "\n",
       "  Overall Homeless - Female, 2020 Overall Homeless - Male, 2020  \\\n",
       "0                             828                          1114   \n",
       "1                            1294                          1988   \n",
       "2                             798                          1561   \n",
       "4                            4228                          6694   \n",
       "5                           53505                        105737   \n",
       "\n",
       "  Overall Homeless - Transgender, 2020  \\\n",
       "0                                    3   \n",
       "1                                    9   \n",
       "2                                    5   \n",
       "4                                   43   \n",
       "5                                 1601   \n",
       "\n",
       "  Overall Homeless - Gender Non-Conforming, 2020  \\\n",
       "0                                              4   \n",
       "1                                              4   \n",
       "2                                              2   \n",
       "4                                             14   \n",
       "5                                            705   \n",
       "\n",
       "  Overall Homeless - Hispanic/Latino, 2020 Overall Homeless - White, 2020  \\\n",
       "0                                      126                            634   \n",
       "1                                      126                           1462   \n",
       "2                                       53                           1353   \n",
       "4                                     2355                           6901   \n",
       "5                                    51966                          87439   \n",
       "\n",
       "  Overall Homeless - Black or African American, 2020  \\\n",
       "0                                                137   \n",
       "1                                               1755   \n",
       "2                                                901   \n",
       "4                                               2289   \n",
       "5                                              49610   \n",
       "\n",
       "  Overall Homeless - Asian, 2020  \\\n",
       "0                             22   \n",
       "1                              2   \n",
       "2                              4   \n",
       "4                             77   \n",
       "5                           3240   \n",
       "\n",
       "  Overall Homeless - American Indian or Alaska Native, 2020  \\\n",
       "0                                                890          \n",
       "1                                                 37          \n",
       "2                                                 42          \n",
       "4                                               1027          \n",
       "5                                               6386          \n",
       "\n",
       "  Overall Homeless - Native Hawaiian or Other Pacific Islander, 2020  \\\n",
       "0                                                 40                   \n",
       "1                                                 11                   \n",
       "2                                                 21                   \n",
       "4                                                 60                   \n",
       "5                                               1784                   \n",
       "\n",
       "  Overall Homeless - Multiple Races, 2020  \n",
       "0                                     226  \n",
       "1                                      73  \n",
       "2                                      45  \n",
       "4                                     625  \n",
       "5                                   13089  "
      ]
     },
     "execution_count": 189,
     "metadata": {},
     "output_type": "execute_result"
    }
   ],
   "source": [
    "#reading in a HUD csv file from Github\n",
    "HUD2020 = pd.read_csv(\"./data/HUD2020.csv\")\n",
    "\n",
    "#keeps most relevant columns\n",
    "HUD2020 = HUD2020[[\"State\",\"Overall Homeless, 2020\",\"Overall Homeless - Under 18, 2020\", \"Overall Homeless - Age 18 to 24, 2020\", \"Overall Homeless - Over 24, 2020\", \"Overall Homeless - Female, 2020\", \"Overall Homeless - Male, 2020\", \"Overall Homeless - Transgender, 2020\", \"Overall Homeless - Gender Non-Conforming, 2020\",\"Overall Homeless - Hispanic/Latino, 2020\", \"Overall Homeless - White, 2020\", \"Overall Homeless - Black or African American, 2020\",\"Overall Homeless - Asian, 2020\", \"Overall Homeless - American Indian or Alaska Native, 2020\", \"Overall Homeless - Native Hawaiian or Other Pacific Islander, 2020\", \"Overall Homeless - Multiple Races, 2020\",]]\n",
    "\n",
    "#removes data from additional rows- only 50 states\n",
    "HUD2020 = HUD2020.drop([3,8,12,27,42,50,56,57])\n",
    "\n",
    "#changes all state tickers to full names\n",
    "HUD2020[\"State\"] = HUD2020[\"State\"].map({\"AK\":\"Alaska\", \"AL\":\"Alabama\", \"AR\": \"Arkansas\", \"AZ\": \"Arizona\", \"CA\":\"California\", \"CO\":\"Colorado\", \"CT\":\"Connecticut\", \"DE\":\"Delaware\",\"FL\":\"Florida\", \"GA\":\"Georgia\",\"HI\":\"Hawaii\",\"IA\":\"Iowa\",\"ID\":\"Idaho\",\"IL\":\"Illinois\",\"IN\":\"Indiana\",\"KS\":\"Kansas\",\"KY\":\"Kentucky\",\"LA\":\"Louisiana\",\"MA\":\"Massachusetts\",\"MD\":\"Maryland\",\"ME\":\"Maine\",\"MI\":\"Michigan\",\"MN\":\"Minnesota\", \"MO\":\"Missouri\",\"MS\":\"Mississippi\",\"MT\":\"Montana\",\"NC\":\"North Carolina\", \"ND\":\"North Dakota\",\"NE\":\"Nebraska\",\"NH\":\"New Hampshire\",\"NJ\":\"New Jersey\",\"NM\":\"New Mexico\",\"NV\":\"Nevada\",\"NY\":\"New York\",\"OH\":\"Ohio\",\"OK\":\"Oklahoma\",\"OR\":\"Oregon\",\"PA\":\"Pennsylvania\",\"RI\":\"Rhode Island\",\"SC\":\"South Carolina\",\"SD\":\"South Dakota\",\"TN\":\"Tennessee\",\"TX\":\"Texas\",\"UT\":\"Utah\",\"VA\":\"Virginia\",\"VT\":\"Vermont\",\"WA\":\"Washington\",\"WI\":\"Wisconsin\",\"WV\":\"West Virginia\",\"WY\":\"Wyoming\"})\n",
    "\n",
    "HUD2020.head()"
   ]
  },
  {
   "cell_type": "markdown",
   "metadata": {},
   "source": [
    "This table has a row for each state in the US and has a column for different homeles statistics including total people and by categories including age, gender, and race. We cleaned this table to only include the most relevent columns."
   ]
  },
  {
   "cell_type": "markdown",
   "metadata": {},
   "source": [
    "### Minimum Wage By State (2021)"
   ]
  },
  {
   "cell_type": "code",
   "execution_count": 190,
   "metadata": {},
   "outputs": [
    {
     "data": {
      "text/html": [
       "<div>\n",
       "<style scoped>\n",
       "    .dataframe tbody tr th:only-of-type {\n",
       "        vertical-align: middle;\n",
       "    }\n",
       "\n",
       "    .dataframe tbody tr th {\n",
       "        vertical-align: top;\n",
       "    }\n",
       "\n",
       "    .dataframe thead th {\n",
       "        text-align: right;\n",
       "    }\n",
       "</style>\n",
       "<table border=\"1\" class=\"dataframe\">\n",
       "  <thead>\n",
       "    <tr style=\"text-align: right;\">\n",
       "      <th></th>\n",
       "      <th>State</th>\n",
       "      <th>Minimum Wage</th>\n",
       "    </tr>\n",
       "  </thead>\n",
       "  <tbody>\n",
       "    <tr>\n",
       "      <th>0</th>\n",
       "      <td>Alabama</td>\n",
       "      <td>7.25</td>\n",
       "    </tr>\n",
       "    <tr>\n",
       "      <th>1</th>\n",
       "      <td>Alaska</td>\n",
       "      <td>10.34</td>\n",
       "    </tr>\n",
       "    <tr>\n",
       "      <th>2</th>\n",
       "      <td>Arizona</td>\n",
       "      <td>12.15</td>\n",
       "    </tr>\n",
       "    <tr>\n",
       "      <th>3</th>\n",
       "      <td>Arkansas</td>\n",
       "      <td>11.00</td>\n",
       "    </tr>\n",
       "    <tr>\n",
       "      <th>4</th>\n",
       "      <td>California</td>\n",
       "      <td>14.00</td>\n",
       "    </tr>\n",
       "  </tbody>\n",
       "</table>\n",
       "</div>"
      ],
      "text/plain": [
       "        State Minimum Wage\n",
       "0     Alabama         7.25\n",
       "1      Alaska        10.34\n",
       "2     Arizona        12.15\n",
       "3    Arkansas        11.00\n",
       "4  California        14.00"
      ]
     },
     "execution_count": 190,
     "metadata": {},
     "output_type": "execute_result"
    }
   ],
   "source": [
    "#Data found for minimum wage by state\n",
    "r = requests.get(\"https://minimumwage.com/in-your-state/\")\n",
    "#parse\n",
    "root = BeautifulSoup(r.content)\n",
    "#find table to make df\n",
    "table = root.find(\"table\")\n",
    "#read html table as df\n",
    "wages = pd.read_html(str(table))\n",
    "#clean\n",
    "wages = pd.concat(wages)\n",
    "#drop all columns except state and wage\n",
    "wages = wages[[\"State\",\"Minimum Wage\"]]\n",
    "\n",
    "#cleans data\n",
    "for key, value in wages.iterrows():\n",
    "    wages[\"Minimum Wage\"][key] = str(wages[\"Minimum Wage\"][key])[1:]\n",
    "    \n",
    "wages.head()"
   ]
  },
  {
   "cell_type": "markdown",
   "metadata": {},
   "source": [
    "DataFrame of 50 rows (each state) and two columns (State and Minimum Wage). The Federal Minimum Wage is $7.25. Any higher wages was set by the state, potentially impacting rate of homelessness. This data was cleaned by removing the dollar sign from the wage value."
   ]
  },
  {
   "cell_type": "markdown",
   "metadata": {},
   "source": [
    "### Electoral College Results By State (1980-2020)"
   ]
  },
  {
   "cell_type": "code",
   "execution_count": 191,
   "metadata": {},
   "outputs": [
    {
     "data": {
      "text/html": [
       "<div>\n",
       "<style scoped>\n",
       "    .dataframe tbody tr th:only-of-type {\n",
       "        vertical-align: middle;\n",
       "    }\n",
       "\n",
       "    .dataframe tbody tr th {\n",
       "        vertical-align: top;\n",
       "    }\n",
       "\n",
       "    .dataframe thead th {\n",
       "        text-align: right;\n",
       "    }\n",
       "</style>\n",
       "<table border=\"1\" class=\"dataframe\">\n",
       "  <thead>\n",
       "    <tr style=\"text-align: right;\">\n",
       "      <th></th>\n",
       "      <th>State</th>\n",
       "      <th>1980</th>\n",
       "      <th>1984</th>\n",
       "      <th>1988</th>\n",
       "      <th>1992</th>\n",
       "      <th>1996</th>\n",
       "      <th>2000</th>\n",
       "      <th>2004</th>\n",
       "      <th>2008</th>\n",
       "      <th>2012</th>\n",
       "      <th>2016</th>\n",
       "      <th>2020</th>\n",
       "    </tr>\n",
       "  </thead>\n",
       "  <tbody>\n",
       "    <tr>\n",
       "      <th>1</th>\n",
       "      <td>Alabama</td>\n",
       "      <td>R</td>\n",
       "      <td>R</td>\n",
       "      <td>R</td>\n",
       "      <td>R</td>\n",
       "      <td>R</td>\n",
       "      <td>R</td>\n",
       "      <td>R</td>\n",
       "      <td>R</td>\n",
       "      <td>R</td>\n",
       "      <td>R</td>\n",
       "      <td>R</td>\n",
       "    </tr>\n",
       "    <tr>\n",
       "      <th>2</th>\n",
       "      <td>Alaska</td>\n",
       "      <td>R</td>\n",
       "      <td>R</td>\n",
       "      <td>R</td>\n",
       "      <td>R</td>\n",
       "      <td>R</td>\n",
       "      <td>R</td>\n",
       "      <td>R</td>\n",
       "      <td>R</td>\n",
       "      <td>R</td>\n",
       "      <td>R</td>\n",
       "      <td>R</td>\n",
       "    </tr>\n",
       "    <tr>\n",
       "      <th>3</th>\n",
       "      <td>Arizona</td>\n",
       "      <td>R</td>\n",
       "      <td>R</td>\n",
       "      <td>R</td>\n",
       "      <td>R</td>\n",
       "      <td>D</td>\n",
       "      <td>R</td>\n",
       "      <td>R</td>\n",
       "      <td>R</td>\n",
       "      <td>R</td>\n",
       "      <td>R</td>\n",
       "      <td>D</td>\n",
       "    </tr>\n",
       "    <tr>\n",
       "      <th>4</th>\n",
       "      <td>Arkansas</td>\n",
       "      <td>R</td>\n",
       "      <td>R</td>\n",
       "      <td>R</td>\n",
       "      <td>D</td>\n",
       "      <td>D</td>\n",
       "      <td>R</td>\n",
       "      <td>R</td>\n",
       "      <td>R</td>\n",
       "      <td>R</td>\n",
       "      <td>R</td>\n",
       "      <td>R</td>\n",
       "    </tr>\n",
       "    <tr>\n",
       "      <th>5</th>\n",
       "      <td>California</td>\n",
       "      <td>R</td>\n",
       "      <td>R</td>\n",
       "      <td>R</td>\n",
       "      <td>D</td>\n",
       "      <td>D</td>\n",
       "      <td>D</td>\n",
       "      <td>D</td>\n",
       "      <td>D</td>\n",
       "      <td>D</td>\n",
       "      <td>D</td>\n",
       "      <td>D</td>\n",
       "    </tr>\n",
       "  </tbody>\n",
       "</table>\n",
       "</div>"
      ],
      "text/plain": [
       "        State 1980 1984 1988 1992 1996 2000 2004 2008 2012 2016 2020\n",
       "1     Alabama    R    R    R    R    R    R    R    R    R    R    R\n",
       "2      Alaska    R    R    R    R    R    R    R    R    R    R    R\n",
       "3     Arizona    R    R    R    R    D    R    R    R    R    R    D\n",
       "4    Arkansas    R    R    R    D    D    R    R    R    R    R    R\n",
       "5  California    R    R    R    D    D    D    D    D    D    D    D"
      ]
     },
     "execution_count": 191,
     "metadata": {},
     "output_type": "execute_result"
    }
   ],
   "source": [
    "#data for which party each state voted for in presidential elections \n",
    "r1 = requests.get(\"https://en.wikipedia.org/wiki/List_of_United_States_presidential_election_results_by_state\")\n",
    "#parse\n",
    "root1 = BeautifulSoup(r1.content)\n",
    "#find table\n",
    "table1 = root1.find(\"table\")\n",
    "#read as table\n",
    "votes = pd.read_html(str(table1))\n",
    "votes = pd.concat(votes)\n",
    "#remove nans at end\n",
    "votes = votes[:54]\n",
    "#clean year data\n",
    "votes[59][0] = 2000\n",
    "votes[64][0] = 2016\n",
    "#cut data down to range from 1980-2020 elections\n",
    "votes = votes[[0,54,55,56,57,58,59,61,62,63,64,65]]\n",
    "#clean - set years to column values\n",
    "for columns in votes:\n",
    "    votes.rename({columns:votes[columns][0]},inplace=True, axis=\"columns\")\n",
    "#removes non state rows\n",
    "votes = votes.drop([0,26,53])\n",
    "votes.head()"
   ]
  },
  {
   "cell_type": "markdown",
   "metadata": {},
   "source": [
    "Each state is tabled with their Presidential Electoral votes since 1980. This data was found on Wikipedia and can be used great for time charts. We will look to see if the values from this chart have a measurable impact on a states homeless population. It can also be mapped on a national level. We cleaned the table up and removed non state rows. We believe the 40 year timeline begining in 1980 is measurable range of values. "
   ]
  },
  {
   "cell_type": "markdown",
   "metadata": {},
   "source": [
    "### Average Temperature By State (2019)"
   ]
  },
  {
   "cell_type": "code",
   "execution_count": 192,
   "metadata": {},
   "outputs": [
    {
     "data": {
      "text/html": [
       "<div>\n",
       "<style scoped>\n",
       "    .dataframe tbody tr th:only-of-type {\n",
       "        vertical-align: middle;\n",
       "    }\n",
       "\n",
       "    .dataframe tbody tr th {\n",
       "        vertical-align: top;\n",
       "    }\n",
       "\n",
       "    .dataframe thead th {\n",
       "        text-align: right;\n",
       "    }\n",
       "</style>\n",
       "<table border=\"1\" class=\"dataframe\">\n",
       "  <thead>\n",
       "    <tr style=\"text-align: right;\">\n",
       "      <th></th>\n",
       "      <th>State</th>\n",
       "      <th>Average Temperature</th>\n",
       "    </tr>\n",
       "  </thead>\n",
       "  <tbody>\n",
       "    <tr>\n",
       "      <th>0</th>\n",
       "      <td>Florida</td>\n",
       "      <td>70.7</td>\n",
       "    </tr>\n",
       "    <tr>\n",
       "      <th>1</th>\n",
       "      <td>Hawaii</td>\n",
       "      <td>70.0</td>\n",
       "    </tr>\n",
       "    <tr>\n",
       "      <th>2</th>\n",
       "      <td>Louisiana</td>\n",
       "      <td>66.4</td>\n",
       "    </tr>\n",
       "    <tr>\n",
       "      <th>3</th>\n",
       "      <td>Texas</td>\n",
       "      <td>64.8</td>\n",
       "    </tr>\n",
       "    <tr>\n",
       "      <th>4</th>\n",
       "      <td>Georgia</td>\n",
       "      <td>63.5</td>\n",
       "    </tr>\n",
       "  </tbody>\n",
       "</table>\n",
       "</div>"
      ],
      "text/plain": [
       "       State  Average Temperature\n",
       "0    Florida                 70.7\n",
       "1     Hawaii                 70.0\n",
       "2  Louisiana                 66.4\n",
       "3      Texas                 64.8\n",
       "4    Georgia                 63.5"
      ]
     },
     "execution_count": 192,
     "metadata": {},
     "output_type": "execute_result"
    }
   ],
   "source": [
    "#data for average 2019 temperature by state - came pre organized in descending order\n",
    "r2 = requests.get(\"https://worldpopulationreview.com/state-rankings/average-temperatures-by-state\")\n",
    "#parse\n",
    "root2 = BeautifulSoup(r2.content)\n",
    "table2 = root2.find(\"table\")\n",
    "#make df\n",
    "temps = pd.read_html(str(table2))\n",
    "temps = pd.concat(temps)\n",
    "temps.head()"
   ]
  },
  {
   "cell_type": "markdown",
   "metadata": {},
   "source": [
    "This table shows the states average temperature during 2019 measured in Farrenheit. We will map this table to the homeless df to predict homeless population by temperature. "
   ]
  },
  {
   "cell_type": "markdown",
   "metadata": {},
   "source": [
    "# Data Merging"
   ]
  },
  {
   "cell_type": "markdown",
   "metadata": {},
   "source": [
    "If you noticed above, all the data was cleaned so that each dataframe has 50 rows, one for each state, named accordingly. By cleaning our data, we made merging table much easier. In this section we will combine all of our tables into one."
   ]
  },
  {
   "cell_type": "code",
   "execution_count": 194,
   "metadata": {},
   "outputs": [
    {
     "name": "stderr",
     "output_type": "stream",
     "text": [
      "/Library/Frameworks/Python.framework/Versions/3.6/lib/python3.6/site-packages/ipykernel_launcher.py:17: SettingWithCopyWarning: \n",
      "A value is trying to be set on a copy of a slice from a DataFrame\n",
      "\n",
      "See the caveats in the documentation: https://pandas.pydata.org/pandas-docs/stable/user_guide/indexing.html#returning-a-view-versus-a-copy\n"
     ]
    },
    {
     "data": {
      "text/html": [
       "<div>\n",
       "<style scoped>\n",
       "    .dataframe tbody tr th:only-of-type {\n",
       "        vertical-align: middle;\n",
       "    }\n",
       "\n",
       "    .dataframe tbody tr th {\n",
       "        vertical-align: top;\n",
       "    }\n",
       "\n",
       "    .dataframe thead th {\n",
       "        text-align: right;\n",
       "    }\n",
       "</style>\n",
       "<table border=\"1\" class=\"dataframe\">\n",
       "  <thead>\n",
       "    <tr style=\"text-align: right;\">\n",
       "      <th></th>\n",
       "      <th>State</th>\n",
       "      <th>Average Temperature</th>\n",
       "      <th>Minimum Wage</th>\n",
       "      <th>1980</th>\n",
       "      <th>1984</th>\n",
       "      <th>1988</th>\n",
       "      <th>1992</th>\n",
       "      <th>1996</th>\n",
       "      <th>2000</th>\n",
       "      <th>2004</th>\n",
       "      <th>...</th>\n",
       "      <th>Overall Homeless - Male, 2020</th>\n",
       "      <th>Overall Homeless - Transgender, 2020</th>\n",
       "      <th>Overall Homeless - Gender Non-Conforming, 2020</th>\n",
       "      <th>Overall Homeless - Hispanic/Latino, 2020</th>\n",
       "      <th>Overall Homeless - White, 2020</th>\n",
       "      <th>Overall Homeless - Black or African American, 2020</th>\n",
       "      <th>Overall Homeless - Asian, 2020</th>\n",
       "      <th>Overall Homeless - American Indian or Alaska Native, 2020</th>\n",
       "      <th>Overall Homeless - Native Hawaiian or Other Pacific Islander, 2020</th>\n",
       "      <th>Overall Homeless - Multiple Races, 2020</th>\n",
       "    </tr>\n",
       "  </thead>\n",
       "  <tbody>\n",
       "    <tr>\n",
       "      <th>0</th>\n",
       "      <td>Florida</td>\n",
       "      <td>70.7</td>\n",
       "      <td>8.65</td>\n",
       "      <td>R</td>\n",
       "      <td>R</td>\n",
       "      <td>R</td>\n",
       "      <td>R</td>\n",
       "      <td>D</td>\n",
       "      <td>R</td>\n",
       "      <td>R</td>\n",
       "      <td>...</td>\n",
       "      <td>17670</td>\n",
       "      <td>52</td>\n",
       "      <td>22</td>\n",
       "      <td>4045</td>\n",
       "      <td>15102</td>\n",
       "      <td>11042</td>\n",
       "      <td>128</td>\n",
       "      <td>328</td>\n",
       "      <td>73</td>\n",
       "      <td>814</td>\n",
       "    </tr>\n",
       "    <tr>\n",
       "      <th>1</th>\n",
       "      <td>Hawaii</td>\n",
       "      <td>70.0</td>\n",
       "      <td>10.10</td>\n",
       "      <td>D</td>\n",
       "      <td>R</td>\n",
       "      <td>D</td>\n",
       "      <td>D</td>\n",
       "      <td>D</td>\n",
       "      <td>D</td>\n",
       "      <td>D</td>\n",
       "      <td>...</td>\n",
       "      <td>3874</td>\n",
       "      <td>36</td>\n",
       "      <td>27</td>\n",
       "      <td>935</td>\n",
       "      <td>1469</td>\n",
       "      <td>295</td>\n",
       "      <td>564</td>\n",
       "      <td>83</td>\n",
       "      <td>2160</td>\n",
       "      <td>1887</td>\n",
       "    </tr>\n",
       "    <tr>\n",
       "      <th>2</th>\n",
       "      <td>Louisiana</td>\n",
       "      <td>66.4</td>\n",
       "      <td>7.25</td>\n",
       "      <td>R</td>\n",
       "      <td>R</td>\n",
       "      <td>R</td>\n",
       "      <td>D</td>\n",
       "      <td>D</td>\n",
       "      <td>R</td>\n",
       "      <td>R</td>\n",
       "      <td>...</td>\n",
       "      <td>2192</td>\n",
       "      <td>11</td>\n",
       "      <td>3</td>\n",
       "      <td>88</td>\n",
       "      <td>1165</td>\n",
       "      <td>1908</td>\n",
       "      <td>21</td>\n",
       "      <td>29</td>\n",
       "      <td>5</td>\n",
       "      <td>45</td>\n",
       "    </tr>\n",
       "    <tr>\n",
       "      <th>3</th>\n",
       "      <td>Texas</td>\n",
       "      <td>64.8</td>\n",
       "      <td>7.25</td>\n",
       "      <td>R</td>\n",
       "      <td>R</td>\n",
       "      <td>R</td>\n",
       "      <td>R</td>\n",
       "      <td>R</td>\n",
       "      <td>R</td>\n",
       "      <td>R</td>\n",
       "      <td>...</td>\n",
       "      <td>17067</td>\n",
       "      <td>61</td>\n",
       "      <td>21</td>\n",
       "      <td>7545</td>\n",
       "      <td>15778</td>\n",
       "      <td>10001</td>\n",
       "      <td>206</td>\n",
       "      <td>346</td>\n",
       "      <td>89</td>\n",
       "      <td>809</td>\n",
       "    </tr>\n",
       "    <tr>\n",
       "      <th>4</th>\n",
       "      <td>Georgia</td>\n",
       "      <td>63.5</td>\n",
       "      <td>7.25</td>\n",
       "      <td>D</td>\n",
       "      <td>R</td>\n",
       "      <td>R</td>\n",
       "      <td>D</td>\n",
       "      <td>R</td>\n",
       "      <td>R</td>\n",
       "      <td>R</td>\n",
       "      <td>...</td>\n",
       "      <td>6340</td>\n",
       "      <td>44</td>\n",
       "      <td>107</td>\n",
       "      <td>520</td>\n",
       "      <td>3031</td>\n",
       "      <td>6708</td>\n",
       "      <td>92</td>\n",
       "      <td>64</td>\n",
       "      <td>21</td>\n",
       "      <td>318</td>\n",
       "    </tr>\n",
       "  </tbody>\n",
       "</table>\n",
       "<p>5 rows × 29 columns</p>\n",
       "</div>"
      ],
      "text/plain": [
       "       State  Average Temperature Minimum Wage 1980 1984 1988 1992 1996 2000  \\\n",
       "0    Florida                 70.7         8.65    R    R    R    R    D    R   \n",
       "1     Hawaii                 70.0        10.10    D    R    D    D    D    D   \n",
       "2  Louisiana                 66.4         7.25    R    R    R    D    D    R   \n",
       "3      Texas                 64.8         7.25    R    R    R    R    R    R   \n",
       "4    Georgia                 63.5         7.25    D    R    R    D    R    R   \n",
       "\n",
       "  2004  ... Overall Homeless - Male, 2020  \\\n",
       "0    R  ...                         17670   \n",
       "1    D  ...                          3874   \n",
       "2    R  ...                          2192   \n",
       "3    R  ...                         17067   \n",
       "4    R  ...                          6340   \n",
       "\n",
       "  Overall Homeless - Transgender, 2020  \\\n",
       "0                                   52   \n",
       "1                                   36   \n",
       "2                                   11   \n",
       "3                                   61   \n",
       "4                                   44   \n",
       "\n",
       "  Overall Homeless - Gender Non-Conforming, 2020  \\\n",
       "0                                             22   \n",
       "1                                             27   \n",
       "2                                              3   \n",
       "3                                             21   \n",
       "4                                            107   \n",
       "\n",
       "  Overall Homeless - Hispanic/Latino, 2020  Overall Homeless - White, 2020  \\\n",
       "0                                     4045                           15102   \n",
       "1                                      935                            1469   \n",
       "2                                       88                            1165   \n",
       "3                                     7545                           15778   \n",
       "4                                      520                            3031   \n",
       "\n",
       "  Overall Homeless - Black or African American, 2020  \\\n",
       "0                                              11042   \n",
       "1                                                295   \n",
       "2                                               1908   \n",
       "3                                              10001   \n",
       "4                                               6708   \n",
       "\n",
       "  Overall Homeless - Asian, 2020  \\\n",
       "0                            128   \n",
       "1                            564   \n",
       "2                             21   \n",
       "3                            206   \n",
       "4                             92   \n",
       "\n",
       "  Overall Homeless - American Indian or Alaska Native, 2020  \\\n",
       "0                                                328          \n",
       "1                                                 83          \n",
       "2                                                 29          \n",
       "3                                                346          \n",
       "4                                                 64          \n",
       "\n",
       "  Overall Homeless - Native Hawaiian or Other Pacific Islander, 2020  \\\n",
       "0                                                 73                   \n",
       "1                                               2160                   \n",
       "2                                                  5                   \n",
       "3                                                 89                   \n",
       "4                                                 21                   \n",
       "\n",
       "  Overall Homeless - Multiple Races, 2020  \n",
       "0                                     814  \n",
       "1                                    1887  \n",
       "2                                      45  \n",
       "3                                     809  \n",
       "4                                     318  \n",
       "\n",
       "[5 rows x 29 columns]"
      ]
     },
     "execution_count": 194,
     "metadata": {},
     "output_type": "execute_result"
    }
   ],
   "source": [
    "#combines wages and temperatures by states\n",
    "temp_wages = temps.merge(wages, on= \"State\", how = \"outer\")\n",
    "#combines previous table with election results\n",
    "elections_temp_wages = temp_wages.merge(votes, on=\"State\", how = \"outer\")\n",
    "#Sorry DC and Puerto Rico\n",
    "elections_temp_wages = states.dropna()\n",
    "\n",
    "#Complete DataFrame with homeless stats\n",
    "df2020 = elections_temp_wages.merge(HUD2020, on=\"State\", how=\"outer\")\n",
    "\n",
    "#cast column variable types\n",
    "df2020[\"Average Temperature\"] = df2020[\"Average Temperature\"].astype(float)\n",
    "df2020[\"Overall Homeless, 2020\"] = df2020[\"Overall Homeless, 2020\"].astype(int)\n",
    "\n",
    "#cleans data\n",
    "for key, value in df2020.iterrows():\n",
    "    df2020[\"Minimum Wage\"][key] = str(df2020[\"Minimum Wage\"][key])[1:]\n",
    "    \n",
    "df2020.head()"
   ]
  },
  {
   "cell_type": "markdown",
   "metadata": {},
   "source": [
    "# Analysis Part 1:  National Observations\n",
    "## Summary Statistics\n",
    "### Sum\n",
    "The United States has 569,334 homeless people"
   ]
  },
  {
   "cell_type": "code",
   "execution_count": 195,
   "metadata": {
    "scrolled": true
   },
   "outputs": [
    {
     "data": {
      "text/plain": [
       "569334"
      ]
     },
     "execution_count": 195,
     "metadata": {},
     "output_type": "execute_result"
    }
   ],
   "source": [
    "df2020[\"Overall Homeless, 2020\"].sum()"
   ]
  },
  {
   "cell_type": "markdown",
   "metadata": {},
   "source": [
    "### Mean"
   ]
  },
  {
   "cell_type": "markdown",
   "metadata": {},
   "source": [
    "#### Average Of Averages \n",
    "Average State has ~11,386 homeless people"
   ]
  },
  {
   "cell_type": "code",
   "execution_count": 196,
   "metadata": {},
   "outputs": [
    {
     "data": {
      "text/plain": [
       "11386.68"
      ]
     },
     "execution_count": 196,
     "metadata": {},
     "output_type": "execute_result"
    }
   ],
   "source": [
    "df2020[\"Overall Homeless, 2020\"].mean()"
   ]
  },
  {
   "cell_type": "markdown",
   "metadata": {},
   "source": [
    "### Outliers"
   ]
  },
  {
   "cell_type": "markdown",
   "metadata": {},
   "source": [
    "#### Max\n",
    "California has the highest homeless population at 161548 people"
   ]
  },
  {
   "cell_type": "code",
   "execution_count": 197,
   "metadata": {},
   "outputs": [
    {
     "data": {
      "text/plain": [
       "161548"
      ]
     },
     "execution_count": 197,
     "metadata": {},
     "output_type": "execute_result"
    }
   ],
   "source": [
    "df2020[\"Overall Homeless, 2020\"].max()"
   ]
  },
  {
   "cell_type": "code",
   "execution_count": 198,
   "metadata": {},
   "outputs": [
    {
     "data": {
      "text/plain": [
       "State    California\n",
       "Name: 11, dtype: object"
      ]
     },
     "execution_count": 198,
     "metadata": {},
     "output_type": "execute_result"
    }
   ],
   "source": [
    "df2020.loc[df2020[\"Overall Homeless, 2020\"].idxmax()].head(1)"
   ]
  },
  {
   "cell_type": "markdown",
   "metadata": {},
   "source": [
    "#### Min \n",
    "North Dakota has the lowest homeless population at 541 people"
   ]
  },
  {
   "cell_type": "code",
   "execution_count": 199,
   "metadata": {},
   "outputs": [
    {
     "data": {
      "text/plain": [
       "541"
      ]
     },
     "execution_count": 199,
     "metadata": {},
     "output_type": "execute_result"
    }
   ],
   "source": [
    "df2020[\"Overall Homeless, 2020\"].min()"
   ]
  },
  {
   "cell_type": "code",
   "execution_count": 200,
   "metadata": {},
   "outputs": [
    {
     "data": {
      "text/plain": [
       "State    North Dakota\n",
       "Name: 48, dtype: object"
      ]
     },
     "execution_count": 200,
     "metadata": {},
     "output_type": "execute_result"
    }
   ],
   "source": [
    "df2020.loc[df2020[\"Overall Homeless, 2020\"].idxmin()].head(1)"
   ]
  },
  {
   "cell_type": "markdown",
   "metadata": {},
   "source": [
    "### Spread\n",
    "The standard deviation of homelessness in the US is 25,559 - this is extremely disbursed data."
   ]
  },
  {
   "cell_type": "code",
   "execution_count": 201,
   "metadata": {},
   "outputs": [
    {
     "data": {
      "text/plain": [
       "25559.470407818764"
      ]
     },
     "execution_count": 201,
     "metadata": {},
     "output_type": "execute_result"
    }
   ],
   "source": [
    "df2020[\"Overall Homeless, 2020\"].std()"
   ]
  },
  {
   "cell_type": "markdown",
   "metadata": {},
   "source": [
    "## Demographic Distribution"
   ]
  },
  {
   "cell_type": "markdown",
   "metadata": {},
   "source": [
    "Bar chart of national homeless by gender. More homeless men than women."
   ]
  },
  {
   "cell_type": "code",
   "execution_count": 202,
   "metadata": {},
   "outputs": [
    {
     "data": {
      "text/plain": [
       "<AxesSubplot:>"
      ]
     },
     "execution_count": 202,
     "metadata": {},
     "output_type": "execute_result"
    },
    {
     "data": {
      "image/png": "[encoded data removed]",
      "text/plain": [
       "<Figure size 432x288 with 1 Axes>"
      ]
     },
     "metadata": {
      "needs_background": "light"
     },
     "output_type": "display_data"
    }
   ],
   "source": [
    "genders = df2020[[\"State\",\"Overall Homeless - Female, 2020\", \"Overall Homeless - Male, 2020\", \"Overall Homeless - Transgender, 2020\", \"Overall Homeless - Gender Non-Conforming, 2020\"]]\n",
    "genders = genders.set_index(\"State\")\n",
    "genders = genders.astype(int)\n",
    "\n",
    "female = genders[\"Overall Homeless - Female, 2020\"].sum()\n",
    "male = genders[\"Overall Homeless - Male, 2020\"].sum()\n",
    "other = genders[\"Overall Homeless - Transgender, 2020\"].sum() + genders[\"Overall Homeless - Gender Non-Conforming, 2020\"].sum()\n",
    "\n",
    "gendersums = pd.DataFrame.from_dict({\"Female\":female,\"Male\":male,\"Other\":other},orient='index',columns=[\"Total Homeless\"])\n",
    "gendersums.plot.bar()"
   ]
  },
  {
   "cell_type": "markdown",
   "metadata": {},
   "source": [
    "# Analysis Part 2: Regional Impacts\n",
    "## Louisiana Findings"
   ]
  },
  {
   "cell_type": "code",
   "execution_count": 203,
   "metadata": {},
   "outputs": [
    {
     "data": {
      "text/html": [
       "<div>\n",
       "<style scoped>\n",
       "    .dataframe tbody tr th:only-of-type {\n",
       "        vertical-align: middle;\n",
       "    }\n",
       "\n",
       "    .dataframe tbody tr th {\n",
       "        vertical-align: top;\n",
       "    }\n",
       "\n",
       "    .dataframe thead th {\n",
       "        text-align: right;\n",
       "    }\n",
       "</style>\n",
       "<table border=\"1\" class=\"dataframe\">\n",
       "  <thead>\n",
       "    <tr style=\"text-align: right;\">\n",
       "      <th></th>\n",
       "      <th>State</th>\n",
       "      <th>Average Temperature</th>\n",
       "      <th>Minimum Wage</th>\n",
       "      <th>1980</th>\n",
       "      <th>1984</th>\n",
       "      <th>1988</th>\n",
       "      <th>1992</th>\n",
       "      <th>1996</th>\n",
       "      <th>2000</th>\n",
       "      <th>2004</th>\n",
       "      <th>...</th>\n",
       "      <th>Overall Homeless - Male, 2020</th>\n",
       "      <th>Overall Homeless - Transgender, 2020</th>\n",
       "      <th>Overall Homeless - Gender Non-Conforming, 2020</th>\n",
       "      <th>Overall Homeless - Hispanic/Latino, 2020</th>\n",
       "      <th>Overall Homeless - White, 2020</th>\n",
       "      <th>Overall Homeless - Black or African American, 2020</th>\n",
       "      <th>Overall Homeless - Asian, 2020</th>\n",
       "      <th>Overall Homeless - American Indian or Alaska Native, 2020</th>\n",
       "      <th>Overall Homeless - Native Hawaiian or Other Pacific Islander, 2020</th>\n",
       "      <th>Overall Homeless - Multiple Races, 2020</th>\n",
       "    </tr>\n",
       "  </thead>\n",
       "  <tbody>\n",
       "    <tr>\n",
       "      <th>2</th>\n",
       "      <td>Louisiana</td>\n",
       "      <td>66.4</td>\n",
       "      <td>7.25</td>\n",
       "      <td>R</td>\n",
       "      <td>R</td>\n",
       "      <td>R</td>\n",
       "      <td>D</td>\n",
       "      <td>D</td>\n",
       "      <td>R</td>\n",
       "      <td>R</td>\n",
       "      <td>...</td>\n",
       "      <td>2192</td>\n",
       "      <td>11</td>\n",
       "      <td>3</td>\n",
       "      <td>88</td>\n",
       "      <td>1165</td>\n",
       "      <td>1908</td>\n",
       "      <td>21</td>\n",
       "      <td>29</td>\n",
       "      <td>5</td>\n",
       "      <td>45</td>\n",
       "    </tr>\n",
       "  </tbody>\n",
       "</table>\n",
       "<p>1 rows × 29 columns</p>\n",
       "</div>"
      ],
      "text/plain": [
       "       State  Average Temperature Minimum Wage 1980 1984 1988 1992 1996 2000  \\\n",
       "2  Louisiana                 66.4         7.25    R    R    R    D    D    R   \n",
       "\n",
       "  2004  ... Overall Homeless - Male, 2020  \\\n",
       "2    R  ...                          2192   \n",
       "\n",
       "  Overall Homeless - Transgender, 2020  \\\n",
       "2                                   11   \n",
       "\n",
       "  Overall Homeless - Gender Non-Conforming, 2020  \\\n",
       "2                                              3   \n",
       "\n",
       "  Overall Homeless - Hispanic/Latino, 2020  Overall Homeless - White, 2020  \\\n",
       "2                                       88                            1165   \n",
       "\n",
       "  Overall Homeless - Black or African American, 2020  \\\n",
       "2                                               1908   \n",
       "\n",
       "  Overall Homeless - Asian, 2020  \\\n",
       "2                             21   \n",
       "\n",
       "  Overall Homeless - American Indian or Alaska Native, 2020  \\\n",
       "2                                                 29          \n",
       "\n",
       "  Overall Homeless - Native Hawaiian or Other Pacific Islander, 2020  \\\n",
       "2                                                  5                   \n",
       "\n",
       "  Overall Homeless - Multiple Races, 2020  \n",
       "2                                      45  \n",
       "\n",
       "[1 rows x 29 columns]"
      ]
     },
     "execution_count": 203,
     "metadata": {},
     "output_type": "execute_result"
    }
   ],
   "source": [
    "louisiana = df2020[2:3]\n",
    "louisiana"
   ]
  },
  {
   "cell_type": "markdown",
   "metadata": {},
   "source": [
    "### Homeless By State Temperature"
   ]
  },
  {
   "cell_type": "code",
   "execution_count": 204,
   "metadata": {},
   "outputs": [],
   "source": [
    "homeless_temp = df2020[[\"Average Temperature\",\"Overall Homeless, 2020\"]]"
   ]
  },
  {
   "cell_type": "markdown",
   "metadata": {},
   "source": [
    "Weak Positive Correlation"
   ]
  },
  {
   "cell_type": "code",
   "execution_count": 205,
   "metadata": {},
   "outputs": [
    {
     "data": {
      "text/plain": [
       "0.13355500230412334"
      ]
     },
     "execution_count": 205,
     "metadata": {},
     "output_type": "execute_result"
    }
   ],
   "source": [
    "homeless_temp[\"Average Temperature\"].corr(homeless_temp[\"Overall Homeless, 2020\"])"
   ]
  },
  {
   "cell_type": "code",
   "execution_count": 206,
   "metadata": {},
   "outputs": [
    {
     "data": {
      "text/plain": [
       "<AxesSubplot:xlabel='Average Temperature', ylabel='Overall Homeless, 2020'>"
      ]
     },
     "execution_count": 206,
     "metadata": {},
     "output_type": "execute_result"
    },
    {
     "data": {
      "image/png": "[encoded data removed]",
      "text/plain": [
       "<Figure size 432x288 with 1 Axes>"
      ]
     },
     "metadata": {
      "needs_background": "light"
     },
     "output_type": "display_data"
    }
   ],
   "source": [
    "ax = homeless_temp.plot.scatter(x=\"Average Temperature\", y = \"Overall Homeless, 2020\", c = \"blue\")\n",
    "louisiana.plot.scatter(x=\"Average Temperature\", y = \"Overall Homeless, 2020\", c = \"red\", ax = ax)"
   ]
  },
  {
   "cell_type": "markdown",
   "metadata": {},
   "source": [
    "Red is Louisiana"
   ]
  },
  {
   "cell_type": "markdown",
   "metadata": {},
   "source": [
    "### Homeless By State Minimum Wage"
   ]
  },
  {
   "cell_type": "code",
   "execution_count": 213,
   "metadata": {},
   "outputs": [
    {
     "name": "stderr",
     "output_type": "stream",
     "text": [
      "/Library/Frameworks/Python.framework/Versions/3.6/lib/python3.6/site-packages/ipykernel_launcher.py:2: SettingWithCopyWarning: \n",
      "A value is trying to be set on a copy of a slice from a DataFrame.\n",
      "Try using .loc[row_indexer,col_indexer] = value instead\n",
      "\n",
      "See the caveats in the documentation: https://pandas.pydata.org/pandas-docs/stable/user_guide/indexing.html#returning-a-view-versus-a-copy\n",
      "  \n",
      "/Library/Frameworks/Python.framework/Versions/3.6/lib/python3.6/site-packages/ipykernel_launcher.py:3: SettingWithCopyWarning: \n",
      "A value is trying to be set on a copy of a slice from a DataFrame.\n",
      "Try using .loc[row_indexer,col_indexer] = value instead\n",
      "\n",
      "See the caveats in the documentation: https://pandas.pydata.org/pandas-docs/stable/user_guide/indexing.html#returning-a-view-versus-a-copy\n",
      "  This is separate from the ipykernel package so we can avoid doing imports until\n"
     ]
    }
   ],
   "source": [
    "homeless_wage = df2020[[\"Minimum Wage\",\"Overall Homeless, 2020\"]]\n",
    "homeless_wage[\"Minimum Wage\"] = homeless_wage[\"Minimum Wage\"].astype(float)\n",
    "homeless_wage[\"Overall Homeless, 2020\"] = homeless_wage[\"Overall Homeless, 2020\"].astype(float)"
   ]
  },
  {
   "cell_type": "markdown",
   "metadata": {},
   "source": [
    "Any idea how to remove the error messages above?"
   ]
  },
  {
   "cell_type": "markdown",
   "metadata": {},
   "source": [
    "Moderate Positive Correlation"
   ]
  },
  {
   "cell_type": "code",
   "execution_count": 211,
   "metadata": {},
   "outputs": [
    {
     "data": {
      "text/plain": [
       "0.4141571132926049"
      ]
     },
     "execution_count": 211,
     "metadata": {},
     "output_type": "execute_result"
    }
   ],
   "source": [
    "homeless_wage[\"Minimum Wage\"].corr(homeless_wage[\"Overall Homeless, 2020\"])"
   ]
  },
  {
   "cell_type": "markdown",
   "metadata": {},
   "source": [
    "Scatter Chart"
   ]
  },
  {
   "cell_type": "code",
   "execution_count": 221,
   "metadata": {},
   "outputs": [
    {
     "data": {
      "text/plain": [
       "<AxesSubplot:xlabel='Minimum Wage', ylabel='Overall Homeless, 2020'>"
      ]
     },
     "execution_count": 221,
     "metadata": {},
     "output_type": "execute_result"
    },
    {
     "data": {
      "image/png": "[encoded data removed]",
      "text/plain": [
       "<Figure size 432x288 with 1 Axes>"
      ]
     },
     "metadata": {
      "needs_background": "light"
     },
     "output_type": "display_data"
    }
   ],
   "source": [
    "ax1 = homeless_wage.plot.scatter(x=\"Minimum Wage\", y = \"Overall Homeless, 2020\", c = \"blue\")\n",
    "louisiana.plot.scatter(x=\"Minimum Wage\", y = \"Overall Homeless, 2020\", c = \"red\", ax = ax)"
   ]
  },
  {
   "cell_type": "code",
   "execution_count": null,
   "metadata": {},
   "outputs": [],
   "source": []
  },
  {
   "cell_type": "markdown",
   "metadata": {},
   "source": [
    "# Analysis Part 3: Future Predictions\n",
    "See Next Steps Below"
   ]
  },
  {
   "cell_type": "markdown",
   "metadata": {},
   "source": [
    "# Next Steps"
   ]
  },
  {
   "cell_type": "markdown",
   "metadata": {},
   "source": [
    "1. Part 3 of our analysis is to create a predictive model to forecast the homeless population in 2021 and future years. We will create a linear regression model using homeless data over the last 40 years and regress it with the most correlated factors.\n",
    "\n",
    "2. More charts and visuals will help analyze and present the findings and correlations between states, homeless population, and other factors. This will show which factors are the most correlated with state homelessness data. We will then present our findings and reccomendations in order to reduce homelessness."
   ]
  },
  {
   "cell_type": "code",
   "execution_count": null,
   "metadata": {},
   "outputs": [],
   "source": []
  }
 ],
 "metadata": {
  "kernelspec": {
   "display_name": "Python 3",
   "language": "python",
   "name": "python3"
  },
  "language_info": {
   "codemirror_mode": {
    "name": "ipython",
    "version": 3
   },
   "file_extension": ".py",
   "mimetype": "text/x-python",
   "name": "python",
   "nbconvert_exporter": "python",
   "pygments_lexer": "ipython3",
   "version": "3.8.5"
  }
 },
 "nbformat": 4,
 "nbformat_minor": 4
}
