{
 "cells": [
  {
   "cell_type": "markdown",
   "metadata": {},
   "source": [
    "[chloeuhls.github.io](https://chloeu99.github.io/)"
   ]
  },
  {
   "cell_type": "markdown",
   "metadata": {},
   "source": [
    "Data Science Final Tutorial\n",
    "Jacob Waxman and Chloe Uhls"
   ]
  },
  {
   "cell_type": "markdown",
   "metadata": {},
   "source": [
    "# Analysis Of Homelessness In The United States"
   ]
  },
  {
   "cell_type": "markdown",
   "metadata": {},
   "source": [
    "### Introduction"
   ]
  },
  {
   "cell_type": "markdown",
   "metadata": {},
   "source": [
    "For our final tutorial we will be analyzing homelessness in the United States. We are diving into the current state of homelessness, the change over time, and factors that have the biggest impact on homelessness. Furthermore, we will break down our analysis on a national level and at the state level, highlighting the observations we find in Louisiana. Stats that we will be looking for include total homeless population, rate of homelessness, the population demographics. We will also look for variables correlating with the rate of homelessness at the state level. These factors will include geographic location, local politics, and minimum wage. \n",
    "\n",
    "We will divide our analysis into 3 parts.\n",
    "\n",
    "#### 1. National Observations - Analyzing Key Homeless Statistics \n",
    "\n",
    "#### 2. Regional Impacts - Analyzing On A State-By-State Basis, Highlighting Louisiana, And Finding Correlated Variables \n",
    "\n",
    "#### 3. Future Projections - Predicting The State Of Homelessness in 2021 and Beyond"
   ]
  },
  {
   "cell_type": "markdown",
   "metadata": {},
   "source": [
    "### Collaboration Plan"
   ]
  },
  {
   "cell_type": "markdown",
   "metadata": {},
   "source": [
    "Throughout the semester we will be meeting twice a week to work on our project. We will meet virtually via Zoom and in person depending on the week. We have a Github repository (https://github.com/chloeu99/chloeu99.github.io) to collaborate and save our coding progress. We use Google Docs for written reports, then upload it to Github to keep everything organized. In terms of coding, we will use the same strategies that we learned in class: Python coding and data scraping and the pandas library for analysis."
   ]
  },
  {
   "cell_type": "markdown",
   "metadata": {},
   "source": [
    "### Datasets Used"
   ]
  },
  {
   "cell_type": "markdown",
   "metadata": {},
   "source": [
    "#### 1. 2020 PIT Estimates by State from HUD exchange                                                         \n",
    "\n",
    "Link: https://www.huduser.gov/portal/sites/default/files/xls/2007-2020-PIT-Estimates-by-state.xlsx\n",
    "\n",
    "This data was really exciting to find. The HUD does a great job posting their records on a yearly basis. We downloaded the excel sheet and uploaded it to our public Github. The spreadsheet breaks homelessness down into specific categories including total homelessness by state, demographics, and status of homeless citizens (sheltered, unsheltered, etc). \n",
    "\n",
    "Example Questions: How many people are homeless in Louisiana? Is one gender or one race more likely to be homeless on a national level?\n",
    "\n",
    "\n",
    "#### 2. List Of US States By Historical Population\n",
    "\n",
    "Link: https://en.wikipedia.org/wiki/List_of_U.S._states_and_territories_by_historical_population\n",
    "\n",
    "This Wikipedia table holds the census data for the population of each state every 10 years. It will be helpful when both thw 2020 status of homelessness, and analyzing change of homeless over time. We can sum up each state to find total population and break down the country by states. \n",
    "\n",
    "Example Question: In the HUD data it is clear that California has the highest homeless population, but is it a higher population out of their total population than other states?\n",
    "\n",
    "\n",
    "#### 3. Minnimum Wage By State (2021)\n",
    "\n",
    "Link: https://minimumwage.com/in-your-state/\n",
    "\n",
    "This data contains a table of each state and their minnimum wage. The federal minimum wage has been stagnent at $7.25 since 2009. Not all states have required a higher state-wide minimum wage, but we expect that those with their own regulations will have a lower homeless population.\n",
    "\n",
    "Example Questions: Is there a correlation between a state's minimum wage and homeless population?\n",
    "\n",
    "#### 4. Electoral College Results By State (1980-2020)\n",
    "\n",
    "Link: https://en.wikipedia.org/wiki/List_of_United_States_presidential_election_results_by_state\n",
    "\n",
    "We went to Wikipedia to find the state-wide Electoral College results for Presidential Elections. We will be analyzing election results from 1980 to 2020, and will look to see if a state's political consciounce is correlated with its homeless population.\n",
    "\n",
    "Example Questions: Is there any correlation between a states politics and homeless population? How has national homeless changed as the presidency has changed?\n",
    "\n",
    "#### 5. Average Temperature By State (2019)\n",
    "\n",
    "Link: https://worldpopulationreview.com/state-rankings/average-temperatures-by-state\n",
    "\n",
    "We are predicting that there is a higher homeless population in warmer states. This will be used as an ease-in analysis, something that we believe is fairly obvious. It will show our approach when working with the dataframe.\n",
    "\n",
    "Example question: Does the coldest state have the lowest homeless population?\n"
   ]
  },
  {
   "cell_type": "markdown",
   "metadata": {},
   "source": [
    "# Data Collection"
   ]
  },
  {
   "cell_type": "code",
   "execution_count": 83,
   "metadata": {},
   "outputs": [
    {
     "data": {
      "text/html": [
       "<style>.container { width:95% !important; }</style>"
      ],
      "text/plain": [
       "<IPython.core.display.HTML object>"
      ]
     },
     "metadata": {},
     "output_type": "display_data"
    }
   ],
   "source": [
    "import requests\n",
    "import json\n",
    "import pandas as pd\n",
    "import seaborn as sns\n",
    "import matplotlib.pyplot as plt\n",
    "import numpy as np\n",
    "import io\n",
    "from bs4 import BeautifulSoup\n",
    "# These two things are for Pandas, it widens the notebook and lets us display data easily.\n",
    "from IPython.core.display import display, HTML\n",
    "display(HTML(\"<style>.container { width:95% !important; }</style>\"))\n",
    "pd.options.mode.chained_assignment = None "
   ]
  },
  {
   "cell_type": "markdown",
   "metadata": {},
   "source": [
    "### HUD Homelessness Report (2020)"
   ]
  },
  {
   "cell_type": "code",
   "execution_count": 93,
   "metadata": {},
   "outputs": [
    {
     "data": {
      "text/html": [
       "<div>\n",
       "<style scoped>\n",
       "    .dataframe tbody tr th:only-of-type {\n",
       "        vertical-align: middle;\n",
       "    }\n",
       "\n",
       "    .dataframe tbody tr th {\n",
       "        vertical-align: top;\n",
       "    }\n",
       "\n",
       "    .dataframe thead th {\n",
       "        text-align: right;\n",
       "    }\n",
       "</style>\n",
       "<table border=\"1\" class=\"dataframe\">\n",
       "  <thead>\n",
       "    <tr style=\"text-align: right;\">\n",
       "      <th></th>\n",
       "      <th>State</th>\n",
       "      <th>Overall Homeless, 2020</th>\n",
       "      <th>Overall Homeless - Under 18, 2020</th>\n",
       "      <th>Overall Homeless - Age 18 to 24, 2020</th>\n",
       "      <th>Overall Homeless - Over 24, 2020</th>\n",
       "      <th>Overall Homeless - Female, 2020</th>\n",
       "      <th>Overall Homeless - Male, 2020</th>\n",
       "      <th>Overall Homeless - Transgender, 2020</th>\n",
       "      <th>Overall Homeless - Gender Non-Conforming, 2020</th>\n",
       "      <th>Overall Homeless - Hispanic/Latino, 2020</th>\n",
       "      <th>Overall Homeless - White, 2020</th>\n",
       "      <th>Overall Homeless - Black or African American, 2020</th>\n",
       "      <th>Overall Homeless - Asian, 2020</th>\n",
       "      <th>Overall Homeless - American Indian or Alaska Native, 2020</th>\n",
       "      <th>Overall Homeless - Native Hawaiian or Other Pacific Islander, 2020</th>\n",
       "      <th>Overall Homeless - Multiple Races, 2020</th>\n",
       "      <th>State ID</th>\n",
       "    </tr>\n",
       "  </thead>\n",
       "  <tbody>\n",
       "    <tr>\n",
       "      <th>0</th>\n",
       "      <td>Alaska</td>\n",
       "      <td>1949</td>\n",
       "      <td>326</td>\n",
       "      <td>197</td>\n",
       "      <td>1426</td>\n",
       "      <td>828</td>\n",
       "      <td>1114</td>\n",
       "      <td>3</td>\n",
       "      <td>4</td>\n",
       "      <td>126</td>\n",
       "      <td>634</td>\n",
       "      <td>137</td>\n",
       "      <td>22</td>\n",
       "      <td>890</td>\n",
       "      <td>40</td>\n",
       "      <td>226</td>\n",
       "      <td>AK</td>\n",
       "    </tr>\n",
       "    <tr>\n",
       "      <th>1</th>\n",
       "      <td>Alabama</td>\n",
       "      <td>3351</td>\n",
       "      <td>528</td>\n",
       "      <td>198</td>\n",
       "      <td>2625</td>\n",
       "      <td>1294</td>\n",
       "      <td>1988</td>\n",
       "      <td>9</td>\n",
       "      <td>4</td>\n",
       "      <td>126</td>\n",
       "      <td>1462</td>\n",
       "      <td>1755</td>\n",
       "      <td>2</td>\n",
       "      <td>37</td>\n",
       "      <td>11</td>\n",
       "      <td>73</td>\n",
       "      <td>AL</td>\n",
       "    </tr>\n",
       "    <tr>\n",
       "      <th>2</th>\n",
       "      <td>Arkansas</td>\n",
       "      <td>2366</td>\n",
       "      <td>195</td>\n",
       "      <td>258</td>\n",
       "      <td>1913</td>\n",
       "      <td>798</td>\n",
       "      <td>1561</td>\n",
       "      <td>5</td>\n",
       "      <td>2</td>\n",
       "      <td>53</td>\n",
       "      <td>1353</td>\n",
       "      <td>901</td>\n",
       "      <td>4</td>\n",
       "      <td>42</td>\n",
       "      <td>21</td>\n",
       "      <td>45</td>\n",
       "      <td>AR</td>\n",
       "    </tr>\n",
       "    <tr>\n",
       "      <th>4</th>\n",
       "      <td>Arizona</td>\n",
       "      <td>10979</td>\n",
       "      <td>1722</td>\n",
       "      <td>824</td>\n",
       "      <td>8433</td>\n",
       "      <td>4228</td>\n",
       "      <td>6694</td>\n",
       "      <td>43</td>\n",
       "      <td>14</td>\n",
       "      <td>2355</td>\n",
       "      <td>6901</td>\n",
       "      <td>2289</td>\n",
       "      <td>77</td>\n",
       "      <td>1027</td>\n",
       "      <td>60</td>\n",
       "      <td>625</td>\n",
       "      <td>AZ</td>\n",
       "    </tr>\n",
       "    <tr>\n",
       "      <th>5</th>\n",
       "      <td>California</td>\n",
       "      <td>161548</td>\n",
       "      <td>16141</td>\n",
       "      <td>13391</td>\n",
       "      <td>132016</td>\n",
       "      <td>53505</td>\n",
       "      <td>105737</td>\n",
       "      <td>1601</td>\n",
       "      <td>705</td>\n",
       "      <td>51966</td>\n",
       "      <td>87439</td>\n",
       "      <td>49610</td>\n",
       "      <td>3240</td>\n",
       "      <td>6386</td>\n",
       "      <td>1784</td>\n",
       "      <td>13089</td>\n",
       "      <td>CA</td>\n",
       "    </tr>\n",
       "  </tbody>\n",
       "</table>\n",
       "</div>"
      ],
      "text/plain": [
       "        State Overall Homeless, 2020 Overall Homeless - Under 18, 2020  \\\n",
       "0      Alaska                   1949                               326   \n",
       "1     Alabama                   3351                               528   \n",
       "2    Arkansas                   2366                               195   \n",
       "4     Arizona                  10979                              1722   \n",
       "5  California                 161548                             16141   \n",
       "\n",
       "  Overall Homeless - Age 18 to 24, 2020 Overall Homeless - Over 24, 2020  \\\n",
       "0                                   197                             1426   \n",
       "1                                   198                             2625   \n",
       "2                                   258                             1913   \n",
       "4                                   824                             8433   \n",
       "5                                 13391                           132016   \n",
       "\n",
       "  Overall Homeless - Female, 2020 Overall Homeless - Male, 2020  \\\n",
       "0                             828                          1114   \n",
       "1                            1294                          1988   \n",
       "2                             798                          1561   \n",
       "4                            4228                          6694   \n",
       "5                           53505                        105737   \n",
       "\n",
       "  Overall Homeless - Transgender, 2020  \\\n",
       "0                                    3   \n",
       "1                                    9   \n",
       "2                                    5   \n",
       "4                                   43   \n",
       "5                                 1601   \n",
       "\n",
       "  Overall Homeless - Gender Non-Conforming, 2020  \\\n",
       "0                                              4   \n",
       "1                                              4   \n",
       "2                                              2   \n",
       "4                                             14   \n",
       "5                                            705   \n",
       "\n",
       "  Overall Homeless - Hispanic/Latino, 2020 Overall Homeless - White, 2020  \\\n",
       "0                                      126                            634   \n",
       "1                                      126                           1462   \n",
       "2                                       53                           1353   \n",
       "4                                     2355                           6901   \n",
       "5                                    51966                          87439   \n",
       "\n",
       "  Overall Homeless - Black or African American, 2020  \\\n",
       "0                                                137   \n",
       "1                                               1755   \n",
       "2                                                901   \n",
       "4                                               2289   \n",
       "5                                              49610   \n",
       "\n",
       "  Overall Homeless - Asian, 2020  \\\n",
       "0                             22   \n",
       "1                              2   \n",
       "2                              4   \n",
       "4                             77   \n",
       "5                           3240   \n",
       "\n",
       "  Overall Homeless - American Indian or Alaska Native, 2020  \\\n",
       "0                                                890          \n",
       "1                                                 37          \n",
       "2                                                 42          \n",
       "4                                               1027          \n",
       "5                                               6386          \n",
       "\n",
       "  Overall Homeless - Native Hawaiian or Other Pacific Islander, 2020  \\\n",
       "0                                                 40                   \n",
       "1                                                 11                   \n",
       "2                                                 21                   \n",
       "4                                                 60                   \n",
       "5                                               1784                   \n",
       "\n",
       "  Overall Homeless - Multiple Races, 2020 State ID  \n",
       "0                                     226       AK  \n",
       "1                                      73       AL  \n",
       "2                                      45       AR  \n",
       "4                                     625       AZ  \n",
       "5                                   13089       CA  "
      ]
     },
     "execution_count": 93,
     "metadata": {},
     "output_type": "execute_result"
    }
   ],
   "source": [
    "#reading in a HUD csv file from Github\n",
    "HUD2020 = pd.read_csv(\"./data/HUD2020.csv\")\n",
    "\n",
    "#keeps most relevant columns\n",
    "HUD2020 = HUD2020[[\"State\",\"Overall Homeless, 2020\",\"Overall Homeless - Under 18, 2020\", \"Overall Homeless - Age 18 to 24, 2020\", \"Overall Homeless - Over 24, 2020\", \"Overall Homeless - Female, 2020\", \"Overall Homeless - Male, 2020\", \"Overall Homeless - Transgender, 2020\", \"Overall Homeless - Gender Non-Conforming, 2020\",\"Overall Homeless - Hispanic/Latino, 2020\", \"Overall Homeless - White, 2020\", \"Overall Homeless - Black or African American, 2020\",\"Overall Homeless - Asian, 2020\", \"Overall Homeless - American Indian or Alaska Native, 2020\", \"Overall Homeless - Native Hawaiian or Other Pacific Islander, 2020\", \"Overall Homeless - Multiple Races, 2020\",]]\n",
    "\n",
    "#removes data from additional rows- only 50 states\n",
    "HUD2020 = HUD2020.drop([3,8,12,27,42,50,56,57])\n",
    "\n",
    "#columns for state name and id\n",
    "HUD2020[\"State ID\"] = HUD2020[\"State\"] \n",
    "HUD2020[\"State\"] = HUD2020[\"State\"].map({\"AK\":\"Alaska\", \"AL\":\"Alabama\", \"AR\": \"Arkansas\", \"AZ\": \"Arizona\", \"CA\":\"California\", \"CO\":\"Colorado\", \"CT\":\"Connecticut\", \"DE\":\"Delaware\",\"FL\":\"Florida\", \"GA\":\"Georgia\",\"HI\":\"Hawaii\",\"IA\":\"Iowa\",\"ID\":\"Idaho\",\"IL\":\"Illinois\",\"IN\":\"Indiana\",\"KS\":\"Kansas\",\"KY\":\"Kentucky\",\"LA\":\"Louisiana\",\"MA\":\"Massachusetts\",\"MD\":\"Maryland\",\"ME\":\"Maine\",\"MI\":\"Michigan\",\"MN\":\"Minnesota\", \"MO\":\"Missouri\",\"MS\":\"Mississippi\",\"MT\":\"Montana\",\"NC\":\"North Carolina\", \"ND\":\"North Dakota\",\"NE\":\"Nebraska\",\"NH\":\"New Hampshire\",\"NJ\":\"New Jersey\",\"NM\":\"New Mexico\",\"NV\":\"Nevada\",\"NY\":\"New York\",\"OH\":\"Ohio\",\"OK\":\"Oklahoma\",\"OR\":\"Oregon\",\"PA\":\"Pennsylvania\",\"RI\":\"Rhode Island\",\"SC\":\"South Carolina\",\"SD\":\"South Dakota\",\"TN\":\"Tennessee\",\"TX\":\"Texas\",\"UT\":\"Utah\",\"VA\":\"Virginia\",\"VT\":\"Vermont\",\"WA\":\"Washington\",\"WI\":\"Wisconsin\",\"WV\":\"West Virginia\",\"WY\":\"Wyoming\"})\n",
    "\n",
    "HUD2020.head()"
   ]
  },
  {
   "cell_type": "markdown",
   "metadata": {},
   "source": [
    "This table has a row for each state in the US and has a column for different homeles statistics including total people and by categories including age, gender, and race. We cleaned this table to only include the most relevent columns."
   ]
  },
  {
   "cell_type": "markdown",
   "metadata": {},
   "source": [
    "### 2020 State Census Data"
   ]
  },
  {
   "cell_type": "code",
   "execution_count": 94,
   "metadata": {},
   "outputs": [
    {
     "data": {
      "text/html": [
       "<div>\n",
       "<style scoped>\n",
       "    .dataframe tbody tr th:only-of-type {\n",
       "        vertical-align: middle;\n",
       "    }\n",
       "\n",
       "    .dataframe tbody tr th {\n",
       "        vertical-align: top;\n",
       "    }\n",
       "\n",
       "    .dataframe thead th {\n",
       "        text-align: right;\n",
       "    }\n",
       "</style>\n",
       "<table border=\"1\" class=\"dataframe\">\n",
       "  <thead>\n",
       "    <tr style=\"text-align: right;\">\n",
       "      <th></th>\n",
       "      <th>State</th>\n",
       "      <th>1980 Population</th>\n",
       "      <th>1990 Population</th>\n",
       "      <th>2000 Population</th>\n",
       "      <th>2010 Population</th>\n",
       "      <th>2020 Population</th>\n",
       "    </tr>\n",
       "  </thead>\n",
       "  <tbody>\n",
       "    <tr>\n",
       "      <th>0</th>\n",
       "      <td>Alabama</td>\n",
       "      <td>3893888</td>\n",
       "      <td>4040587</td>\n",
       "      <td>4447100</td>\n",
       "      <td>4779736</td>\n",
       "      <td>5024279</td>\n",
       "    </tr>\n",
       "    <tr>\n",
       "      <th>1</th>\n",
       "      <td>Alaska</td>\n",
       "      <td>401851</td>\n",
       "      <td>550043</td>\n",
       "      <td>626932</td>\n",
       "      <td>710231</td>\n",
       "      <td>733391</td>\n",
       "    </tr>\n",
       "    <tr>\n",
       "      <th>3</th>\n",
       "      <td>Arizona</td>\n",
       "      <td>2718215</td>\n",
       "      <td>3665228</td>\n",
       "      <td>5130632</td>\n",
       "      <td>6392017</td>\n",
       "      <td>7151502</td>\n",
       "    </tr>\n",
       "    <tr>\n",
       "      <th>4</th>\n",
       "      <td>Arkansas</td>\n",
       "      <td>2286435</td>\n",
       "      <td>2350725</td>\n",
       "      <td>2673400</td>\n",
       "      <td>2915918</td>\n",
       "      <td>3011524</td>\n",
       "    </tr>\n",
       "    <tr>\n",
       "      <th>5</th>\n",
       "      <td>California</td>\n",
       "      <td>23667902</td>\n",
       "      <td>29760021</td>\n",
       "      <td>33871648</td>\n",
       "      <td>37253956</td>\n",
       "      <td>39538223</td>\n",
       "    </tr>\n",
       "  </tbody>\n",
       "</table>\n",
       "</div>"
      ],
      "text/plain": [
       "        State 1980 Population 1990 Population 2000 Population 2010 Population  \\\n",
       "0     Alabama         3893888         4040587         4447100         4779736   \n",
       "1      Alaska          401851          550043          626932          710231   \n",
       "3     Arizona         2718215         3665228         5130632         6392017   \n",
       "4    Arkansas         2286435         2350725         2673400         2915918   \n",
       "5  California        23667902        29760021        33871648        37253956   \n",
       "\n",
       "  2020 Population  \n",
       "0         5024279  \n",
       "1          733391  \n",
       "3         7151502  \n",
       "4         3011524  \n",
       "5        39538223  "
      ]
     },
     "execution_count": 94,
     "metadata": {},
     "output_type": "execute_result"
    }
   ],
   "source": [
    "#Data found for state population over time\n",
    "r0 = requests.get(\"https://en.wikipedia.org/wiki/List_of_U.S._states_and_territories_by_historical_population\")\n",
    "#parse\n",
    "root0 = BeautifulSoup(r0.content)\n",
    "#find table to make df\n",
    "table0 = root0.find_all(\"table\")[3]\n",
    "#read html table as df\n",
    "pop = pd.read_html(str(table0))\n",
    "#clean\n",
    "pop = pd.concat(pop)\n",
    "\n",
    "#remove non-state rows\n",
    "pop = pop.drop([2,9,12,37,42,48,56])\n",
    "\n",
    "#remove columns before 1980\n",
    "pop = pop.drop(columns = [\"1960\",\"1970\"])\n",
    "\n",
    "#rename columns\n",
    "pop = pop.rename(columns={\"Name\":\"State\",\"1980\":\"1980 Population\",\"1990\":\"1990 Population\",\"2000\":\"2000 Population\",\"2010\":\"2010 Population\",\"2020\":\"2020 Population\"})\n",
    "\n",
    "pop.head()"
   ]
  },
  {
   "cell_type": "markdown",
   "metadata": {},
   "source": [
    "We will use the state population data to put homelessness into a better perspective. We can compare state homeless data and analyze how it is changing over time. We trimmed our data to start at 1980 to keep it relatively recent findings."
   ]
  },
  {
   "cell_type": "markdown",
   "metadata": {},
   "source": [
    "### Minimum Wage By State (2021)"
   ]
  },
  {
   "cell_type": "code",
   "execution_count": 126,
   "metadata": {},
   "outputs": [
    {
     "data": {
      "text/html": [
       "<div>\n",
       "<style scoped>\n",
       "    .dataframe tbody tr th:only-of-type {\n",
       "        vertical-align: middle;\n",
       "    }\n",
       "\n",
       "    .dataframe tbody tr th {\n",
       "        vertical-align: top;\n",
       "    }\n",
       "\n",
       "    .dataframe thead th {\n",
       "        text-align: right;\n",
       "    }\n",
       "</style>\n",
       "<table border=\"1\" class=\"dataframe\">\n",
       "  <thead>\n",
       "    <tr style=\"text-align: right;\">\n",
       "      <th></th>\n",
       "      <th>State</th>\n",
       "      <th>Minimum Wage</th>\n",
       "    </tr>\n",
       "  </thead>\n",
       "  <tbody>\n",
       "    <tr>\n",
       "      <th>0</th>\n",
       "      <td>Alabama</td>\n",
       "      <td>7.25</td>\n",
       "    </tr>\n",
       "    <tr>\n",
       "      <th>1</th>\n",
       "      <td>Alaska</td>\n",
       "      <td>10.34</td>\n",
       "    </tr>\n",
       "    <tr>\n",
       "      <th>2</th>\n",
       "      <td>Arizona</td>\n",
       "      <td>12.15</td>\n",
       "    </tr>\n",
       "    <tr>\n",
       "      <th>3</th>\n",
       "      <td>Arkansas</td>\n",
       "      <td>11.00</td>\n",
       "    </tr>\n",
       "    <tr>\n",
       "      <th>4</th>\n",
       "      <td>California</td>\n",
       "      <td>14.00</td>\n",
       "    </tr>\n",
       "  </tbody>\n",
       "</table>\n",
       "</div>"
      ],
      "text/plain": [
       "        State Minimum Wage\n",
       "0     Alabama         7.25\n",
       "1      Alaska        10.34\n",
       "2     Arizona        12.15\n",
       "3    Arkansas        11.00\n",
       "4  California        14.00"
      ]
     },
     "execution_count": 126,
     "metadata": {},
     "output_type": "execute_result"
    }
   ],
   "source": [
    "#Data found for minimum wage by state\n",
    "r = requests.get(\"https://minimumwage.com/in-your-state/\")\n",
    "#parse\n",
    "root = BeautifulSoup(r.content)\n",
    "#find table to make df\n",
    "table = root.find(\"table\")\n",
    "#read html table as df\n",
    "wages = pd.read_html(str(table))\n",
    "#clean\n",
    "wages = pd.concat(wages)\n",
    "#drop all columns except state and wage\n",
    "wages = wages[[\"State\",\"Minimum Wage\"]]\n",
    "\n",
    "#cleans data\n",
    "for key, value in wages.iterrows():\n",
    "    wages[\"Minimum Wage\"][key] = str(wages[\"Minimum Wage\"][key])[1:]\n",
    "    \n",
    "wages.head()"
   ]
  },
  {
   "cell_type": "markdown",
   "metadata": {},
   "source": [
    "DataFrame of 50 rows (each state) and two columns (State and Minimum Wage). The Federal Minimum Wage is $7.25. Any higher wages was set by the state, potentially impacting rate of homelessness. This data was cleaned by removing the dollar sign from the wage value."
   ]
  },
  {
   "cell_type": "markdown",
   "metadata": {},
   "source": [
    "### Electoral College Results By State (1980-2020)"
   ]
  },
  {
   "cell_type": "code",
   "execution_count": 96,
   "metadata": {},
   "outputs": [
    {
     "data": {
      "text/html": [
       "<div>\n",
       "<style scoped>\n",
       "    .dataframe tbody tr th:only-of-type {\n",
       "        vertical-align: middle;\n",
       "    }\n",
       "\n",
       "    .dataframe tbody tr th {\n",
       "        vertical-align: top;\n",
       "    }\n",
       "\n",
       "    .dataframe thead th {\n",
       "        text-align: right;\n",
       "    }\n",
       "</style>\n",
       "<table border=\"1\" class=\"dataframe\">\n",
       "  <thead>\n",
       "    <tr style=\"text-align: right;\">\n",
       "      <th></th>\n",
       "      <th>State</th>\n",
       "      <th>1980 Electoral Vote</th>\n",
       "      <th>1984 Electoral Vote</th>\n",
       "      <th>1988 Electoral Vote</th>\n",
       "      <th>1992 Electoral Vote</th>\n",
       "      <th>1996 Electoral Vote</th>\n",
       "      <th>2000 Electoral Vote</th>\n",
       "      <th>2004 Electoral Vote</th>\n",
       "      <th>2008 Electoral Vote</th>\n",
       "      <th>2012 Electoral Vote</th>\n",
       "      <th>2016 Electoral Vote</th>\n",
       "      <th>2020 Electoral Vote</th>\n",
       "    </tr>\n",
       "  </thead>\n",
       "  <tbody>\n",
       "    <tr>\n",
       "      <th>1</th>\n",
       "      <td>Alabama</td>\n",
       "      <td>R</td>\n",
       "      <td>R</td>\n",
       "      <td>R</td>\n",
       "      <td>R</td>\n",
       "      <td>R</td>\n",
       "      <td>R</td>\n",
       "      <td>R</td>\n",
       "      <td>R</td>\n",
       "      <td>R</td>\n",
       "      <td>R</td>\n",
       "      <td>R</td>\n",
       "    </tr>\n",
       "    <tr>\n",
       "      <th>2</th>\n",
       "      <td>Alaska</td>\n",
       "      <td>R</td>\n",
       "      <td>R</td>\n",
       "      <td>R</td>\n",
       "      <td>R</td>\n",
       "      <td>R</td>\n",
       "      <td>R</td>\n",
       "      <td>R</td>\n",
       "      <td>R</td>\n",
       "      <td>R</td>\n",
       "      <td>R</td>\n",
       "      <td>R</td>\n",
       "    </tr>\n",
       "    <tr>\n",
       "      <th>3</th>\n",
       "      <td>Arizona</td>\n",
       "      <td>R</td>\n",
       "      <td>R</td>\n",
       "      <td>R</td>\n",
       "      <td>R</td>\n",
       "      <td>D</td>\n",
       "      <td>R</td>\n",
       "      <td>R</td>\n",
       "      <td>R</td>\n",
       "      <td>R</td>\n",
       "      <td>R</td>\n",
       "      <td>D</td>\n",
       "    </tr>\n",
       "    <tr>\n",
       "      <th>4</th>\n",
       "      <td>Arkansas</td>\n",
       "      <td>R</td>\n",
       "      <td>R</td>\n",
       "      <td>R</td>\n",
       "      <td>D</td>\n",
       "      <td>D</td>\n",
       "      <td>R</td>\n",
       "      <td>R</td>\n",
       "      <td>R</td>\n",
       "      <td>R</td>\n",
       "      <td>R</td>\n",
       "      <td>R</td>\n",
       "    </tr>\n",
       "    <tr>\n",
       "      <th>5</th>\n",
       "      <td>California</td>\n",
       "      <td>R</td>\n",
       "      <td>R</td>\n",
       "      <td>R</td>\n",
       "      <td>D</td>\n",
       "      <td>D</td>\n",
       "      <td>D</td>\n",
       "      <td>D</td>\n",
       "      <td>D</td>\n",
       "      <td>D</td>\n",
       "      <td>D</td>\n",
       "      <td>D</td>\n",
       "    </tr>\n",
       "  </tbody>\n",
       "</table>\n",
       "</div>"
      ],
      "text/plain": [
       "        State 1980 Electoral Vote 1984 Electoral Vote 1988 Electoral Vote  \\\n",
       "1     Alabama                   R                   R                   R   \n",
       "2      Alaska                   R                   R                   R   \n",
       "3     Arizona                   R                   R                   R   \n",
       "4    Arkansas                   R                   R                   R   \n",
       "5  California                   R                   R                   R   \n",
       "\n",
       "  1992 Electoral Vote 1996 Electoral Vote 2000 Electoral Vote  \\\n",
       "1                   R                   R                   R   \n",
       "2                   R                   R                   R   \n",
       "3                   R                   D                   R   \n",
       "4                   D                   D                   R   \n",
       "5                   D                   D                   D   \n",
       "\n",
       "  2004 Electoral Vote 2008 Electoral Vote 2012 Electoral Vote  \\\n",
       "1                   R                   R                   R   \n",
       "2                   R                   R                   R   \n",
       "3                   R                   R                   R   \n",
       "4                   R                   R                   R   \n",
       "5                   D                   D                   D   \n",
       "\n",
       "  2016 Electoral Vote 2020 Electoral Vote  \n",
       "1                   R                   R  \n",
       "2                   R                   R  \n",
       "3                   R                   D  \n",
       "4                   R                   R  \n",
       "5                   D                   D  "
      ]
     },
     "execution_count": 96,
     "metadata": {},
     "output_type": "execute_result"
    }
   ],
   "source": [
    "#data for which party each state voted for in presidential elections \n",
    "r1 = requests.get(\"https://en.wikipedia.org/wiki/List_of_United_States_presidential_election_results_by_state\")\n",
    "#parse\n",
    "root1 = BeautifulSoup(r1.content)\n",
    "#find table\n",
    "table1 = root1.find(\"table\")\n",
    "#read as table\n",
    "votes = pd.read_html(str(table1))\n",
    "votes = pd.concat(votes)\n",
    "#remove nans at end\n",
    "votes = votes[:54]\n",
    "#clean year data\n",
    "votes[59][0] = 2000\n",
    "votes[64][0] = 2016\n",
    "#cut data down to range from 1980-2020 elections\n",
    "votes = votes[[0,54,55,56,57,58,59,61,62,63,64,65]]\n",
    "#clean - set years to column values\n",
    "\n",
    "for columns in votes:\n",
    "    votes.rename({columns:str(votes[columns][0]) + \" Electoral Vote\"},inplace=True, axis=\"columns\")\n",
    "    \n",
    "votes = votes.rename({\"State Electoral Vote\":\"State\"}, axis=\"columns\")\n",
    "\n",
    "#removes non state rows\n",
    "votes = votes.drop([0,26,53])\n",
    "votes.head()"
   ]
  },
  {
   "cell_type": "markdown",
   "metadata": {},
   "source": [
    "Each state is tabled with their Presidential Electoral votes since 1980. This data was found on Wikipedia and can be used great for time charts. We will look to see if the values from this chart have a measurable impact on a states homeless population. It can also be mapped on a national level. We cleaned the table up and removed non state rows. We believe the 40 year timeline begining in 1980 is measurable range of values. "
   ]
  },
  {
   "cell_type": "markdown",
   "metadata": {},
   "source": [
    "### Average Temperature By State (2019)"
   ]
  },
  {
   "cell_type": "code",
   "execution_count": 97,
   "metadata": {},
   "outputs": [
    {
     "data": {
      "text/html": [
       "<div>\n",
       "<style scoped>\n",
       "    .dataframe tbody tr th:only-of-type {\n",
       "        vertical-align: middle;\n",
       "    }\n",
       "\n",
       "    .dataframe tbody tr th {\n",
       "        vertical-align: top;\n",
       "    }\n",
       "\n",
       "    .dataframe thead th {\n",
       "        text-align: right;\n",
       "    }\n",
       "</style>\n",
       "<table border=\"1\" class=\"dataframe\">\n",
       "  <thead>\n",
       "    <tr style=\"text-align: right;\">\n",
       "      <th></th>\n",
       "      <th>State</th>\n",
       "      <th>Average Temperature</th>\n",
       "    </tr>\n",
       "  </thead>\n",
       "  <tbody>\n",
       "    <tr>\n",
       "      <th>0</th>\n",
       "      <td>Florida</td>\n",
       "      <td>70.7</td>\n",
       "    </tr>\n",
       "    <tr>\n",
       "      <th>1</th>\n",
       "      <td>Hawaii</td>\n",
       "      <td>70.0</td>\n",
       "    </tr>\n",
       "    <tr>\n",
       "      <th>2</th>\n",
       "      <td>Louisiana</td>\n",
       "      <td>66.4</td>\n",
       "    </tr>\n",
       "    <tr>\n",
       "      <th>3</th>\n",
       "      <td>Texas</td>\n",
       "      <td>64.8</td>\n",
       "    </tr>\n",
       "    <tr>\n",
       "      <th>4</th>\n",
       "      <td>Georgia</td>\n",
       "      <td>63.5</td>\n",
       "    </tr>\n",
       "  </tbody>\n",
       "</table>\n",
       "</div>"
      ],
      "text/plain": [
       "       State  Average Temperature\n",
       "0    Florida                 70.7\n",
       "1     Hawaii                 70.0\n",
       "2  Louisiana                 66.4\n",
       "3      Texas                 64.8\n",
       "4    Georgia                 63.5"
      ]
     },
     "execution_count": 97,
     "metadata": {},
     "output_type": "execute_result"
    }
   ],
   "source": [
    "#data for average 2019 temperature by state - came pre organized in descending order\n",
    "r2 = requests.get(\"https://worldpopulationreview.com/state-rankings/average-temperatures-by-state\")\n",
    "#parse\n",
    "root2 = BeautifulSoup(r2.content)\n",
    "table2 = root2.find(\"table\")\n",
    "#make df\n",
    "temps = pd.read_html(str(table2))\n",
    "temps = pd.concat(temps)\n",
    "temps.head()"
   ]
  },
  {
   "cell_type": "markdown",
   "metadata": {},
   "source": [
    "This table shows the states average temperature during 2019 measured in Farrenheit. We will map this table to the homeless df to predict homeless population by temperature. "
   ]
  },
  {
   "cell_type": "markdown",
   "metadata": {},
   "source": [
    "# Data Merging"
   ]
  },
  {
   "cell_type": "markdown",
   "metadata": {},
   "source": [
    "If you noticed above, all the data was cleaned so that each dataframe has 50 rows, one for each state, named accordingly. By cleaning our data, we made merging table much easier. In this section we will combine all of our tables into one. We will use a few outer merge calls in order to add our columns together by state names"
   ]
  },
  {
   "cell_type": "code",
   "execution_count": 131,
   "metadata": {},
   "outputs": [
    {
     "data": {
      "text/html": [
       "<div>\n",
       "<style scoped>\n",
       "    .dataframe tbody tr th:only-of-type {\n",
       "        vertical-align: middle;\n",
       "    }\n",
       "\n",
       "    .dataframe tbody tr th {\n",
       "        vertical-align: top;\n",
       "    }\n",
       "\n",
       "    .dataframe thead th {\n",
       "        text-align: right;\n",
       "    }\n",
       "</style>\n",
       "<table border=\"1\" class=\"dataframe\">\n",
       "  <thead>\n",
       "    <tr style=\"text-align: right;\">\n",
       "      <th></th>\n",
       "      <th>State</th>\n",
       "      <th>Average Temperature</th>\n",
       "      <th>Minimum Wage</th>\n",
       "      <th>1980 Electoral Vote</th>\n",
       "      <th>1984 Electoral Vote</th>\n",
       "      <th>1988 Electoral Vote</th>\n",
       "      <th>1992 Electoral Vote</th>\n",
       "      <th>1996 Electoral Vote</th>\n",
       "      <th>2000 Electoral Vote</th>\n",
       "      <th>2004 Electoral Vote</th>\n",
       "      <th>...</th>\n",
       "      <th>Overall Homeless - Transgender, 2020</th>\n",
       "      <th>Overall Homeless - Gender Non-Conforming, 2020</th>\n",
       "      <th>Overall Homeless - Hispanic/Latino, 2020</th>\n",
       "      <th>Overall Homeless - White, 2020</th>\n",
       "      <th>Overall Homeless - Black or African American, 2020</th>\n",
       "      <th>Overall Homeless - Asian, 2020</th>\n",
       "      <th>Overall Homeless - American Indian or Alaska Native, 2020</th>\n",
       "      <th>Overall Homeless - Native Hawaiian or Other Pacific Islander, 2020</th>\n",
       "      <th>Overall Homeless - Multiple Races, 2020</th>\n",
       "      <th>State ID</th>\n",
       "    </tr>\n",
       "  </thead>\n",
       "  <tbody>\n",
       "    <tr>\n",
       "      <th>0</th>\n",
       "      <td>Florida</td>\n",
       "      <td>70.7</td>\n",
       "      <td>8.65</td>\n",
       "      <td>R</td>\n",
       "      <td>R</td>\n",
       "      <td>R</td>\n",
       "      <td>R</td>\n",
       "      <td>D</td>\n",
       "      <td>R</td>\n",
       "      <td>R</td>\n",
       "      <td>...</td>\n",
       "      <td>52</td>\n",
       "      <td>22</td>\n",
       "      <td>4045</td>\n",
       "      <td>15102</td>\n",
       "      <td>11042</td>\n",
       "      <td>128</td>\n",
       "      <td>328</td>\n",
       "      <td>73</td>\n",
       "      <td>814</td>\n",
       "      <td>FL</td>\n",
       "    </tr>\n",
       "    <tr>\n",
       "      <th>1</th>\n",
       "      <td>Hawaii</td>\n",
       "      <td>70.0</td>\n",
       "      <td>10.10</td>\n",
       "      <td>D</td>\n",
       "      <td>R</td>\n",
       "      <td>D</td>\n",
       "      <td>D</td>\n",
       "      <td>D</td>\n",
       "      <td>D</td>\n",
       "      <td>D</td>\n",
       "      <td>...</td>\n",
       "      <td>36</td>\n",
       "      <td>27</td>\n",
       "      <td>935</td>\n",
       "      <td>1469</td>\n",
       "      <td>295</td>\n",
       "      <td>564</td>\n",
       "      <td>83</td>\n",
       "      <td>2160</td>\n",
       "      <td>1887</td>\n",
       "      <td>HI</td>\n",
       "    </tr>\n",
       "    <tr>\n",
       "      <th>2</th>\n",
       "      <td>Louisiana</td>\n",
       "      <td>66.4</td>\n",
       "      <td>7.25</td>\n",
       "      <td>R</td>\n",
       "      <td>R</td>\n",
       "      <td>R</td>\n",
       "      <td>D</td>\n",
       "      <td>D</td>\n",
       "      <td>R</td>\n",
       "      <td>R</td>\n",
       "      <td>...</td>\n",
       "      <td>11</td>\n",
       "      <td>3</td>\n",
       "      <td>88</td>\n",
       "      <td>1165</td>\n",
       "      <td>1908</td>\n",
       "      <td>21</td>\n",
       "      <td>29</td>\n",
       "      <td>5</td>\n",
       "      <td>45</td>\n",
       "      <td>LA</td>\n",
       "    </tr>\n",
       "    <tr>\n",
       "      <th>3</th>\n",
       "      <td>Texas</td>\n",
       "      <td>64.8</td>\n",
       "      <td>7.25</td>\n",
       "      <td>R</td>\n",
       "      <td>R</td>\n",
       "      <td>R</td>\n",
       "      <td>R</td>\n",
       "      <td>R</td>\n",
       "      <td>R</td>\n",
       "      <td>R</td>\n",
       "      <td>...</td>\n",
       "      <td>61</td>\n",
       "      <td>21</td>\n",
       "      <td>7545</td>\n",
       "      <td>15778</td>\n",
       "      <td>10001</td>\n",
       "      <td>206</td>\n",
       "      <td>346</td>\n",
       "      <td>89</td>\n",
       "      <td>809</td>\n",
       "      <td>TX</td>\n",
       "    </tr>\n",
       "    <tr>\n",
       "      <th>4</th>\n",
       "      <td>Georgia</td>\n",
       "      <td>63.5</td>\n",
       "      <td>7.25</td>\n",
       "      <td>D</td>\n",
       "      <td>R</td>\n",
       "      <td>R</td>\n",
       "      <td>D</td>\n",
       "      <td>R</td>\n",
       "      <td>R</td>\n",
       "      <td>R</td>\n",
       "      <td>...</td>\n",
       "      <td>44</td>\n",
       "      <td>107</td>\n",
       "      <td>520</td>\n",
       "      <td>3031</td>\n",
       "      <td>6708</td>\n",
       "      <td>92</td>\n",
       "      <td>64</td>\n",
       "      <td>21</td>\n",
       "      <td>318</td>\n",
       "      <td>GA</td>\n",
       "    </tr>\n",
       "  </tbody>\n",
       "</table>\n",
       "<p>5 rows × 35 columns</p>\n",
       "</div>"
      ],
      "text/plain": [
       "       State  Average Temperature Minimum Wage 1980 Electoral Vote  \\\n",
       "0    Florida                 70.7         8.65                   R   \n",
       "1     Hawaii                 70.0        10.10                   D   \n",
       "2  Louisiana                 66.4         7.25                   R   \n",
       "3      Texas                 64.8         7.25                   R   \n",
       "4    Georgia                 63.5         7.25                   D   \n",
       "\n",
       "  1984 Electoral Vote 1988 Electoral Vote 1992 Electoral Vote  \\\n",
       "0                   R                   R                   R   \n",
       "1                   R                   D                   D   \n",
       "2                   R                   R                   D   \n",
       "3                   R                   R                   R   \n",
       "4                   R                   R                   D   \n",
       "\n",
       "  1996 Electoral Vote 2000 Electoral Vote 2004 Electoral Vote  ...  \\\n",
       "0                   D                   R                   R  ...   \n",
       "1                   D                   D                   D  ...   \n",
       "2                   D                   R                   R  ...   \n",
       "3                   R                   R                   R  ...   \n",
       "4                   R                   R                   R  ...   \n",
       "\n",
       "  Overall Homeless - Transgender, 2020  \\\n",
       "0                                   52   \n",
       "1                                   36   \n",
       "2                                   11   \n",
       "3                                   61   \n",
       "4                                   44   \n",
       "\n",
       "  Overall Homeless - Gender Non-Conforming, 2020  \\\n",
       "0                                             22   \n",
       "1                                             27   \n",
       "2                                              3   \n",
       "3                                             21   \n",
       "4                                            107   \n",
       "\n",
       "  Overall Homeless - Hispanic/Latino, 2020 Overall Homeless - White, 2020  \\\n",
       "0                                     4045                          15102   \n",
       "1                                      935                           1469   \n",
       "2                                       88                           1165   \n",
       "3                                     7545                          15778   \n",
       "4                                      520                           3031   \n",
       "\n",
       "  Overall Homeless - Black or African American, 2020  \\\n",
       "0                                              11042   \n",
       "1                                                295   \n",
       "2                                               1908   \n",
       "3                                              10001   \n",
       "4                                               6708   \n",
       "\n",
       "  Overall Homeless - Asian, 2020  \\\n",
       "0                            128   \n",
       "1                            564   \n",
       "2                             21   \n",
       "3                            206   \n",
       "4                             92   \n",
       "\n",
       "  Overall Homeless - American Indian or Alaska Native, 2020  \\\n",
       "0                                                328          \n",
       "1                                                 83          \n",
       "2                                                 29          \n",
       "3                                                346          \n",
       "4                                                 64          \n",
       "\n",
       "  Overall Homeless - Native Hawaiian or Other Pacific Islander, 2020  \\\n",
       "0                                                 73                   \n",
       "1                                               2160                   \n",
       "2                                                  5                   \n",
       "3                                                 89                   \n",
       "4                                                 21                   \n",
       "\n",
       "  Overall Homeless - Multiple Races, 2020  State ID  \n",
       "0                                     814        FL  \n",
       "1                                    1887        HI  \n",
       "2                                      45        LA  \n",
       "3                                     809        TX  \n",
       "4                                     318        GA  \n",
       "\n",
       "[5 rows x 35 columns]"
      ]
     },
     "execution_count": 131,
     "metadata": {},
     "output_type": "execute_result"
    }
   ],
   "source": [
    "#combines wages and temperatures by states\n",
    "temp_wages = temps.merge(wages, on= \"State\", how = \"outer\")\n",
    "#combines previous table with election results\n",
    "elections_temp_wages = temp_wages.merge(votes, on=\"State\", how = \"outer\")\n",
    "#Sorry DC and Puerto Rico\n",
    "elections_temp_wages = elections_temp_wages.dropna()\n",
    "\n",
    "#add population table\n",
    "elections_temp_wages_pop = elections_temp_wages.merge(pop, on= \"State\", how = \"outer\")\n",
    "\n",
    "#Complete DataFrame with homeless stats\n",
    "df2020 = elections_temp_wages_pop.merge(HUD2020, on=\"State\", how=\"outer\")\n",
    "\n",
    "#cast and rename column variables\n",
    "df2020[\"Average Temperature\"] = df2020[\"Average Temperature\"].astype(float)\n",
    "df2020[\"Overall Homeless, 2020\"] = df2020[\"Overall Homeless, 2020\"].astype(int)\n",
    "df2020 = df2020.rename({\"1980\":\"1980 Election Result\",\"1984\":\"1984 Election Result\",\"1988\":\"1988 Election Result\",\"1992\":\"1992 Election Result\",\"1996\":\"1996 Election Result\",2000:\"2000 Election Result\",\"2004\":\"2004 Election Result\",\"2008\":\"2008 Election Result\",\"2012\":\"2012 Election Result\",2016:\"2016 Election Result\",\"2020\":\"2020 Election Result\"}, axis=\"columns\")\n",
    "    \n",
    "df2020.head()"
   ]
  },
  {
   "cell_type": "markdown",
   "metadata": {},
   "source": [
    "### Additional Calculations\n",
    "With our combined DataFrame, we can now perform some calculations on our data. For example we will find the rate of homelessness"
   ]
  },
  {
   "cell_type": "code",
   "execution_count": 134,
   "metadata": {},
   "outputs": [],
   "source": [
    "df2020[\"Homeless Rate\"] = df2020[\"Overall Homeless, 2020\"] / df2020[\"2020 Population\"].astype(int)"
   ]
  },
  {
   "cell_type": "markdown",
   "metadata": {},
   "source": [
    "# Analysis Part 1:  National Observations\n",
    "## Summary Statistics\n",
    "### Sum\n",
    "The United States has 569,334 homeless people"
   ]
  },
  {
   "cell_type": "code",
   "execution_count": 135,
   "metadata": {
    "scrolled": true
   },
   "outputs": [
    {
     "data": {
      "text/plain": [
       "569334"
      ]
     },
     "execution_count": 135,
     "metadata": {},
     "output_type": "execute_result"
    }
   ],
   "source": [
    "df2020[\"Overall Homeless, 2020\"].sum()"
   ]
  },
  {
   "cell_type": "markdown",
   "metadata": {},
   "source": [
    "### Mean"
   ]
  },
  {
   "cell_type": "markdown",
   "metadata": {},
   "source": [
    "#### Average Of Averages \n",
    "Average State has ~11,386 homeless people"
   ]
  },
  {
   "cell_type": "code",
   "execution_count": 136,
   "metadata": {},
   "outputs": [
    {
     "data": {
      "text/plain": [
       "11386.68"
      ]
     },
     "execution_count": 136,
     "metadata": {},
     "output_type": "execute_result"
    }
   ],
   "source": [
    "df2020[\"Overall Homeless, 2020\"].mean()"
   ]
  },
  {
   "cell_type": "markdown",
   "metadata": {},
   "source": [
    "#### Average Homeless Rate\n",
    "The average state has a homeless rate of .14%"
   ]
  },
  {
   "cell_type": "code",
   "execution_count": 137,
   "metadata": {},
   "outputs": [
    {
     "data": {
      "text/plain": [
       "0.00140329255293916"
      ]
     },
     "execution_count": 137,
     "metadata": {},
     "output_type": "execute_result"
    }
   ],
   "source": [
    "df2020[\"Homeless Rate\"].mean()"
   ]
  },
  {
   "cell_type": "markdown",
   "metadata": {},
   "source": [
    "### Outliers"
   ]
  },
  {
   "cell_type": "markdown",
   "metadata": {},
   "source": [
    "#### Max\n",
    "California has the highest homeless population at 161548 people"
   ]
  },
  {
   "cell_type": "code",
   "execution_count": 138,
   "metadata": {},
   "outputs": [
    {
     "data": {
      "text/plain": [
       "161548"
      ]
     },
     "execution_count": 138,
     "metadata": {},
     "output_type": "execute_result"
    }
   ],
   "source": [
    "df2020[\"Overall Homeless, 2020\"].max()"
   ]
  },
  {
   "cell_type": "code",
   "execution_count": 139,
   "metadata": {},
   "outputs": [
    {
     "data": {
      "text/plain": [
       "State    California\n",
       "Name: 11, dtype: object"
      ]
     },
     "execution_count": 139,
     "metadata": {},
     "output_type": "execute_result"
    }
   ],
   "source": [
    "df2020.loc[df2020[\"Overall Homeless, 2020\"].idxmax()].head(1)"
   ]
  },
  {
   "cell_type": "markdown",
   "metadata": {},
   "source": [
    "#### Min \n",
    "North Dakota has the lowest homeless population at 541 people"
   ]
  },
  {
   "cell_type": "code",
   "execution_count": 140,
   "metadata": {},
   "outputs": [
    {
     "data": {
      "text/plain": [
       "541"
      ]
     },
     "execution_count": 140,
     "metadata": {},
     "output_type": "execute_result"
    }
   ],
   "source": [
    "df2020[\"Overall Homeless, 2020\"].min()"
   ]
  },
  {
   "cell_type": "code",
   "execution_count": 141,
   "metadata": {},
   "outputs": [
    {
     "data": {
      "text/plain": [
       "State    North Dakota\n",
       "Name: 48, dtype: object"
      ]
     },
     "execution_count": 141,
     "metadata": {},
     "output_type": "execute_result"
    }
   ],
   "source": [
    "df2020.loc[df2020[\"Overall Homeless, 2020\"].idxmin()].head(1)"
   ]
  },
  {
   "cell_type": "markdown",
   "metadata": {},
   "source": [
    "### Spread\n",
    "The standard deviation of homelessness in the US is 25,559 - this is extremely disbursed data."
   ]
  },
  {
   "cell_type": "code",
   "execution_count": 142,
   "metadata": {},
   "outputs": [
    {
     "data": {
      "text/plain": [
       "25559.470407818764"
      ]
     },
     "execution_count": 142,
     "metadata": {},
     "output_type": "execute_result"
    }
   ],
   "source": [
    "df2020[\"Overall Homeless, 2020\"].std()"
   ]
  },
  {
   "cell_type": "markdown",
   "metadata": {},
   "source": [
    "## Demographic Distribution"
   ]
  },
  {
   "cell_type": "markdown",
   "metadata": {},
   "source": [
    "Bar chart of national homeless by gender. \n",
    "\n",
    "More homeless men than women."
   ]
  },
  {
   "cell_type": "code",
   "execution_count": 145,
   "metadata": {},
   "outputs": [
    {
     "data": {
      "text/plain": [
       "<AxesSubplot:title={'center':'2021 National Homeless Count By Gender'}, xlabel='Gender', ylabel='Homeless Count'>"
      ]
     },
     "execution_count": 145,
     "metadata": {},
     "output_type": "execute_result"
    },
    {
     "data": {
      "image/png": "[encoded data removed]",
      "text/plain": [
       "<Figure size 720x360 with 1 Axes>"
      ]
     },
     "metadata": {},
     "output_type": "display_data"
    }
   ],
   "source": [
    "genders = df2020[[\"State\",\"Overall Homeless - Female, 2020\", \"Overall Homeless - Male, 2020\", \"Overall Homeless - Transgender, 2020\", \"Overall Homeless - Gender Non-Conforming, 2020\"]]\n",
    "genders = genders.set_index(\"State\")\n",
    "genders = genders.astype(int)\n",
    "\n",
    "female = genders[\"Overall Homeless - Female, 2020\"].sum()\n",
    "male = genders[\"Overall Homeless - Male, 2020\"].sum()\n",
    "other = genders[\"Overall Homeless - Transgender, 2020\"].sum() + genders[\"Overall Homeless - Gender Non-Conforming, 2020\"].sum()\n",
    "\n",
    "gendersums = pd.DataFrame.from_dict({\"Female\":female,\"Male\":male,\"Other\":other},orient='index',columns=[\"Total Homeless\"])\n",
    "sns.set(rc={\"figure.figsize\":(10,5)})\n",
    "gendersums.plot.bar(xlabel= \"Gender\", ylabel = \"Homeless Count\", title = \"2021 National Homeless Count By Gender\")"
   ]
  },
  {
   "cell_type": "markdown",
   "metadata": {},
   "source": [
    "Pie Chart Of Homeless By Age:\n",
    "\n",
    "Adults make up the larget portion of the homeless population but there are a large percent of homeless kids and young adults in the country."
   ]
  },
  {
   "cell_type": "code",
   "execution_count": 146,
   "metadata": {},
   "outputs": [
    {
     "data": {
      "text/plain": [
       "<AxesSubplot:title={'center':'2020 National Homeless Distribution By Gender'}, ylabel='Total Homeless %'>"
      ]
     },
     "execution_count": 146,
     "metadata": {},
     "output_type": "execute_result"
    },
    {
     "data": {
      "image/png": "[encoded data removed]",
      "text/plain": [
       "<Figure size 720x360 with 1 Axes>"
      ]
     },
     "metadata": {},
     "output_type": "display_data"
    }
   ],
   "source": [
    "ages = df2020[[\"State\",\"Overall Homeless - Under 18, 2020\",\"Overall Homeless - Age 18 to 24, 2020\",\"Overall Homeless - Over 24, 2020\"]]\n",
    "ages = ages.set_index(\"State\")\n",
    "ages = ages.astype(int)\n",
    "\n",
    "kids = ages[\"Overall Homeless - Under 18, 2020\"].sum()\n",
    "young = ages[\"Overall Homeless - Age 18 to 24, 2020\"].sum()\n",
    "adult = ages[\"Overall Homeless - Over 24, 2020\"].sum()\n",
    "\n",
    "agesums = pd.DataFrame.from_dict({\"Under 18\":young,\"18-24\":young,\"24+\":adult},orient='index',columns=[\"Total Homeless %\"])\n",
    "agesums.plot.pie(y=\"Total Homeless %\", title = \"2020 National Homeless Distribution By Gender\",autopct='%1.1f%%', legend = False)"
   ]
  },
  {
   "cell_type": "markdown",
   "metadata": {},
   "source": [
    "# Analysis Part 2: Regional Impacts\n",
    "## Louisiana Findings"
   ]
  },
  {
   "cell_type": "code",
   "execution_count": 147,
   "metadata": {},
   "outputs": [
    {
     "data": {
      "text/html": [
       "<div>\n",
       "<style scoped>\n",
       "    .dataframe tbody tr th:only-of-type {\n",
       "        vertical-align: middle;\n",
       "    }\n",
       "\n",
       "    .dataframe tbody tr th {\n",
       "        vertical-align: top;\n",
       "    }\n",
       "\n",
       "    .dataframe thead th {\n",
       "        text-align: right;\n",
       "    }\n",
       "</style>\n",
       "<table border=\"1\" class=\"dataframe\">\n",
       "  <thead>\n",
       "    <tr style=\"text-align: right;\">\n",
       "      <th></th>\n",
       "      <th>State</th>\n",
       "      <th>Average Temperature</th>\n",
       "      <th>Minimum Wage</th>\n",
       "      <th>1980 Electoral Vote</th>\n",
       "      <th>1984 Electoral Vote</th>\n",
       "      <th>1988 Electoral Vote</th>\n",
       "      <th>1992 Electoral Vote</th>\n",
       "      <th>1996 Electoral Vote</th>\n",
       "      <th>2000 Electoral Vote</th>\n",
       "      <th>2004 Electoral Vote</th>\n",
       "      <th>...</th>\n",
       "      <th>Overall Homeless - Gender Non-Conforming, 2020</th>\n",
       "      <th>Overall Homeless - Hispanic/Latino, 2020</th>\n",
       "      <th>Overall Homeless - White, 2020</th>\n",
       "      <th>Overall Homeless - Black or African American, 2020</th>\n",
       "      <th>Overall Homeless - Asian, 2020</th>\n",
       "      <th>Overall Homeless - American Indian or Alaska Native, 2020</th>\n",
       "      <th>Overall Homeless - Native Hawaiian or Other Pacific Islander, 2020</th>\n",
       "      <th>Overall Homeless - Multiple Races, 2020</th>\n",
       "      <th>State ID</th>\n",
       "      <th>Homeless Rate</th>\n",
       "    </tr>\n",
       "  </thead>\n",
       "  <tbody>\n",
       "    <tr>\n",
       "      <th>2</th>\n",
       "      <td>Louisiana</td>\n",
       "      <td>66.4</td>\n",
       "      <td>7.25</td>\n",
       "      <td>R</td>\n",
       "      <td>R</td>\n",
       "      <td>R</td>\n",
       "      <td>D</td>\n",
       "      <td>D</td>\n",
       "      <td>R</td>\n",
       "      <td>R</td>\n",
       "      <td>...</td>\n",
       "      <td>3</td>\n",
       "      <td>88</td>\n",
       "      <td>1165</td>\n",
       "      <td>1908</td>\n",
       "      <td>21</td>\n",
       "      <td>29</td>\n",
       "      <td>5</td>\n",
       "      <td>45</td>\n",
       "      <td>LA</td>\n",
       "      <td>0.000681</td>\n",
       "    </tr>\n",
       "  </tbody>\n",
       "</table>\n",
       "<p>1 rows × 36 columns</p>\n",
       "</div>"
      ],
      "text/plain": [
       "       State  Average Temperature Minimum Wage 1980 Electoral Vote  \\\n",
       "2  Louisiana                 66.4         7.25                   R   \n",
       "\n",
       "  1984 Electoral Vote 1988 Electoral Vote 1992 Electoral Vote  \\\n",
       "2                   R                   R                   D   \n",
       "\n",
       "  1996 Electoral Vote 2000 Electoral Vote 2004 Electoral Vote  ...  \\\n",
       "2                   D                   R                   R  ...   \n",
       "\n",
       "  Overall Homeless - Gender Non-Conforming, 2020  \\\n",
       "2                                              3   \n",
       "\n",
       "  Overall Homeless - Hispanic/Latino, 2020 Overall Homeless - White, 2020  \\\n",
       "2                                       88                           1165   \n",
       "\n",
       "  Overall Homeless - Black or African American, 2020  \\\n",
       "2                                               1908   \n",
       "\n",
       "  Overall Homeless - Asian, 2020  \\\n",
       "2                             21   \n",
       "\n",
       "  Overall Homeless - American Indian or Alaska Native, 2020  \\\n",
       "2                                                 29          \n",
       "\n",
       "  Overall Homeless - Native Hawaiian or Other Pacific Islander, 2020  \\\n",
       "2                                                  5                   \n",
       "\n",
       "  Overall Homeless - Multiple Races, 2020 State ID  Homeless Rate  \n",
       "2                                      45       LA       0.000681  \n",
       "\n",
       "[1 rows x 36 columns]"
      ]
     },
     "execution_count": 147,
     "metadata": {},
     "output_type": "execute_result"
    }
   ],
   "source": [
    "louisiana = df2020[2:3]\n",
    "louisiana"
   ]
  },
  {
   "cell_type": "markdown",
   "metadata": {},
   "source": [
    "### Homeless By State Temperature"
   ]
  },
  {
   "cell_type": "code",
   "execution_count": 148,
   "metadata": {},
   "outputs": [],
   "source": [
    "homeless_temp = df2020[[\"Average Temperature\",\"Homeless Rate\",\"State ID\"]]\n",
    "homeless_temp.set_index(\"State ID\", inplace= True)"
   ]
  },
  {
   "cell_type": "markdown",
   "metadata": {},
   "source": [
    "Weak Negative Correlation"
   ]
  },
  {
   "cell_type": "code",
   "execution_count": 149,
   "metadata": {},
   "outputs": [
    {
     "data": {
      "text/plain": [
       "-0.09553567731307452"
      ]
     },
     "execution_count": 149,
     "metadata": {},
     "output_type": "execute_result"
    }
   ],
   "source": [
    "homeless_temp[\"Average Temperature\"].corr(homeless_temp[\"Homeless Rate\"])"
   ]
  },
  {
   "cell_type": "code",
   "execution_count": 151,
   "metadata": {},
   "outputs": [
    {
     "data": {
      "text/plain": [
       "Text(0.5, 1.0, \"Scatter Of 2020 Homeless Rate By A State's Average Yearly Temperature\")"
      ]
     },
     "execution_count": 151,
     "metadata": {},
     "output_type": "execute_result"
    },
    {
     "data": {
      "image/png": "[encoded data removed]",
      "text/plain": [
       "<Figure size 1080x540 with 1 Axes>"
      ]
     },
     "metadata": {},
     "output_type": "display_data"
    }
   ],
   "source": [
    "fig, ax = plt.subplots()\n",
    "sns.set(rc={\"figure.figsize\":(15,7.5)})\n",
    "\n",
    "plot1 = sns.regplot(x = \"Average Temperature\",\n",
    "            y = \"Homeless Rate\", \n",
    "            ci = None,\n",
    "            ax=ax,\n",
    "            data = homeless_temp)\n",
    "\n",
    "#labels each dot based on its team\n",
    "for k, v in homeless_temp.iterrows():\n",
    "    ax.annotate(k, v, family='sans-serif', fontsize=12, color='darkslategrey')\n",
    "fig.canvas.draw()\n",
    "\n",
    "plot1.set_title(\"Scatter Of 2020 Homeless Rate By A State's Average Yearly Temperature\")"
   ]
  },
  {
   "cell_type": "markdown",
   "metadata": {},
   "source": [
    "### Homeless By State Minimum Wage"
   ]
  },
  {
   "cell_type": "code",
   "execution_count": 152,
   "metadata": {},
   "outputs": [],
   "source": [
    "homeless_wage = df2020[[\"Minimum Wage\",\"Homeless Rate\", \"State ID\"]]\n",
    "homeless_wage[\"Minimum Wage\"] = homeless_wage[\"Minimum Wage\"].astype(float)\n",
    "homeless_wage[\"Homeless Rate\"] = homeless_wage[\"Homeless Rate\"].astype(float)\n",
    "homeless_wage.set_index(\"State ID\", inplace = True)"
   ]
  },
  {
   "cell_type": "markdown",
   "metadata": {},
   "source": [
    "Moderate Positive Correlation"
   ]
  },
  {
   "cell_type": "code",
   "execution_count": 153,
   "metadata": {},
   "outputs": [
    {
     "data": {
      "text/plain": [
       "0.5908830206536951"
      ]
     },
     "execution_count": 153,
     "metadata": {},
     "output_type": "execute_result"
    }
   ],
   "source": [
    "homeless_wage[\"Minimum Wage\"].corr(homeless_wage[\"Homeless Rate\"])"
   ]
  },
  {
   "cell_type": "markdown",
   "metadata": {},
   "source": [
    "Scatter Chart"
   ]
  },
  {
   "cell_type": "code",
   "execution_count": 157,
   "metadata": {},
   "outputs": [
    {
     "data": {
      "text/plain": [
       "Text(0.5, 1.0, \"Scatter Of 2020 Homeless Rate By A State's Minimum Wage\")"
      ]
     },
     "execution_count": 157,
     "metadata": {},
     "output_type": "execute_result"
    },
    {
     "data": {
      "image/png": "[encoded data removed]",
      "text/plain": [
       "<Figure size 1080x540 with 1 Axes>"
      ]
     },
     "metadata": {},
     "output_type": "display_data"
    }
   ],
   "source": [
    "fig, ax = plt.subplots()\n",
    "sns.set(rc={\"figure.figsize\":(15,7.5)})\n",
    "\n",
    "plot2 = sns.regplot(x = \"Minimum Wage\",\n",
    "            y = \"Homeless Rate\", \n",
    "            ci = None,\n",
    "            ax=ax,\n",
    "            data = homeless_wage)\n",
    "\n",
    "#labels each dot based on its team\n",
    "for k, v in homeless_wage.iterrows():\n",
    "    ax.annotate(k, v, family='sans-serif', fontsize=12, color='darkslategrey')\n",
    "fig.canvas.draw()\n",
    "\n",
    "plot2.set_title(\"Scatter Of 2020 Homeless Rate By A State's Minimum Wage\")"
   ]
  },
  {
   "cell_type": "markdown",
   "metadata": {},
   "source": [
    "Louisiana ($7.25) minimum wage is overlapped by a clump of other states that has left their minim wage at the federal minimum\n",
    "\n",
    "Reverse affect. As minimum wage increases, homeless increases. This is because homeless people tend to reside in cities. Let's look a step further and see compare with state population and minimum wage."
   ]
  },
  {
   "cell_type": "markdown",
   "metadata": {},
   "source": [
    "### Homelessness By State 2020 Electoral Vote"
   ]
  },
  {
   "cell_type": "code",
   "execution_count": 76,
   "metadata": {},
   "outputs": [
    {
     "data": {
      "text/plain": [
       "<AxesSubplot:title={'center':'Average Homeless Rate By States 2020 Electoral Vote'}, xlabel='2020 Electoral Vote', ylabel='2020 Homeless Rate'>"
      ]
     },
     "execution_count": 76,
     "metadata": {},
     "output_type": "execute_result"
    },
    {
     "data": {
      "image/png": "[encoded data removed]",
      "text/plain": [
       "<Figure size 432x288 with 1 Axes>"
      ]
     },
     "metadata": {
      "needs_background": "light"
     },
     "output_type": "display_data"
    }
   ],
   "source": [
    "df2020.groupby(\"2020 Electoral Vote\").mean()[\"Homeless Rate\"].plot.bar(color = [\"blue\",\"red\"],ylabel =\"2020 Homeless Rate\", title = \"Average Homeless Rate By States 2020 Electoral Vote\")"
   ]
  },
  {
   "cell_type": "markdown",
   "metadata": {},
   "source": [
    "I think this line of code is really sleek and offers a great insight into homelessness. What you see above is the average rate of homelessness for states that voted Democrat against Republican states in the 2020 Presidential Election"
   ]
  },
  {
   "cell_type": "markdown",
   "metadata": {},
   "source": [
    "# Analysis Part 3: Future Predictions\n",
    "See Next Steps Below - will include a regression that computes the most correlated factors with a states homeless population."
   ]
  },
  {
   "cell_type": "markdown",
   "metadata": {},
   "source": [
    "# Next Steps"
   ]
  },
  {
   "cell_type": "markdown",
   "metadata": {},
   "source": [
    "1. Part 3 of our analysis is to create a predictive model to forecast the homeless population in 2021 and future years. We will create a linear regression model using homeless data over the last 40 years and regress it with the most correlated factors.\n",
    "\n",
    "2. More charts and visuals will help analyze and present the findings and correlations between states, homeless population, and other factors. This will show which factors are the most correlated with state homelessness data. We will then present our findings and reccomendations in order to reduce homelessness. We especially want to tailor our reccomendations to help improve heomlessness in Louisiana, so we will provide a much more thorough analysis for our next milestone."
   ]
  },
  {
   "cell_type": "code",
   "execution_count": null,
   "metadata": {},
   "outputs": [],
   "source": []
  },
  {
   "cell_type": "code",
   "execution_count": null,
   "metadata": {},
   "outputs": [],
   "source": []
  },
  {
   "cell_type": "code",
   "execution_count": null,
   "metadata": {},
   "outputs": [],
   "source": []
  }
 ],
 "metadata": {
  "kernelspec": {
   "display_name": "Python 3",
   "language": "python",
   "name": "python3"
  },
  "language_info": {
   "codemirror_mode": {
    "name": "ipython",
    "version": 3
   },
   "file_extension": ".py",
   "mimetype": "text/x-python",
   "name": "python",
   "nbconvert_exporter": "python",
   "pygments_lexer": "ipython3",
   "version": "3.6.8"
  }
 },
 "nbformat": 4,
 "nbformat_minor": 4
}
