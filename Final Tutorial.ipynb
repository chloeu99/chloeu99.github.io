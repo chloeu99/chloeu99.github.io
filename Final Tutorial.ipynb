{
 "cells": [
  {
   "cell_type": "markdown",
   "metadata": {},
   "source": [
    "[chloeuhls.github.io](https://chloeu99.github.io/)"
   ]
  },
  {
   "cell_type": "markdown",
   "metadata": {},
   "source": [
    "Data Science Final Tutorial\n",
    "Jacob Waxman and Chloe Uhls"
   ]
  },
  {
   "cell_type": "markdown",
   "metadata": {},
   "source": [
    "# Analysis Of Homelessness In The United States"
   ]
  },
  {
   "cell_type": "markdown",
   "metadata": {},
   "source": [
    "### Introduction"
   ]
  },
  {
   "cell_type": "markdown",
   "metadata": {},
   "source": [
    "For our final tutorial we will be analyzing homelessness in the United States. We are diving into the current state of homelessness, the change over time, and factors that have the biggest impact on homelessness. Observations that we will be looking for include total homeless population, homelessness per capita, and homeless population demographics. Furthermore, we aim to find trends in our data with variables correlating to our observations. These factors will include geographic location, local politics, and minimum wage. \n",
    "\n",
    "\n",
    "We will divide our project into 3 parts.\n",
    "\n",
    "1. National Level - Analyzing Homelessness Over Time\n",
    "\n",
    "2. Regionally - Highlighting New Orleans and Other Cities and States\n",
    "\n",
    "3. Impact Of Covid-19 - The Before And After Impact of the Pandemic"
   ]
  },
  {
   "cell_type": "markdown",
   "metadata": {},
   "source": [
    "### Collaboration Plan"
   ]
  },
  {
   "cell_type": "markdown",
   "metadata": {},
   "source": [
    "Chloe and I will be meeting roughly twice a week to work on our project. We will meet virtually via Zoom and in person depending on the week. We will use a Github repository (https://github.com/chloeu99/chloeu99.github.io) to collaborate and save our coding progress. We will use (are currently using) Google Docs for written reports throughout the semester, then we’ll upload it to github to make sure it’s all stored together. \n",
    "In terms of coding, we will use the same strategies that we learned in class: Python coding and data scraping and the pandas library for analysis."
   ]
  },
  {
   "cell_type": "markdown",
   "metadata": {},
   "source": [
    "### Datasets Used"
   ]
  },
  {
   "cell_type": "markdown",
   "metadata": {},
   "source": [
    "1. 2007-2020 PIT Estimates by State from HUD exchange.                                                         \n",
    "\n",
    "Link: https://www.huduser.gov/portal/sites/default/files/xls/2007-2020-PIT-Estimates-by-state.xlsx\n",
    "\n",
    "This data was really exciting to find. It includes the most recent homelessness(2020 status) and the change over time since 2007. The spreadsheet includes specific categories including total homelessness by state, breakdowns by gender and race, and status of homeless citizens (sheltered, unsheltered, etc). One question to analyze: which gender has a higher population of homelessness in Illinois?\n",
    "\n",
    "\n",
    "\n",
    "\n",
    "2. Downloaded Homelessness by Race, Homelessness by Gender, National Trends by Subpopulation CSV Files.\n",
    "\n",
    "Link: https://endhomelessness.org/homelessness-in-america/homelessness-statistics/state-of-homelessness-2021/\n",
    "The data sources listed on this website are particularly interesting because they give the factors that go into homelessness, which aims to help us understand how we can solve it. When looking at homelessness by race I noticed that White people had the highest amount of homeless people, but when you switch it to rate per 10,000 people, the category Pacific Islanders switches to the top. This goes back to in class when we talked about the importance of weighted averages. We can analyze how the history of the United States goes into the factors of who experiences homelessness in this country.\n",
    "\n",
    "3. Homelessness by Population CSV File. \n",
    "\n",
    "Link: https://datalab.usaspending.gov/homelessness-analysis/ \n",
    "\n",
    "This is the data we will be importing below.\n",
    "\n",
    "This data is interesting because it includes different columns that describes different factors that are attributed with homelessness such as age and whether or not they are in a family. The data set lists multiple cities per state to give a better understanding of homelessness in different areas of each state. Each state has two cities as observations depending on its population density."
   ]
  },
  {
   "cell_type": "code",
   "execution_count": 33,
   "metadata": {},
   "outputs": [
    {
     "data": {
      "text/html": [
       "<style>.container { width:95% !important; }</style>"
      ],
      "text/plain": [
       "<IPython.core.display.HTML object>"
      ]
     },
     "metadata": {},
     "output_type": "display_data"
    }
   ],
   "source": [
    "import requests\n",
    "import json\n",
    "import pandas as pd\n",
    "import numpy as np\n",
    "import io\n",
    "from bs4 import BeautifulSoup\n",
    "# These two things are for Pandas, it widens the notebook and lets us display data easily.\n",
    "from IPython.core.display import display, HTML\n",
    "display(HTML(\"<style>.container { width:95% !important; }</style>\"))\n",
    "\n",
    "#reading in dataset from https://datalab.usaspending.gov/homelessness-analysis/ \n",
    "\n",
    "\"\"\" We talked about this data in the above cell. People experiencing homelessness are counted once a year in January by the US Department of Housing and Urban Development Continuum of Care Program.\n",
    "This dataframe lists the Continuum of Care regions listed by state and local governments and different factors regarding homelessness as their observations. The people collecting the data may use a census approach, sampling approach or a combination of the methods.\n",
    "This data is from November 2019 and is categorized by a bunch of diffrent columns such as whether or not a person is sheltered, discussing age, whether or not they have a family, and whether or not they are verterans.\n",
    "\"\"\"\n",
    "\n",
    "headers = {'User-Agent': 'Mozilla/5.0 (Macintosh; Intel Mac OS X 10_10_1) AppleWebKit/537.36 (KHTML, like Gecko) Chrome/39.0.2171.95 Safari/537.36'} \n",
    "#hud2020 = pd.read_excel(r, sheet_name = 1)\n",
    "url = \"https://www.huduser.gov/portal/sites/default/files/xls/2007-2020-PIT-Estimates-by-state.xlsx\"\n",
    "\n",
    "r = requests.get(url=url, headers= headers)\n",
    "\n",
    "#df = pd.read_csv(io.StringIO(x.decode('utf8')))"
   ]
  },
  {
   "cell_type": "code",
   "execution_count": 2,
   "metadata": {},
   "outputs": [
    {
     "ename": "NameError",
     "evalue": "name 'pd' is not defined",
     "output_type": "error",
     "traceback": [
      "\u001b[0;31m---------------------------------------------------------------------------\u001b[0m",
      "\u001b[0;31mNameError\u001b[0m                                 Traceback (most recent call last)",
      "\u001b[0;32m<ipython-input-2-63e78c95c234>\u001b[0m in \u001b[0;36m<module>\u001b[0;34m\u001b[0m\n\u001b[0;32m----> 1\u001b[0;31m \u001b[0mpd\u001b[0m\u001b[0;34m.\u001b[0m\u001b[0mread_csv\u001b[0m\u001b[0;34m(\u001b[0m\u001b[0;34m\"../HUD2020.csv\"\u001b[0m\u001b[0;34m)\u001b[0m\u001b[0;34m\u001b[0m\u001b[0;34m\u001b[0m\u001b[0m\n\u001b[0m",
      "\u001b[0;31mNameError\u001b[0m: name 'pd' is not defined"
     ]
    }
   ],
   "source": [
    "pd.read_csv(\"../HUD2020.csv\")"
   ]
  },
  {
   "cell_type": "code",
   "execution_count": null,
   "metadata": {},
   "outputs": [],
   "source": [
    "df.info(verbose=True)"
   ]
  }
 ],
 "metadata": {
  "kernelspec": {
   "display_name": "Python 3",
   "language": "python",
   "name": "python3"
  },
  "language_info": {
   "codemirror_mode": {
    "name": "ipython",
    "version": 3
   },
   "file_extension": ".py",
   "mimetype": "text/x-python",
   "name": "python",
   "nbconvert_exporter": "python",
   "pygments_lexer": "ipython3",
   "version": "3.8.5"
  }
 },
 "nbformat": 4,
 "nbformat_minor": 4
}
